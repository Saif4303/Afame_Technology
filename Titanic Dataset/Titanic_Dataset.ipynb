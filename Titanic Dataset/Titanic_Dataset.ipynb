{
 "cells": [
  {
   "cell_type": "markdown",
   "id": "a93dd92b",
   "metadata": {},
   "source": [
    "## Introduction:\n",
    "\n",
    "   **The sinking of the RMS Titanic on April 15, 1912, remains one of the most infamous maritime disasters in history. The tragic event claimed the lives of over 1,500 passengers and crew members, highlighting the vulnerabilities and shortcomings of the safety measures in place at the time. In recent years, the Titanic dataset has become a popular resource for data analysis and machine learning enthusiasts. This dataset, which contains information about passengers onboard, has been widely used to explore patterns, predict survival outcomes, and gain insights into the factors that influenced survival rates.**"
   ]
  },
  {
   "cell_type": "markdown",
   "id": "739322b7",
   "metadata": {},
   "source": [
    "## Domain Analysis:\n",
    "\n",
    "**The Titanic dataset is a rich source of information about the passengers who were aboard the ill-fated ship. It includes details such as the passengers' names, ages, genders, ticket classes, embarkation points, and whether they survived or perished. This dataset provides a snapshot of the socio-economic and demographic characteristics of the passengers, offering researchers an opportunity to delve into the dynamics of survival based on various factors. The domain analysis involves understanding the context of the dataset, exploring the relationships between different variables, and extracting meaningful patterns that can contribute to a deeper understanding of the events surrounding the Titanic disaster.**"
   ]
  },
  {
   "cell_type": "markdown",
   "id": "2a422eaa",
   "metadata": {},
   "source": [
    "## Problem Statement:\n",
    "\n",
    "**The problem at hand is to analyze the Titanic dataset and develop predictive models to determine the likelihood of a passenger surviving the disaster. This involves exploring the relationships between various features in the dataset and building a model that can accurately predict whether a given passenger survived or not. Additionally, the analysis aims to identify key factors that played a significant role in determining survival outcomes, shedding light on the socio-economic and demographic aspects that influenced the chances of survival during this historic tragedy. Through data-driven insights, the goal is to contribute to a better understanding of the factors that affected survival rates on the Titanic and to showcase the potential applications of data analysis in historical events.**"
   ]
  },
  {
   "cell_type": "markdown",
   "id": "80250efc",
   "metadata": {},
   "source": [
    "## Importing Libraries"
   ]
  },
  {
   "cell_type": "code",
   "execution_count": 1,
   "id": "95a2376e",
   "metadata": {},
   "outputs": [],
   "source": [
    "import numpy as np\n",
    "import pandas as pd\n",
    "import matplotlib.pyplot as plt\n",
    "import seaborn as sns\n",
    "import warnings \n",
    "warnings.filterwarnings('ignore')"
   ]
  },
  {
   "cell_type": "markdown",
   "id": "e8a5c20f",
   "metadata": {},
   "source": [
    "## Loading Data"
   ]
  },
  {
   "cell_type": "code",
   "execution_count": 2,
   "id": "405d9fc0",
   "metadata": {},
   "outputs": [],
   "source": [
    "data = pd.read_csv('Titanic-Dataset.csv')"
   ]
  },
  {
   "cell_type": "markdown",
   "id": "931dbf64",
   "metadata": {},
   "source": [
    "## Basic Checks"
   ]
  },
  {
   "cell_type": "code",
   "execution_count": 3,
   "id": "2459ee5a",
   "metadata": {},
   "outputs": [
    {
     "data": {
      "text/html": [
       "<div>\n",
       "<style scoped>\n",
       "    .dataframe tbody tr th:only-of-type {\n",
       "        vertical-align: middle;\n",
       "    }\n",
       "\n",
       "    .dataframe tbody tr th {\n",
       "        vertical-align: top;\n",
       "    }\n",
       "\n",
       "    .dataframe thead th {\n",
       "        text-align: right;\n",
       "    }\n",
       "</style>\n",
       "<table border=\"1\" class=\"dataframe\">\n",
       "  <thead>\n",
       "    <tr style=\"text-align: right;\">\n",
       "      <th></th>\n",
       "      <th>PassengerId</th>\n",
       "      <th>Survived</th>\n",
       "      <th>Pclass</th>\n",
       "      <th>Name</th>\n",
       "      <th>Sex</th>\n",
       "      <th>Age</th>\n",
       "      <th>SibSp</th>\n",
       "      <th>Parch</th>\n",
       "      <th>Ticket</th>\n",
       "      <th>Fare</th>\n",
       "      <th>Cabin</th>\n",
       "      <th>Embarked</th>\n",
       "    </tr>\n",
       "  </thead>\n",
       "  <tbody>\n",
       "    <tr>\n",
       "      <th>0</th>\n",
       "      <td>1</td>\n",
       "      <td>0</td>\n",
       "      <td>3</td>\n",
       "      <td>Braund, Mr. Owen Harris</td>\n",
       "      <td>male</td>\n",
       "      <td>22.0</td>\n",
       "      <td>1</td>\n",
       "      <td>0</td>\n",
       "      <td>A/5 21171</td>\n",
       "      <td>7.2500</td>\n",
       "      <td>NaN</td>\n",
       "      <td>S</td>\n",
       "    </tr>\n",
       "    <tr>\n",
       "      <th>1</th>\n",
       "      <td>2</td>\n",
       "      <td>1</td>\n",
       "      <td>1</td>\n",
       "      <td>Cumings, Mrs. John Bradley (Florence Briggs Th...</td>\n",
       "      <td>female</td>\n",
       "      <td>38.0</td>\n",
       "      <td>1</td>\n",
       "      <td>0</td>\n",
       "      <td>PC 17599</td>\n",
       "      <td>71.2833</td>\n",
       "      <td>C85</td>\n",
       "      <td>C</td>\n",
       "    </tr>\n",
       "    <tr>\n",
       "      <th>2</th>\n",
       "      <td>3</td>\n",
       "      <td>1</td>\n",
       "      <td>3</td>\n",
       "      <td>Heikkinen, Miss. Laina</td>\n",
       "      <td>female</td>\n",
       "      <td>26.0</td>\n",
       "      <td>0</td>\n",
       "      <td>0</td>\n",
       "      <td>STON/O2. 3101282</td>\n",
       "      <td>7.9250</td>\n",
       "      <td>NaN</td>\n",
       "      <td>S</td>\n",
       "    </tr>\n",
       "    <tr>\n",
       "      <th>3</th>\n",
       "      <td>4</td>\n",
       "      <td>1</td>\n",
       "      <td>1</td>\n",
       "      <td>Futrelle, Mrs. Jacques Heath (Lily May Peel)</td>\n",
       "      <td>female</td>\n",
       "      <td>35.0</td>\n",
       "      <td>1</td>\n",
       "      <td>0</td>\n",
       "      <td>113803</td>\n",
       "      <td>53.1000</td>\n",
       "      <td>C123</td>\n",
       "      <td>S</td>\n",
       "    </tr>\n",
       "    <tr>\n",
       "      <th>4</th>\n",
       "      <td>5</td>\n",
       "      <td>0</td>\n",
       "      <td>3</td>\n",
       "      <td>Allen, Mr. William Henry</td>\n",
       "      <td>male</td>\n",
       "      <td>35.0</td>\n",
       "      <td>0</td>\n",
       "      <td>0</td>\n",
       "      <td>373450</td>\n",
       "      <td>8.0500</td>\n",
       "      <td>NaN</td>\n",
       "      <td>S</td>\n",
       "    </tr>\n",
       "  </tbody>\n",
       "</table>\n",
       "</div>"
      ],
      "text/plain": [
       "   PassengerId  Survived  Pclass  \\\n",
       "0            1         0       3   \n",
       "1            2         1       1   \n",
       "2            3         1       3   \n",
       "3            4         1       1   \n",
       "4            5         0       3   \n",
       "\n",
       "                                                Name     Sex   Age  SibSp  \\\n",
       "0                            Braund, Mr. Owen Harris    male  22.0      1   \n",
       "1  Cumings, Mrs. John Bradley (Florence Briggs Th...  female  38.0      1   \n",
       "2                             Heikkinen, Miss. Laina  female  26.0      0   \n",
       "3       Futrelle, Mrs. Jacques Heath (Lily May Peel)  female  35.0      1   \n",
       "4                           Allen, Mr. William Henry    male  35.0      0   \n",
       "\n",
       "   Parch            Ticket     Fare Cabin Embarked  \n",
       "0      0         A/5 21171   7.2500   NaN        S  \n",
       "1      0          PC 17599  71.2833   C85        C  \n",
       "2      0  STON/O2. 3101282   7.9250   NaN        S  \n",
       "3      0            113803  53.1000  C123        S  \n",
       "4      0            373450   8.0500   NaN        S  "
      ]
     },
     "execution_count": 3,
     "metadata": {},
     "output_type": "execute_result"
    }
   ],
   "source": [
    "data.head()"
   ]
  },
  {
   "cell_type": "code",
   "execution_count": 4,
   "id": "303ac3c7",
   "metadata": {},
   "outputs": [
    {
     "data": {
      "text/html": [
       "<div>\n",
       "<style scoped>\n",
       "    .dataframe tbody tr th:only-of-type {\n",
       "        vertical-align: middle;\n",
       "    }\n",
       "\n",
       "    .dataframe tbody tr th {\n",
       "        vertical-align: top;\n",
       "    }\n",
       "\n",
       "    .dataframe thead th {\n",
       "        text-align: right;\n",
       "    }\n",
       "</style>\n",
       "<table border=\"1\" class=\"dataframe\">\n",
       "  <thead>\n",
       "    <tr style=\"text-align: right;\">\n",
       "      <th></th>\n",
       "      <th>PassengerId</th>\n",
       "      <th>Survived</th>\n",
       "      <th>Pclass</th>\n",
       "      <th>Name</th>\n",
       "      <th>Sex</th>\n",
       "      <th>Age</th>\n",
       "      <th>SibSp</th>\n",
       "      <th>Parch</th>\n",
       "      <th>Ticket</th>\n",
       "      <th>Fare</th>\n",
       "      <th>Cabin</th>\n",
       "      <th>Embarked</th>\n",
       "    </tr>\n",
       "  </thead>\n",
       "  <tbody>\n",
       "    <tr>\n",
       "      <th>886</th>\n",
       "      <td>887</td>\n",
       "      <td>0</td>\n",
       "      <td>2</td>\n",
       "      <td>Montvila, Rev. Juozas</td>\n",
       "      <td>male</td>\n",
       "      <td>27.0</td>\n",
       "      <td>0</td>\n",
       "      <td>0</td>\n",
       "      <td>211536</td>\n",
       "      <td>13.00</td>\n",
       "      <td>NaN</td>\n",
       "      <td>S</td>\n",
       "    </tr>\n",
       "    <tr>\n",
       "      <th>887</th>\n",
       "      <td>888</td>\n",
       "      <td>1</td>\n",
       "      <td>1</td>\n",
       "      <td>Graham, Miss. Margaret Edith</td>\n",
       "      <td>female</td>\n",
       "      <td>19.0</td>\n",
       "      <td>0</td>\n",
       "      <td>0</td>\n",
       "      <td>112053</td>\n",
       "      <td>30.00</td>\n",
       "      <td>B42</td>\n",
       "      <td>S</td>\n",
       "    </tr>\n",
       "    <tr>\n",
       "      <th>888</th>\n",
       "      <td>889</td>\n",
       "      <td>0</td>\n",
       "      <td>3</td>\n",
       "      <td>Johnston, Miss. Catherine Helen \"Carrie\"</td>\n",
       "      <td>female</td>\n",
       "      <td>NaN</td>\n",
       "      <td>1</td>\n",
       "      <td>2</td>\n",
       "      <td>W./C. 6607</td>\n",
       "      <td>23.45</td>\n",
       "      <td>NaN</td>\n",
       "      <td>S</td>\n",
       "    </tr>\n",
       "    <tr>\n",
       "      <th>889</th>\n",
       "      <td>890</td>\n",
       "      <td>1</td>\n",
       "      <td>1</td>\n",
       "      <td>Behr, Mr. Karl Howell</td>\n",
       "      <td>male</td>\n",
       "      <td>26.0</td>\n",
       "      <td>0</td>\n",
       "      <td>0</td>\n",
       "      <td>111369</td>\n",
       "      <td>30.00</td>\n",
       "      <td>C148</td>\n",
       "      <td>C</td>\n",
       "    </tr>\n",
       "    <tr>\n",
       "      <th>890</th>\n",
       "      <td>891</td>\n",
       "      <td>0</td>\n",
       "      <td>3</td>\n",
       "      <td>Dooley, Mr. Patrick</td>\n",
       "      <td>male</td>\n",
       "      <td>32.0</td>\n",
       "      <td>0</td>\n",
       "      <td>0</td>\n",
       "      <td>370376</td>\n",
       "      <td>7.75</td>\n",
       "      <td>NaN</td>\n",
       "      <td>Q</td>\n",
       "    </tr>\n",
       "  </tbody>\n",
       "</table>\n",
       "</div>"
      ],
      "text/plain": [
       "     PassengerId  Survived  Pclass                                      Name  \\\n",
       "886          887         0       2                     Montvila, Rev. Juozas   \n",
       "887          888         1       1              Graham, Miss. Margaret Edith   \n",
       "888          889         0       3  Johnston, Miss. Catherine Helen \"Carrie\"   \n",
       "889          890         1       1                     Behr, Mr. Karl Howell   \n",
       "890          891         0       3                       Dooley, Mr. Patrick   \n",
       "\n",
       "        Sex   Age  SibSp  Parch      Ticket   Fare Cabin Embarked  \n",
       "886    male  27.0      0      0      211536  13.00   NaN        S  \n",
       "887  female  19.0      0      0      112053  30.00   B42        S  \n",
       "888  female   NaN      1      2  W./C. 6607  23.45   NaN        S  \n",
       "889    male  26.0      0      0      111369  30.00  C148        C  \n",
       "890    male  32.0      0      0      370376   7.75   NaN        Q  "
      ]
     },
     "execution_count": 4,
     "metadata": {},
     "output_type": "execute_result"
    }
   ],
   "source": [
    "data.tail()"
   ]
  },
  {
   "cell_type": "code",
   "execution_count": 5,
   "id": "efed5ce7",
   "metadata": {
    "scrolled": false
   },
   "outputs": [
    {
     "name": "stdout",
     "output_type": "stream",
     "text": [
      "<class 'pandas.core.frame.DataFrame'>\n",
      "RangeIndex: 891 entries, 0 to 890\n",
      "Data columns (total 12 columns):\n",
      " #   Column       Non-Null Count  Dtype  \n",
      "---  ------       --------------  -----  \n",
      " 0   PassengerId  891 non-null    int64  \n",
      " 1   Survived     891 non-null    int64  \n",
      " 2   Pclass       891 non-null    int64  \n",
      " 3   Name         891 non-null    object \n",
      " 4   Sex          891 non-null    object \n",
      " 5   Age          714 non-null    float64\n",
      " 6   SibSp        891 non-null    int64  \n",
      " 7   Parch        891 non-null    int64  \n",
      " 8   Ticket       891 non-null    object \n",
      " 9   Fare         891 non-null    float64\n",
      " 10  Cabin        204 non-null    object \n",
      " 11  Embarked     889 non-null    object \n",
      "dtypes: float64(2), int64(5), object(5)\n",
      "memory usage: 83.7+ KB\n"
     ]
    }
   ],
   "source": [
    "data.info()"
   ]
  },
  {
   "cell_type": "code",
   "execution_count": 6,
   "id": "a00df09e",
   "metadata": {},
   "outputs": [
    {
     "data": {
      "text/plain": [
       "Index(['PassengerId', 'Survived', 'Pclass', 'Name', 'Sex', 'Age', 'SibSp',\n",
       "       'Parch', 'Ticket', 'Fare', 'Cabin', 'Embarked'],\n",
       "      dtype='object')"
      ]
     },
     "execution_count": 6,
     "metadata": {},
     "output_type": "execute_result"
    }
   ],
   "source": [
    "data.columns"
   ]
  },
  {
   "cell_type": "code",
   "execution_count": 7,
   "id": "7ff3d171",
   "metadata": {},
   "outputs": [],
   "source": [
    "int_var = ['Survived', 'Pclass','Age', 'SibSp','Parch','Fare']\n",
    "obj_var = ['Sex','Cabin', 'Embarked','Ticket']"
   ]
  },
  {
   "cell_type": "code",
   "execution_count": 8,
   "id": "f7b23c6d",
   "metadata": {},
   "outputs": [
    {
     "data": {
      "text/plain": [
       "PassengerId      0\n",
       "Survived         0\n",
       "Pclass           0\n",
       "Name             0\n",
       "Sex              0\n",
       "Age            177\n",
       "SibSp            0\n",
       "Parch            0\n",
       "Ticket           0\n",
       "Fare             0\n",
       "Cabin          687\n",
       "Embarked         2\n",
       "dtype: int64"
      ]
     },
     "execution_count": 8,
     "metadata": {},
     "output_type": "execute_result"
    }
   ],
   "source": [
    "data.isnull().sum()"
   ]
  },
  {
   "cell_type": "markdown",
   "id": "61210039",
   "metadata": {},
   "source": [
    "- Insights -\n",
    "\n",
    "1. There are 12 columns and 418 rows in the dataset.\n",
    "2. Columns named 'Age','Fare','Cabin' contains null values."
   ]
  },
  {
   "cell_type": "code",
   "execution_count": 9,
   "id": "cc694178",
   "metadata": {},
   "outputs": [
    {
     "data": {
      "text/html": [
       "<div>\n",
       "<style scoped>\n",
       "    .dataframe tbody tr th:only-of-type {\n",
       "        vertical-align: middle;\n",
       "    }\n",
       "\n",
       "    .dataframe tbody tr th {\n",
       "        vertical-align: top;\n",
       "    }\n",
       "\n",
       "    .dataframe thead th {\n",
       "        text-align: right;\n",
       "    }\n",
       "</style>\n",
       "<table border=\"1\" class=\"dataframe\">\n",
       "  <thead>\n",
       "    <tr style=\"text-align: right;\">\n",
       "      <th></th>\n",
       "      <th>PassengerId</th>\n",
       "      <th>Survived</th>\n",
       "      <th>Pclass</th>\n",
       "      <th>Age</th>\n",
       "      <th>SibSp</th>\n",
       "      <th>Parch</th>\n",
       "      <th>Fare</th>\n",
       "    </tr>\n",
       "  </thead>\n",
       "  <tbody>\n",
       "    <tr>\n",
       "      <th>count</th>\n",
       "      <td>891.000000</td>\n",
       "      <td>891.000000</td>\n",
       "      <td>891.000000</td>\n",
       "      <td>714.000000</td>\n",
       "      <td>891.000000</td>\n",
       "      <td>891.000000</td>\n",
       "      <td>891.000000</td>\n",
       "    </tr>\n",
       "    <tr>\n",
       "      <th>mean</th>\n",
       "      <td>446.000000</td>\n",
       "      <td>0.383838</td>\n",
       "      <td>2.308642</td>\n",
       "      <td>29.699118</td>\n",
       "      <td>0.523008</td>\n",
       "      <td>0.381594</td>\n",
       "      <td>32.204208</td>\n",
       "    </tr>\n",
       "    <tr>\n",
       "      <th>std</th>\n",
       "      <td>257.353842</td>\n",
       "      <td>0.486592</td>\n",
       "      <td>0.836071</td>\n",
       "      <td>14.526497</td>\n",
       "      <td>1.102743</td>\n",
       "      <td>0.806057</td>\n",
       "      <td>49.693429</td>\n",
       "    </tr>\n",
       "    <tr>\n",
       "      <th>min</th>\n",
       "      <td>1.000000</td>\n",
       "      <td>0.000000</td>\n",
       "      <td>1.000000</td>\n",
       "      <td>0.420000</td>\n",
       "      <td>0.000000</td>\n",
       "      <td>0.000000</td>\n",
       "      <td>0.000000</td>\n",
       "    </tr>\n",
       "    <tr>\n",
       "      <th>25%</th>\n",
       "      <td>223.500000</td>\n",
       "      <td>0.000000</td>\n",
       "      <td>2.000000</td>\n",
       "      <td>20.125000</td>\n",
       "      <td>0.000000</td>\n",
       "      <td>0.000000</td>\n",
       "      <td>7.910400</td>\n",
       "    </tr>\n",
       "    <tr>\n",
       "      <th>50%</th>\n",
       "      <td>446.000000</td>\n",
       "      <td>0.000000</td>\n",
       "      <td>3.000000</td>\n",
       "      <td>28.000000</td>\n",
       "      <td>0.000000</td>\n",
       "      <td>0.000000</td>\n",
       "      <td>14.454200</td>\n",
       "    </tr>\n",
       "    <tr>\n",
       "      <th>75%</th>\n",
       "      <td>668.500000</td>\n",
       "      <td>1.000000</td>\n",
       "      <td>3.000000</td>\n",
       "      <td>38.000000</td>\n",
       "      <td>1.000000</td>\n",
       "      <td>0.000000</td>\n",
       "      <td>31.000000</td>\n",
       "    </tr>\n",
       "    <tr>\n",
       "      <th>max</th>\n",
       "      <td>891.000000</td>\n",
       "      <td>1.000000</td>\n",
       "      <td>3.000000</td>\n",
       "      <td>80.000000</td>\n",
       "      <td>8.000000</td>\n",
       "      <td>6.000000</td>\n",
       "      <td>512.329200</td>\n",
       "    </tr>\n",
       "  </tbody>\n",
       "</table>\n",
       "</div>"
      ],
      "text/plain": [
       "       PassengerId    Survived      Pclass         Age       SibSp  \\\n",
       "count   891.000000  891.000000  891.000000  714.000000  891.000000   \n",
       "mean    446.000000    0.383838    2.308642   29.699118    0.523008   \n",
       "std     257.353842    0.486592    0.836071   14.526497    1.102743   \n",
       "min       1.000000    0.000000    1.000000    0.420000    0.000000   \n",
       "25%     223.500000    0.000000    2.000000   20.125000    0.000000   \n",
       "50%     446.000000    0.000000    3.000000   28.000000    0.000000   \n",
       "75%     668.500000    1.000000    3.000000   38.000000    1.000000   \n",
       "max     891.000000    1.000000    3.000000   80.000000    8.000000   \n",
       "\n",
       "            Parch        Fare  \n",
       "count  891.000000  891.000000  \n",
       "mean     0.381594   32.204208  \n",
       "std      0.806057   49.693429  \n",
       "min      0.000000    0.000000  \n",
       "25%      0.000000    7.910400  \n",
       "50%      0.000000   14.454200  \n",
       "75%      0.000000   31.000000  \n",
       "max      6.000000  512.329200  "
      ]
     },
     "execution_count": 9,
     "metadata": {},
     "output_type": "execute_result"
    }
   ],
   "source": [
    "data.describe()"
   ]
  },
  {
   "cell_type": "code",
   "execution_count": 10,
   "id": "2e95e3ec",
   "metadata": {},
   "outputs": [
    {
     "data": {
      "text/html": [
       "<div>\n",
       "<style scoped>\n",
       "    .dataframe tbody tr th:only-of-type {\n",
       "        vertical-align: middle;\n",
       "    }\n",
       "\n",
       "    .dataframe tbody tr th {\n",
       "        vertical-align: top;\n",
       "    }\n",
       "\n",
       "    .dataframe thead th {\n",
       "        text-align: right;\n",
       "    }\n",
       "</style>\n",
       "<table border=\"1\" class=\"dataframe\">\n",
       "  <thead>\n",
       "    <tr style=\"text-align: right;\">\n",
       "      <th></th>\n",
       "      <th>Name</th>\n",
       "      <th>Sex</th>\n",
       "      <th>Ticket</th>\n",
       "      <th>Cabin</th>\n",
       "      <th>Embarked</th>\n",
       "    </tr>\n",
       "  </thead>\n",
       "  <tbody>\n",
       "    <tr>\n",
       "      <th>count</th>\n",
       "      <td>891</td>\n",
       "      <td>891</td>\n",
       "      <td>891</td>\n",
       "      <td>204</td>\n",
       "      <td>889</td>\n",
       "    </tr>\n",
       "    <tr>\n",
       "      <th>unique</th>\n",
       "      <td>891</td>\n",
       "      <td>2</td>\n",
       "      <td>681</td>\n",
       "      <td>147</td>\n",
       "      <td>3</td>\n",
       "    </tr>\n",
       "    <tr>\n",
       "      <th>top</th>\n",
       "      <td>Braund, Mr. Owen Harris</td>\n",
       "      <td>male</td>\n",
       "      <td>347082</td>\n",
       "      <td>B96 B98</td>\n",
       "      <td>S</td>\n",
       "    </tr>\n",
       "    <tr>\n",
       "      <th>freq</th>\n",
       "      <td>1</td>\n",
       "      <td>577</td>\n",
       "      <td>7</td>\n",
       "      <td>4</td>\n",
       "      <td>644</td>\n",
       "    </tr>\n",
       "  </tbody>\n",
       "</table>\n",
       "</div>"
      ],
      "text/plain": [
       "                           Name   Sex  Ticket    Cabin Embarked\n",
       "count                       891   891     891      204      889\n",
       "unique                      891     2     681      147        3\n",
       "top     Braund, Mr. Owen Harris  male  347082  B96 B98        S\n",
       "freq                          1   577       7        4      644"
      ]
     },
     "execution_count": 10,
     "metadata": {},
     "output_type": "execute_result"
    }
   ],
   "source": [
    "data.describe(include='O')"
   ]
  },
  {
   "cell_type": "code",
   "execution_count": 11,
   "id": "2dceb74c",
   "metadata": {},
   "outputs": [
    {
     "data": {
      "text/plain": [
       "0"
      ]
     },
     "execution_count": 11,
     "metadata": {},
     "output_type": "execute_result"
    }
   ],
   "source": [
    "data.duplicated().sum()"
   ]
  },
  {
   "cell_type": "markdown",
   "id": "1f84a3e9",
   "metadata": {},
   "source": [
    "- Insights\n",
    "1. There are no constant columns.\n",
    "2. No duplicate values."
   ]
  },
  {
   "cell_type": "markdown",
   "id": "67114cd0",
   "metadata": {},
   "source": [
    "## Exploratory Data Analysis"
   ]
  },
  {
   "cell_type": "code",
   "execution_count": 12,
   "id": "e7659a42",
   "metadata": {},
   "outputs": [
    {
     "name": "stdout",
     "output_type": "stream",
     "text": [
      "Defaulting to user installation because normal site-packages is not writeable\n",
      "Requirement already satisfied: SWEETVIZ in c:\\users\\asif ali khan\\appdata\\roaming\\python\\python311\\site-packages (2.2.1)\n",
      "Requirement already satisfied: pandas!=1.0.0,!=1.0.1,!=1.0.2,>=0.25.3 in c:\\programdata\\anaconda3\\lib\\site-packages (from SWEETVIZ) (1.5.3)\n",
      "Requirement already satisfied: numpy>=1.16.0 in c:\\programdata\\anaconda3\\lib\\site-packages (from SWEETVIZ) (1.24.3)\n",
      "Requirement already satisfied: matplotlib>=3.1.3 in c:\\programdata\\anaconda3\\lib\\site-packages (from SWEETVIZ) (3.7.1)\n",
      "Requirement already satisfied: tqdm>=4.43.0 in c:\\programdata\\anaconda3\\lib\\site-packages (from SWEETVIZ) (4.65.0)\n",
      "Requirement already satisfied: scipy>=1.3.2 in c:\\programdata\\anaconda3\\lib\\site-packages (from SWEETVIZ) (1.10.1)\n",
      "Requirement already satisfied: jinja2>=2.11.1 in c:\\programdata\\anaconda3\\lib\\site-packages (from SWEETVIZ) (3.1.2)\n",
      "Requirement already satisfied: importlib-resources>=1.2.0 in c:\\users\\asif ali khan\\appdata\\roaming\\python\\python311\\site-packages (from SWEETVIZ) (6.1.0)\n",
      "Requirement already satisfied: MarkupSafe>=2.0 in c:\\programdata\\anaconda3\\lib\\site-packages (from jinja2>=2.11.1->SWEETVIZ) (2.1.1)\n",
      "Requirement already satisfied: contourpy>=1.0.1 in c:\\programdata\\anaconda3\\lib\\site-packages (from matplotlib>=3.1.3->SWEETVIZ) (1.0.5)\n",
      "Requirement already satisfied: cycler>=0.10 in c:\\programdata\\anaconda3\\lib\\site-packages (from matplotlib>=3.1.3->SWEETVIZ) (0.11.0)\n",
      "Requirement already satisfied: fonttools>=4.22.0 in c:\\programdata\\anaconda3\\lib\\site-packages (from matplotlib>=3.1.3->SWEETVIZ) (4.25.0)\n",
      "Requirement already satisfied: kiwisolver>=1.0.1 in c:\\programdata\\anaconda3\\lib\\site-packages (from matplotlib>=3.1.3->SWEETVIZ) (1.4.4)\n",
      "Requirement already satisfied: packaging>=20.0 in c:\\programdata\\anaconda3\\lib\\site-packages (from matplotlib>=3.1.3->SWEETVIZ) (23.0)\n",
      "Requirement already satisfied: pillow>=6.2.0 in c:\\programdata\\anaconda3\\lib\\site-packages (from matplotlib>=3.1.3->SWEETVIZ) (9.4.0)\n",
      "Requirement already satisfied: pyparsing>=2.3.1 in c:\\programdata\\anaconda3\\lib\\site-packages (from matplotlib>=3.1.3->SWEETVIZ) (3.0.9)\n",
      "Requirement already satisfied: python-dateutil>=2.7 in c:\\programdata\\anaconda3\\lib\\site-packages (from matplotlib>=3.1.3->SWEETVIZ) (2.8.2)\n",
      "Requirement already satisfied: pytz>=2020.1 in c:\\programdata\\anaconda3\\lib\\site-packages (from pandas!=1.0.0,!=1.0.1,!=1.0.2,>=0.25.3->SWEETVIZ) (2022.7)\n",
      "Requirement already satisfied: colorama in c:\\programdata\\anaconda3\\lib\\site-packages (from tqdm>=4.43.0->SWEETVIZ) (0.4.6)\n",
      "Requirement already satisfied: six>=1.5 in c:\\programdata\\anaconda3\\lib\\site-packages (from python-dateutil>=2.7->matplotlib>=3.1.3->SWEETVIZ) (1.16.0)\n"
     ]
    }
   ],
   "source": [
    "!pip install SWEETVIZ\n"
   ]
  },
  {
   "cell_type": "code",
   "execution_count": 13,
   "id": "e48ad92d",
   "metadata": {},
   "outputs": [
    {
     "data": {
      "application/vnd.jupyter.widget-view+json": {
       "model_id": "27e97b8edc5a4a89821bd2e03d3989c7",
       "version_major": 2,
       "version_minor": 0
      },
      "text/plain": [
       "                                             |                                             | [  0%]   00:00 ->…"
      ]
     },
     "metadata": {},
     "output_type": "display_data"
    },
    {
     "name": "stdout",
     "output_type": "stream",
     "text": [
      "Report SWEETVIZ_REPORT.html was generated! NOTEBOOK/COLAB USERS: the web browser MAY not pop up, regardless, the report IS saved in your notebook/colab files.\n"
     ]
    }
   ],
   "source": [
    "import sweetviz as sv \n",
    "my_report = sv.analyze(data)\n",
    "my_report.show_html()"
   ]
  },
  {
   "cell_type": "code",
   "execution_count": 14,
   "id": "3a3154da",
   "metadata": {
    "scrolled": false
   },
   "outputs": [
    {
     "data": {
      "image/png": "[encoded data removed]",
      "text/plain": [
       "<Figure size 1500x1000 with 6 Axes>"
      ]
     },
     "metadata": {},
     "output_type": "display_data"
    }
   ],
   "source": [
    "plt.figure(figsize=(15,10),facecolor='yellowgreen')\n",
    "plotnum=1\n",
    "for i in int_var:\n",
    "    plt.subplot(3,3,plotnum)\n",
    "    sns.histplot(data[i])\n",
    "    plotnum+=1\n",
    "plt.tight_layout()\n",
    "plt.show()\n",
    "    "
   ]
  },
  {
   "cell_type": "markdown",
   "id": "f3fccc91",
   "metadata": {},
   "source": [
    "**Insights**\n",
    "\n",
    "- Almost 60% of the passengers died in the accident.\n",
    "- Most of the passengers were travelling in Pclass 3.\n",
    "- Majority of the passengers falls between the age group 15 to 50.\n",
    "- Fare of mojority passengers lies between 0 to 100.\n"
   ]
  },
  {
   "cell_type": "code",
   "execution_count": 15,
   "id": "6cf68ecd",
   "metadata": {},
   "outputs": [
    {
     "data": {
      "image/png": "[encoded data removed]",
      "text/plain": [
       "<Figure size 1000x1000 with 4 Axes>"
      ]
     },
     "metadata": {},
     "output_type": "display_data"
    }
   ],
   "source": [
    "plt.figure(figsize=(10,10),facecolor='seagreen')\n",
    "plotnum=1\n",
    "for i in obj_var:\n",
    "    plt.subplot(3,3,plotnum)\n",
    "    sns.countplot(x=data[i])\n",
    "    plotnum+=1\n",
    "plt.tight_layout()\n",
    "plt.show()"
   ]
  },
  {
   "cell_type": "markdown",
   "id": "1645c83f",
   "metadata": {},
   "source": [
    "**Insights**\n",
    "- 65% of the passengers were male and rest 35% were female."
   ]
  },
  {
   "cell_type": "code",
   "execution_count": 16,
   "id": "84e04f3b",
   "metadata": {},
   "outputs": [
    {
     "data": {
      "image/png": "[encoded data removed]",
      "text/plain": [
       "<Figure size 2000x1500 with 11 Axes>"
      ]
     },
     "metadata": {},
     "output_type": "display_data"
    }
   ],
   "source": [
    "# Bivariate \n",
    "plt.figure(figsize=(20,15),facecolor='white')\n",
    "plotnum=1\n",
    "for i in data.drop('Survived',axis=1).columns:\n",
    "    plt.subplot(3,4,plotnum)\n",
    "    sns.scatterplot(x=data[i],y=data['Survived'])\n",
    "    plotnum+=1\n",
    "plt.tight_layout()\n",
    "plt.show()"
   ]
  },
  {
   "cell_type": "markdown",
   "id": "2fbf0daa",
   "metadata": {},
   "source": [
    "**Insights**\n",
    "- No such strong correlation were found."
   ]
  },
  {
   "cell_type": "markdown",
   "id": "6b1806ea",
   "metadata": {},
   "source": [
    "## Data Preprocessing"
   ]
  },
  {
   "cell_type": "markdown",
   "id": "302639e1",
   "metadata": {},
   "source": [
    "### Handling null values"
   ]
  },
  {
   "cell_type": "code",
   "execution_count": 17,
   "id": "4c4f7e38",
   "metadata": {},
   "outputs": [
    {
     "data": {
      "text/plain": [
       "PassengerId      0\n",
       "Survived         0\n",
       "Pclass           0\n",
       "Name             0\n",
       "Sex              0\n",
       "Age            177\n",
       "SibSp            0\n",
       "Parch            0\n",
       "Ticket           0\n",
       "Fare             0\n",
       "Cabin          687\n",
       "Embarked         2\n",
       "dtype: int64"
      ]
     },
     "execution_count": 17,
     "metadata": {},
     "output_type": "execute_result"
    }
   ],
   "source": [
    "data.isnull().sum()"
   ]
  },
  {
   "cell_type": "code",
   "execution_count": 18,
   "id": "459f72c0",
   "metadata": {},
   "outputs": [
    {
     "data": {
      "text/plain": [
       "0    S\n",
       "Name: Embarked, dtype: object"
      ]
     },
     "execution_count": 18,
     "metadata": {},
     "output_type": "execute_result"
    }
   ],
   "source": [
    "data['Embarked'].mode()"
   ]
  },
  {
   "cell_type": "code",
   "execution_count": 19,
   "id": "70b8a8d4",
   "metadata": {},
   "outputs": [],
   "source": [
    "data.loc[data['Age'].isnull(),'Age']=data['Age'].median()"
   ]
  },
  {
   "cell_type": "code",
   "execution_count": 20,
   "id": "57debb7f",
   "metadata": {},
   "outputs": [],
   "source": [
    "data.loc[data['Fare'].isnull(),'Fare']=data['Fare'].median()"
   ]
  },
  {
   "cell_type": "code",
   "execution_count": 21,
   "id": "f8770d35",
   "metadata": {},
   "outputs": [],
   "source": [
    "data.loc[data['Cabin'].isnull(),'Cabin']='B57'"
   ]
  },
  {
   "cell_type": "code",
   "execution_count": 22,
   "id": "1bc13b1b",
   "metadata": {},
   "outputs": [],
   "source": [
    "data.loc[data['Embarked'].isnull(),'Embarked']=1.0"
   ]
  },
  {
   "cell_type": "code",
   "execution_count": 23,
   "id": "64cf63e4",
   "metadata": {},
   "outputs": [
    {
     "data": {
      "text/plain": [
       "PassengerId    0\n",
       "Survived       0\n",
       "Pclass         0\n",
       "Name           0\n",
       "Sex            0\n",
       "Age            0\n",
       "SibSp          0\n",
       "Parch          0\n",
       "Ticket         0\n",
       "Fare           0\n",
       "Cabin          0\n",
       "Embarked       0\n",
       "dtype: int64"
      ]
     },
     "execution_count": 23,
     "metadata": {},
     "output_type": "execute_result"
    }
   ],
   "source": [
    "data.isnull().sum()"
   ]
  },
  {
   "cell_type": "markdown",
   "id": "d5ab9cad",
   "metadata": {},
   "source": [
    "### Handling outliers"
   ]
  },
  {
   "cell_type": "code",
   "execution_count": 24,
   "id": "c75593f6",
   "metadata": {},
   "outputs": [
    {
     "data": {
      "image/png": "[encoded data removed]",
      "text/plain": [
       "<Figure size 1500x1000 with 6 Axes>"
      ]
     },
     "metadata": {},
     "output_type": "display_data"
    }
   ],
   "source": [
    "plt.figure(figsize=(15,10),facecolor='yellowgreen')\n",
    "plotnum=1\n",
    "for i in int_var:\n",
    "    plt.subplot(3,3,plotnum)\n",
    "    sns.boxplot(x=data[i])\n",
    "    plotnum+=1\n",
    "plt.tight_layout()\n",
    "plt.show()"
   ]
  },
  {
   "cell_type": "code",
   "execution_count": 25,
   "id": "6a65717a",
   "metadata": {},
   "outputs": [],
   "source": [
    "data.loc[data['Fare']>100,'Fare']=14.4542"
   ]
  },
  {
   "cell_type": "code",
   "execution_count": 26,
   "id": "2295fd67",
   "metadata": {},
   "outputs": [],
   "source": [
    "data.loc[data['Age']>70,'Age']=data['Age'].median()\n",
    "data.loc[data['Age']<5,'Age']=data['Age'].median()"
   ]
  },
  {
   "cell_type": "code",
   "execution_count": 27,
   "id": "b674c15e",
   "metadata": {},
   "outputs": [
    {
     "data": {
      "image/png": "[encoded data removed]",
      "text/plain": [
       "<Figure size 1500x1000 with 6 Axes>"
      ]
     },
     "metadata": {},
     "output_type": "display_data"
    }
   ],
   "source": [
    "plt.figure(figsize=(15,10),facecolor='yellowgreen')\n",
    "plotnum=1\n",
    "for i in int_var:\n",
    "    plt.subplot(3,3,plotnum)\n",
    "    sns.boxplot(x=data[i])\n",
    "    plotnum+=1\n",
    "plt.tight_layout()\n",
    "plt.show()"
   ]
  },
  {
   "cell_type": "markdown",
   "id": "70cee24c",
   "metadata": {},
   "source": [
    "### Converting categorical data"
   ]
  },
  {
   "cell_type": "code",
   "execution_count": 28,
   "id": "29828021",
   "metadata": {},
   "outputs": [
    {
     "name": "stdout",
     "output_type": "stream",
     "text": [
      "<class 'pandas.core.frame.DataFrame'>\n",
      "RangeIndex: 891 entries, 0 to 890\n",
      "Data columns (total 12 columns):\n",
      " #   Column       Non-Null Count  Dtype  \n",
      "---  ------       --------------  -----  \n",
      " 0   PassengerId  891 non-null    int64  \n",
      " 1   Survived     891 non-null    int64  \n",
      " 2   Pclass       891 non-null    int64  \n",
      " 3   Name         891 non-null    object \n",
      " 4   Sex          891 non-null    object \n",
      " 5   Age          891 non-null    float64\n",
      " 6   SibSp        891 non-null    int64  \n",
      " 7   Parch        891 non-null    int64  \n",
      " 8   Ticket       891 non-null    object \n",
      " 9   Fare         891 non-null    float64\n",
      " 10  Cabin        891 non-null    object \n",
      " 11  Embarked     891 non-null    object \n",
      "dtypes: float64(2), int64(5), object(5)\n",
      "memory usage: 83.7+ KB\n"
     ]
    }
   ],
   "source": [
    "data.info()"
   ]
  },
  {
   "cell_type": "code",
   "execution_count": 29,
   "id": "b7afc00c",
   "metadata": {},
   "outputs": [],
   "source": [
    "data.Sex = data.Sex.map({'male':0,'female':1})"
   ]
  },
  {
   "cell_type": "code",
   "execution_count": 30,
   "id": "8f2c7b9b",
   "metadata": {},
   "outputs": [],
   "source": [
    "data.Embarked = data.Embarked.map({'Q':0,'S':1,'C':2})"
   ]
  },
  {
   "cell_type": "code",
   "execution_count": 31,
   "id": "a46dcac1",
   "metadata": {},
   "outputs": [],
   "source": [
    "from sklearn.preprocessing import LabelEncoder\n",
    "lb = LabelEncoder()\n",
    "data.Cabin=lb.fit_transform(data.Cabin)"
   ]
  },
  {
   "cell_type": "code",
   "execution_count": 32,
   "id": "8e9ce507",
   "metadata": {},
   "outputs": [
    {
     "data": {
      "text/html": [
       "<div>\n",
       "<style scoped>\n",
       "    .dataframe tbody tr th:only-of-type {\n",
       "        vertical-align: middle;\n",
       "    }\n",
       "\n",
       "    .dataframe tbody tr th {\n",
       "        vertical-align: top;\n",
       "    }\n",
       "\n",
       "    .dataframe thead th {\n",
       "        text-align: right;\n",
       "    }\n",
       "</style>\n",
       "<table border=\"1\" class=\"dataframe\">\n",
       "  <thead>\n",
       "    <tr style=\"text-align: right;\">\n",
       "      <th></th>\n",
       "      <th>PassengerId</th>\n",
       "      <th>Survived</th>\n",
       "      <th>Pclass</th>\n",
       "      <th>Name</th>\n",
       "      <th>Sex</th>\n",
       "      <th>Age</th>\n",
       "      <th>SibSp</th>\n",
       "      <th>Parch</th>\n",
       "      <th>Ticket</th>\n",
       "      <th>Fare</th>\n",
       "      <th>Cabin</th>\n",
       "      <th>Embarked</th>\n",
       "    </tr>\n",
       "  </thead>\n",
       "  <tbody>\n",
       "    <tr>\n",
       "      <th>0</th>\n",
       "      <td>1</td>\n",
       "      <td>0</td>\n",
       "      <td>3</td>\n",
       "      <td>Braund, Mr. Owen Harris</td>\n",
       "      <td>0</td>\n",
       "      <td>22.0</td>\n",
       "      <td>1</td>\n",
       "      <td>0</td>\n",
       "      <td>A/5 21171</td>\n",
       "      <td>7.2500</td>\n",
       "      <td>35</td>\n",
       "      <td>1.0</td>\n",
       "    </tr>\n",
       "    <tr>\n",
       "      <th>1</th>\n",
       "      <td>2</td>\n",
       "      <td>1</td>\n",
       "      <td>1</td>\n",
       "      <td>Cumings, Mrs. John Bradley (Florence Briggs Th...</td>\n",
       "      <td>1</td>\n",
       "      <td>38.0</td>\n",
       "      <td>1</td>\n",
       "      <td>0</td>\n",
       "      <td>PC 17599</td>\n",
       "      <td>71.2833</td>\n",
       "      <td>82</td>\n",
       "      <td>2.0</td>\n",
       "    </tr>\n",
       "    <tr>\n",
       "      <th>2</th>\n",
       "      <td>3</td>\n",
       "      <td>1</td>\n",
       "      <td>3</td>\n",
       "      <td>Heikkinen, Miss. Laina</td>\n",
       "      <td>1</td>\n",
       "      <td>26.0</td>\n",
       "      <td>0</td>\n",
       "      <td>0</td>\n",
       "      <td>STON/O2. 3101282</td>\n",
       "      <td>7.9250</td>\n",
       "      <td>35</td>\n",
       "      <td>1.0</td>\n",
       "    </tr>\n",
       "    <tr>\n",
       "      <th>3</th>\n",
       "      <td>4</td>\n",
       "      <td>1</td>\n",
       "      <td>1</td>\n",
       "      <td>Futrelle, Mrs. Jacques Heath (Lily May Peel)</td>\n",
       "      <td>1</td>\n",
       "      <td>35.0</td>\n",
       "      <td>1</td>\n",
       "      <td>0</td>\n",
       "      <td>113803</td>\n",
       "      <td>53.1000</td>\n",
       "      <td>56</td>\n",
       "      <td>1.0</td>\n",
       "    </tr>\n",
       "    <tr>\n",
       "      <th>4</th>\n",
       "      <td>5</td>\n",
       "      <td>0</td>\n",
       "      <td>3</td>\n",
       "      <td>Allen, Mr. William Henry</td>\n",
       "      <td>0</td>\n",
       "      <td>35.0</td>\n",
       "      <td>0</td>\n",
       "      <td>0</td>\n",
       "      <td>373450</td>\n",
       "      <td>8.0500</td>\n",
       "      <td>35</td>\n",
       "      <td>1.0</td>\n",
       "    </tr>\n",
       "  </tbody>\n",
       "</table>\n",
       "</div>"
      ],
      "text/plain": [
       "   PassengerId  Survived  Pclass  \\\n",
       "0            1         0       3   \n",
       "1            2         1       1   \n",
       "2            3         1       3   \n",
       "3            4         1       1   \n",
       "4            5         0       3   \n",
       "\n",
       "                                                Name  Sex   Age  SibSp  Parch  \\\n",
       "0                            Braund, Mr. Owen Harris    0  22.0      1      0   \n",
       "1  Cumings, Mrs. John Bradley (Florence Briggs Th...    1  38.0      1      0   \n",
       "2                             Heikkinen, Miss. Laina    1  26.0      0      0   \n",
       "3       Futrelle, Mrs. Jacques Heath (Lily May Peel)    1  35.0      1      0   \n",
       "4                           Allen, Mr. William Henry    0  35.0      0      0   \n",
       "\n",
       "             Ticket     Fare  Cabin  Embarked  \n",
       "0         A/5 21171   7.2500     35       1.0  \n",
       "1          PC 17599  71.2833     82       2.0  \n",
       "2  STON/O2. 3101282   7.9250     35       1.0  \n",
       "3            113803  53.1000     56       1.0  \n",
       "4            373450   8.0500     35       1.0  "
      ]
     },
     "execution_count": 32,
     "metadata": {},
     "output_type": "execute_result"
    }
   ],
   "source": [
    "data.head()"
   ]
  },
  {
   "cell_type": "code",
   "execution_count": 33,
   "id": "effc550e",
   "metadata": {},
   "outputs": [
    {
     "data": {
      "text/plain": [
       "Index(['PassengerId', 'Survived', 'Pclass', 'Name', 'Sex', 'Age', 'SibSp',\n",
       "       'Parch', 'Ticket', 'Fare', 'Cabin', 'Embarked'],\n",
       "      dtype='object')"
      ]
     },
     "execution_count": 33,
     "metadata": {},
     "output_type": "execute_result"
    }
   ],
   "source": [
    "data.columns"
   ]
  },
  {
   "cell_type": "code",
   "execution_count": 34,
   "id": "29f7d0be",
   "metadata": {},
   "outputs": [],
   "source": [
    "# droping unwanted columns\n",
    "data = data.drop(['PassengerId','Name','Ticket'],axis=1)"
   ]
  },
  {
   "cell_type": "code",
   "execution_count": 35,
   "id": "a4459df5",
   "metadata": {},
   "outputs": [
    {
     "data": {
      "text/html": [
       "<div>\n",
       "<style scoped>\n",
       "    .dataframe tbody tr th:only-of-type {\n",
       "        vertical-align: middle;\n",
       "    }\n",
       "\n",
       "    .dataframe tbody tr th {\n",
       "        vertical-align: top;\n",
       "    }\n",
       "\n",
       "    .dataframe thead th {\n",
       "        text-align: right;\n",
       "    }\n",
       "</style>\n",
       "<table border=\"1\" class=\"dataframe\">\n",
       "  <thead>\n",
       "    <tr style=\"text-align: right;\">\n",
       "      <th></th>\n",
       "      <th>Survived</th>\n",
       "      <th>Pclass</th>\n",
       "      <th>Sex</th>\n",
       "      <th>Age</th>\n",
       "      <th>SibSp</th>\n",
       "      <th>Parch</th>\n",
       "      <th>Fare</th>\n",
       "      <th>Cabin</th>\n",
       "      <th>Embarked</th>\n",
       "    </tr>\n",
       "  </thead>\n",
       "  <tbody>\n",
       "    <tr>\n",
       "      <th>0</th>\n",
       "      <td>0</td>\n",
       "      <td>3</td>\n",
       "      <td>0</td>\n",
       "      <td>22.0</td>\n",
       "      <td>1</td>\n",
       "      <td>0</td>\n",
       "      <td>7.2500</td>\n",
       "      <td>35</td>\n",
       "      <td>1.0</td>\n",
       "    </tr>\n",
       "    <tr>\n",
       "      <th>1</th>\n",
       "      <td>1</td>\n",
       "      <td>1</td>\n",
       "      <td>1</td>\n",
       "      <td>38.0</td>\n",
       "      <td>1</td>\n",
       "      <td>0</td>\n",
       "      <td>71.2833</td>\n",
       "      <td>82</td>\n",
       "      <td>2.0</td>\n",
       "    </tr>\n",
       "    <tr>\n",
       "      <th>2</th>\n",
       "      <td>1</td>\n",
       "      <td>3</td>\n",
       "      <td>1</td>\n",
       "      <td>26.0</td>\n",
       "      <td>0</td>\n",
       "      <td>0</td>\n",
       "      <td>7.9250</td>\n",
       "      <td>35</td>\n",
       "      <td>1.0</td>\n",
       "    </tr>\n",
       "    <tr>\n",
       "      <th>3</th>\n",
       "      <td>1</td>\n",
       "      <td>1</td>\n",
       "      <td>1</td>\n",
       "      <td>35.0</td>\n",
       "      <td>1</td>\n",
       "      <td>0</td>\n",
       "      <td>53.1000</td>\n",
       "      <td>56</td>\n",
       "      <td>1.0</td>\n",
       "    </tr>\n",
       "    <tr>\n",
       "      <th>4</th>\n",
       "      <td>0</td>\n",
       "      <td>3</td>\n",
       "      <td>0</td>\n",
       "      <td>35.0</td>\n",
       "      <td>0</td>\n",
       "      <td>0</td>\n",
       "      <td>8.0500</td>\n",
       "      <td>35</td>\n",
       "      <td>1.0</td>\n",
       "    </tr>\n",
       "  </tbody>\n",
       "</table>\n",
       "</div>"
      ],
      "text/plain": [
       "   Survived  Pclass  Sex   Age  SibSp  Parch     Fare  Cabin  Embarked\n",
       "0         0       3    0  22.0      1      0   7.2500     35       1.0\n",
       "1         1       1    1  38.0      1      0  71.2833     82       2.0\n",
       "2         1       3    1  26.0      0      0   7.9250     35       1.0\n",
       "3         1       1    1  35.0      1      0  53.1000     56       1.0\n",
       "4         0       3    0  35.0      0      0   8.0500     35       1.0"
      ]
     },
     "execution_count": 35,
     "metadata": {},
     "output_type": "execute_result"
    }
   ],
   "source": [
    "data.head()"
   ]
  },
  {
   "cell_type": "markdown",
   "id": "81e1e004",
   "metadata": {},
   "source": [
    "## Feature Engg"
   ]
  },
  {
   "cell_type": "code",
   "execution_count": 36,
   "id": "0e69e2a9",
   "metadata": {},
   "outputs": [
    {
     "data": {
      "text/html": [
       "<div>\n",
       "<style scoped>\n",
       "    .dataframe tbody tr th:only-of-type {\n",
       "        vertical-align: middle;\n",
       "    }\n",
       "\n",
       "    .dataframe tbody tr th {\n",
       "        vertical-align: top;\n",
       "    }\n",
       "\n",
       "    .dataframe thead th {\n",
       "        text-align: right;\n",
       "    }\n",
       "</style>\n",
       "<table border=\"1\" class=\"dataframe\">\n",
       "  <thead>\n",
       "    <tr style=\"text-align: right;\">\n",
       "      <th></th>\n",
       "      <th>Survived</th>\n",
       "      <th>Pclass</th>\n",
       "      <th>Sex</th>\n",
       "      <th>Age</th>\n",
       "      <th>SibSp</th>\n",
       "      <th>Parch</th>\n",
       "      <th>Fare</th>\n",
       "      <th>Cabin</th>\n",
       "      <th>Embarked</th>\n",
       "    </tr>\n",
       "  </thead>\n",
       "  <tbody>\n",
       "    <tr>\n",
       "      <th>Survived</th>\n",
       "      <td>1.000000</td>\n",
       "      <td>-0.338481</td>\n",
       "      <td>0.543351</td>\n",
       "      <td>-0.006100</td>\n",
       "      <td>-0.035322</td>\n",
       "      <td>0.081629</td>\n",
       "      <td>0.246471</td>\n",
       "      <td>0.217712</td>\n",
       "      <td>0.126753</td>\n",
       "    </tr>\n",
       "    <tr>\n",
       "      <th>Pclass</th>\n",
       "      <td>-0.338481</td>\n",
       "      <td>1.000000</td>\n",
       "      <td>-0.131900</td>\n",
       "      <td>-0.352066</td>\n",
       "      <td>0.083081</td>\n",
       "      <td>0.018443</td>\n",
       "      <td>-0.553134</td>\n",
       "      <td>-0.362950</td>\n",
       "      <td>-0.307324</td>\n",
       "    </tr>\n",
       "    <tr>\n",
       "      <th>Sex</th>\n",
       "      <td>0.543351</td>\n",
       "      <td>-0.131900</td>\n",
       "      <td>1.000000</td>\n",
       "      <td>-0.062739</td>\n",
       "      <td>0.114631</td>\n",
       "      <td>0.245489</td>\n",
       "      <td>0.171538</td>\n",
       "      <td>0.118588</td>\n",
       "      <td>0.023175</td>\n",
       "    </tr>\n",
       "    <tr>\n",
       "      <th>Age</th>\n",
       "      <td>-0.006100</td>\n",
       "      <td>-0.352066</td>\n",
       "      <td>-0.062739</td>\n",
       "      <td>1.000000</td>\n",
       "      <td>-0.150927</td>\n",
       "      <td>-0.062579</td>\n",
       "      <td>0.179571</td>\n",
       "      <td>0.163790</td>\n",
       "      <td>0.049710</td>\n",
       "    </tr>\n",
       "    <tr>\n",
       "      <th>SibSp</th>\n",
       "      <td>-0.035322</td>\n",
       "      <td>0.083081</td>\n",
       "      <td>0.114631</td>\n",
       "      <td>-0.150927</td>\n",
       "      <td>1.000000</td>\n",
       "      <td>0.414838</td>\n",
       "      <td>0.332266</td>\n",
       "      <td>-0.012546</td>\n",
       "      <td>-0.031095</td>\n",
       "    </tr>\n",
       "    <tr>\n",
       "      <th>Parch</th>\n",
       "      <td>0.081629</td>\n",
       "      <td>0.018443</td>\n",
       "      <td>0.245489</td>\n",
       "      <td>-0.062579</td>\n",
       "      <td>0.414838</td>\n",
       "      <td>1.000000</td>\n",
       "      <td>0.197221</td>\n",
       "      <td>0.027560</td>\n",
       "      <td>0.035756</td>\n",
       "    </tr>\n",
       "    <tr>\n",
       "      <th>Fare</th>\n",
       "      <td>0.246471</td>\n",
       "      <td>-0.553134</td>\n",
       "      <td>0.171538</td>\n",
       "      <td>0.179571</td>\n",
       "      <td>0.332266</td>\n",
       "      <td>0.197221</td>\n",
       "      <td>1.000000</td>\n",
       "      <td>0.265588</td>\n",
       "      <td>0.191103</td>\n",
       "    </tr>\n",
       "    <tr>\n",
       "      <th>Cabin</th>\n",
       "      <td>0.217712</td>\n",
       "      <td>-0.362950</td>\n",
       "      <td>0.118588</td>\n",
       "      <td>0.163790</td>\n",
       "      <td>-0.012546</td>\n",
       "      <td>0.027560</td>\n",
       "      <td>0.265588</td>\n",
       "      <td>1.000000</td>\n",
       "      <td>0.063600</td>\n",
       "    </tr>\n",
       "    <tr>\n",
       "      <th>Embarked</th>\n",
       "      <td>0.126753</td>\n",
       "      <td>-0.307324</td>\n",
       "      <td>0.023175</td>\n",
       "      <td>0.049710</td>\n",
       "      <td>-0.031095</td>\n",
       "      <td>0.035756</td>\n",
       "      <td>0.191103</td>\n",
       "      <td>0.063600</td>\n",
       "      <td>1.000000</td>\n",
       "    </tr>\n",
       "  </tbody>\n",
       "</table>\n",
       "</div>"
      ],
      "text/plain": [
       "          Survived    Pclass       Sex       Age     SibSp     Parch  \\\n",
       "Survived  1.000000 -0.338481  0.543351 -0.006100 -0.035322  0.081629   \n",
       "Pclass   -0.338481  1.000000 -0.131900 -0.352066  0.083081  0.018443   \n",
       "Sex       0.543351 -0.131900  1.000000 -0.062739  0.114631  0.245489   \n",
       "Age      -0.006100 -0.352066 -0.062739  1.000000 -0.150927 -0.062579   \n",
       "SibSp    -0.035322  0.083081  0.114631 -0.150927  1.000000  0.414838   \n",
       "Parch     0.081629  0.018443  0.245489 -0.062579  0.414838  1.000000   \n",
       "Fare      0.246471 -0.553134  0.171538  0.179571  0.332266  0.197221   \n",
       "Cabin     0.217712 -0.362950  0.118588  0.163790 -0.012546  0.027560   \n",
       "Embarked  0.126753 -0.307324  0.023175  0.049710 -0.031095  0.035756   \n",
       "\n",
       "              Fare     Cabin  Embarked  \n",
       "Survived  0.246471  0.217712  0.126753  \n",
       "Pclass   -0.553134 -0.362950 -0.307324  \n",
       "Sex       0.171538  0.118588  0.023175  \n",
       "Age       0.179571  0.163790  0.049710  \n",
       "SibSp     0.332266 -0.012546 -0.031095  \n",
       "Parch     0.197221  0.027560  0.035756  \n",
       "Fare      1.000000  0.265588  0.191103  \n",
       "Cabin     0.265588  1.000000  0.063600  \n",
       "Embarked  0.191103  0.063600  1.000000  "
      ]
     },
     "execution_count": 36,
     "metadata": {},
     "output_type": "execute_result"
    }
   ],
   "source": [
    "data.corr()"
   ]
  },
  {
   "cell_type": "code",
   "execution_count": 37,
   "id": "a8b320bc",
   "metadata": {},
   "outputs": [
    {
     "data": {
      "text/plain": [
       "<Axes: >"
      ]
     },
     "execution_count": 37,
     "metadata": {},
     "output_type": "execute_result"
    },
    {
     "data": {
      "image/png": "[encoded data removed]",
      "text/plain": [
       "<Figure size 640x480 with 2 Axes>"
      ]
     },
     "metadata": {},
     "output_type": "display_data"
    }
   ],
   "source": [
    "sns.heatmap(data.corr(),annot=True)"
   ]
  },
  {
   "cell_type": "markdown",
   "id": "27d57741",
   "metadata": {},
   "source": [
    "## Splitting Data"
   ]
  },
  {
   "cell_type": "code",
   "execution_count": 38,
   "id": "441f9339",
   "metadata": {},
   "outputs": [],
   "source": [
    "x=data.drop('Survived',axis=1)\n",
    "y=data.Survived"
   ]
  },
  {
   "cell_type": "code",
   "execution_count": 39,
   "id": "a889b9fe",
   "metadata": {},
   "outputs": [],
   "source": [
    "from sklearn.model_selection import train_test_split\n",
    "x_train,x_test,y_train,y_test=train_test_split(x,y,test_size=0.20,random_state=10)"
   ]
  },
  {
   "cell_type": "code",
   "execution_count": 46,
   "id": "ae578a12",
   "metadata": {
    "scrolled": false
   },
   "outputs": [
    {
     "data": {
      "text/plain": [
       "Pclass      0\n",
       "Sex         0\n",
       "Age         0\n",
       "SibSp       0\n",
       "Parch       0\n",
       "Fare        0\n",
       "Cabin       0\n",
       "Embarked    2\n",
       "dtype: int64"
      ]
     },
     "execution_count": 46,
     "metadata": {},
     "output_type": "execute_result"
    }
   ],
   "source": [
    "x_train.isnull().sum()"
   ]
  },
  {
   "cell_type": "code",
   "execution_count": 47,
   "id": "5e1d254f",
   "metadata": {},
   "outputs": [],
   "source": [
    "x_train.loc[x_train['Embarked'].isnull()== True,'Embarked']=1.0"
   ]
  },
  {
   "cell_type": "markdown",
   "id": "cbffdfcc",
   "metadata": {},
   "source": [
    "# Logistic Regression"
   ]
  },
  {
   "cell_type": "markdown",
   "id": "c9bf0f7e",
   "metadata": {},
   "source": [
    "## Model Creation"
   ]
  },
  {
   "cell_type": "code",
   "execution_count": 49,
   "id": "6deffd83",
   "metadata": {},
   "outputs": [
    {
     "data": {
      "text/html": [
       "<style>#sk-container-id-2 {color: black;}#sk-container-id-2 pre{padding: 0;}#sk-container-id-2 div.sk-toggleable {background-color: white;}#sk-container-id-2 label.sk-toggleable__label {cursor: pointer;display: block;width: 100%;margin-bottom: 0;padding: 0.3em;box-sizing: border-box;text-align: center;}#sk-container-id-2 label.sk-toggleable__label-arrow:before {content: \"▸\";float: left;margin-right: 0.25em;color: #696969;}#sk-container-id-2 label.sk-toggleable__label-arrow:hover:before {color: black;}#sk-container-id-2 div.sk-estimator:hover label.sk-toggleable__label-arrow:before {color: black;}#sk-container-id-2 div.sk-toggleable__content {max-height: 0;max-width: 0;overflow: hidden;text-align: left;background-color: #f0f8ff;}#sk-container-id-2 div.sk-toggleable__content pre {margin: 0.2em;color: black;border-radius: 0.25em;background-color: #f0f8ff;}#sk-container-id-2 input.sk-toggleable__control:checked~div.sk-toggleable__content {max-height: 200px;max-width: 100%;overflow: auto;}#sk-container-id-2 input.sk-toggleable__control:checked~label.sk-toggleable__label-arrow:before {content: \"▾\";}#sk-container-id-2 div.sk-estimator input.sk-toggleable__control:checked~label.sk-toggleable__label {background-color: #d4ebff;}#sk-container-id-2 div.sk-label input.sk-toggleable__control:checked~label.sk-toggleable__label {background-color: #d4ebff;}#sk-container-id-2 input.sk-hidden--visually {border: 0;clip: rect(1px 1px 1px 1px);clip: rect(1px, 1px, 1px, 1px);height: 1px;margin: -1px;overflow: hidden;padding: 0;position: absolute;width: 1px;}#sk-container-id-2 div.sk-estimator {font-family: monospace;background-color: #f0f8ff;border: 1px dotted black;border-radius: 0.25em;box-sizing: border-box;margin-bottom: 0.5em;}#sk-container-id-2 div.sk-estimator:hover {background-color: #d4ebff;}#sk-container-id-2 div.sk-parallel-item::after {content: \"\";width: 100%;border-bottom: 1px solid gray;flex-grow: 1;}#sk-container-id-2 div.sk-label:hover label.sk-toggleable__label {background-color: #d4ebff;}#sk-container-id-2 div.sk-serial::before {content: \"\";position: absolute;border-left: 1px solid gray;box-sizing: border-box;top: 0;bottom: 0;left: 50%;z-index: 0;}#sk-container-id-2 div.sk-serial {display: flex;flex-direction: column;align-items: center;background-color: white;padding-right: 0.2em;padding-left: 0.2em;position: relative;}#sk-container-id-2 div.sk-item {position: relative;z-index: 1;}#sk-container-id-2 div.sk-parallel {display: flex;align-items: stretch;justify-content: center;background-color: white;position: relative;}#sk-container-id-2 div.sk-item::before, #sk-container-id-2 div.sk-parallel-item::before {content: \"\";position: absolute;border-left: 1px solid gray;box-sizing: border-box;top: 0;bottom: 0;left: 50%;z-index: -1;}#sk-container-id-2 div.sk-parallel-item {display: flex;flex-direction: column;z-index: 1;position: relative;background-color: white;}#sk-container-id-2 div.sk-parallel-item:first-child::after {align-self: flex-end;width: 50%;}#sk-container-id-2 div.sk-parallel-item:last-child::after {align-self: flex-start;width: 50%;}#sk-container-id-2 div.sk-parallel-item:only-child::after {width: 0;}#sk-container-id-2 div.sk-dashed-wrapped {border: 1px dashed gray;margin: 0 0.4em 0.5em 0.4em;box-sizing: border-box;padding-bottom: 0.4em;background-color: white;}#sk-container-id-2 div.sk-label label {font-family: monospace;font-weight: bold;display: inline-block;line-height: 1.2em;}#sk-container-id-2 div.sk-label-container {text-align: center;}#sk-container-id-2 div.sk-container {/* jupyter's `normalize.less` sets `[hidden] { display: none; }` but bootstrap.min.css set `[hidden] { display: none !important; }` so we also need the `!important` here to be able to override the default hidden behavior on the sphinx rendered scikit-learn.org. See: https://github.com/scikit-learn/scikit-learn/issues/21755 */display: inline-block !important;position: relative;}#sk-container-id-2 div.sk-text-repr-fallback {display: none;}</style><div id=\"sk-container-id-2\" class=\"sk-top-container\"><div class=\"sk-text-repr-fallback\"><pre>LogisticRegression()</pre><b>In a Jupyter environment, please rerun this cell to show the HTML representation or trust the notebook. <br />On GitHub, the HTML representation is unable to render, please try loading this page with nbviewer.org.</b></div><div class=\"sk-container\" hidden><div class=\"sk-item\"><div class=\"sk-estimator sk-toggleable\"><input class=\"sk-toggleable__control sk-hidden--visually\" id=\"sk-estimator-id-2\" type=\"checkbox\" checked><label for=\"sk-estimator-id-2\" class=\"sk-toggleable__label sk-toggleable__label-arrow\">LogisticRegression</label><div class=\"sk-toggleable__content\"><pre>LogisticRegression()</pre></div></div></div></div></div>"
      ],
      "text/plain": [
       "LogisticRegression()"
      ]
     },
     "execution_count": 49,
     "metadata": {},
     "output_type": "execute_result"
    }
   ],
   "source": [
    "from sklearn.linear_model import LogisticRegression\n",
    "LR = LogisticRegression()\n",
    "model=LR.fit(x_train,y_train)\n",
    "model"
   ]
  },
  {
   "cell_type": "code",
   "execution_count": 50,
   "id": "d9f1154d",
   "metadata": {},
   "outputs": [
    {
     "data": {
      "text/plain": [
       "array([0, 0, 0, 1, 1, 0, 0, 0, 0, 0, 0, 1, 1, 0, 0, 0, 0, 0, 1, 0, 0, 0,\n",
       "       1, 0, 0, 0, 0, 0, 0, 1, 1, 0, 1, 0, 1, 0, 1, 0, 0, 0, 0, 0, 0, 0,\n",
       "       0, 1, 0, 0, 1, 0, 0, 0, 0, 0, 0, 1, 0, 1, 1, 0, 0, 1, 1, 1, 0, 0,\n",
       "       0, 0, 0, 1, 0, 0, 0, 0, 1, 0, 0, 0, 0, 0, 0, 0, 0, 0, 1, 0, 1, 1,\n",
       "       0, 1, 0, 0, 1, 0, 1, 1, 1, 0, 1, 0, 0, 1, 0, 0, 1, 1, 0, 0, 1, 0,\n",
       "       1, 0, 1, 0, 0, 1, 0, 1, 1, 1, 1, 0, 1, 1, 0, 1, 1, 0, 0, 0, 1, 0,\n",
       "       0, 1, 1, 1, 0, 1, 1, 0, 1, 0, 0, 0, 0, 0, 0, 0, 0, 0, 0, 0, 1, 0,\n",
       "       0, 1, 0, 0, 0, 0, 0, 1, 1, 0, 0, 1, 0, 0, 1, 0, 1, 0, 0, 1, 0, 0,\n",
       "       0, 0, 1], dtype=int64)"
      ]
     },
     "execution_count": 50,
     "metadata": {},
     "output_type": "execute_result"
    }
   ],
   "source": [
    "y_pred = LR.predict(x_test)\n",
    "y_pred"
   ]
  },
  {
   "cell_type": "markdown",
   "id": "bf977835",
   "metadata": {},
   "source": [
    "## Model Evaluation"
   ]
  },
  {
   "cell_type": "code",
   "execution_count": 51,
   "id": "952c95d3",
   "metadata": {},
   "outputs": [],
   "source": [
    "from sklearn.metrics import accuracy_score,confusion_matrix,classification_report,recall_score,f1_score,precision_score"
   ]
  },
  {
   "cell_type": "code",
   "execution_count": 52,
   "id": "61d730f7",
   "metadata": {},
   "outputs": [
    {
     "name": "stdout",
     "output_type": "stream",
     "text": [
      "Accuracy Score :  0.7821229050279329\n",
      "Recall Score :  0.6774193548387096\n",
      "Precision Score :  0.6885245901639344\n",
      "f1 Score :  0.6829268292682927\n"
     ]
    }
   ],
   "source": [
    "acc_lr = accuracy_score(y_test,y_pred)\n",
    "rec_lr = recall_score(y_test,y_pred)\n",
    "prec_lr = precision_score(y_test,y_pred)\n",
    "f1_lr = f1_score(y_test,y_pred)\n",
    "print(\"Accuracy Score : \",acc_lr)\n",
    "print(\"Recall Score : \",rec_lr)\n",
    "print(\"Precision Score : \",prec_lr)\n",
    "print(\"f1 Score : \",f1_lr)"
   ]
  },
  {
   "cell_type": "code",
   "execution_count": 53,
   "id": "5ebfaf6a",
   "metadata": {},
   "outputs": [
    {
     "name": "stdout",
     "output_type": "stream",
     "text": [
      "              precision    recall  f1-score   support\n",
      "\n",
      "           0       0.83      0.84      0.83       117\n",
      "           1       0.69      0.68      0.68        62\n",
      "\n",
      "    accuracy                           0.78       179\n",
      "   macro avg       0.76      0.76      0.76       179\n",
      "weighted avg       0.78      0.78      0.78       179\n",
      "\n"
     ]
    }
   ],
   "source": [
    "print(classification_report(y_test,y_pred))"
   ]
  },
  {
   "cell_type": "markdown",
   "id": "104040e6",
   "metadata": {},
   "source": [
    "# KNN"
   ]
  },
  {
   "cell_type": "markdown",
   "id": "bf90743a",
   "metadata": {},
   "source": [
    "### Model Creation"
   ]
  },
  {
   "cell_type": "code",
   "execution_count": 54,
   "id": "c077e996",
   "metadata": {},
   "outputs": [],
   "source": [
    "from sklearn.neighbors import KNeighborsClassifier"
   ]
  },
  {
   "cell_type": "code",
   "execution_count": 55,
   "id": "c728dea0",
   "metadata": {
    "scrolled": true
   },
   "outputs": [
    {
     "data": {
      "text/html": [
       "<style>#sk-container-id-3 {color: black;}#sk-container-id-3 pre{padding: 0;}#sk-container-id-3 div.sk-toggleable {background-color: white;}#sk-container-id-3 label.sk-toggleable__label {cursor: pointer;display: block;width: 100%;margin-bottom: 0;padding: 0.3em;box-sizing: border-box;text-align: center;}#sk-container-id-3 label.sk-toggleable__label-arrow:before {content: \"▸\";float: left;margin-right: 0.25em;color: #696969;}#sk-container-id-3 label.sk-toggleable__label-arrow:hover:before {color: black;}#sk-container-id-3 div.sk-estimator:hover label.sk-toggleable__label-arrow:before {color: black;}#sk-container-id-3 div.sk-toggleable__content {max-height: 0;max-width: 0;overflow: hidden;text-align: left;background-color: #f0f8ff;}#sk-container-id-3 div.sk-toggleable__content pre {margin: 0.2em;color: black;border-radius: 0.25em;background-color: #f0f8ff;}#sk-container-id-3 input.sk-toggleable__control:checked~div.sk-toggleable__content {max-height: 200px;max-width: 100%;overflow: auto;}#sk-container-id-3 input.sk-toggleable__control:checked~label.sk-toggleable__label-arrow:before {content: \"▾\";}#sk-container-id-3 div.sk-estimator input.sk-toggleable__control:checked~label.sk-toggleable__label {background-color: #d4ebff;}#sk-container-id-3 div.sk-label input.sk-toggleable__control:checked~label.sk-toggleable__label {background-color: #d4ebff;}#sk-container-id-3 input.sk-hidden--visually {border: 0;clip: rect(1px 1px 1px 1px);clip: rect(1px, 1px, 1px, 1px);height: 1px;margin: -1px;overflow: hidden;padding: 0;position: absolute;width: 1px;}#sk-container-id-3 div.sk-estimator {font-family: monospace;background-color: #f0f8ff;border: 1px dotted black;border-radius: 0.25em;box-sizing: border-box;margin-bottom: 0.5em;}#sk-container-id-3 div.sk-estimator:hover {background-color: #d4ebff;}#sk-container-id-3 div.sk-parallel-item::after {content: \"\";width: 100%;border-bottom: 1px solid gray;flex-grow: 1;}#sk-container-id-3 div.sk-label:hover label.sk-toggleable__label {background-color: #d4ebff;}#sk-container-id-3 div.sk-serial::before {content: \"\";position: absolute;border-left: 1px solid gray;box-sizing: border-box;top: 0;bottom: 0;left: 50%;z-index: 0;}#sk-container-id-3 div.sk-serial {display: flex;flex-direction: column;align-items: center;background-color: white;padding-right: 0.2em;padding-left: 0.2em;position: relative;}#sk-container-id-3 div.sk-item {position: relative;z-index: 1;}#sk-container-id-3 div.sk-parallel {display: flex;align-items: stretch;justify-content: center;background-color: white;position: relative;}#sk-container-id-3 div.sk-item::before, #sk-container-id-3 div.sk-parallel-item::before {content: \"\";position: absolute;border-left: 1px solid gray;box-sizing: border-box;top: 0;bottom: 0;left: 50%;z-index: -1;}#sk-container-id-3 div.sk-parallel-item {display: flex;flex-direction: column;z-index: 1;position: relative;background-color: white;}#sk-container-id-3 div.sk-parallel-item:first-child::after {align-self: flex-end;width: 50%;}#sk-container-id-3 div.sk-parallel-item:last-child::after {align-self: flex-start;width: 50%;}#sk-container-id-3 div.sk-parallel-item:only-child::after {width: 0;}#sk-container-id-3 div.sk-dashed-wrapped {border: 1px dashed gray;margin: 0 0.4em 0.5em 0.4em;box-sizing: border-box;padding-bottom: 0.4em;background-color: white;}#sk-container-id-3 div.sk-label label {font-family: monospace;font-weight: bold;display: inline-block;line-height: 1.2em;}#sk-container-id-3 div.sk-label-container {text-align: center;}#sk-container-id-3 div.sk-container {/* jupyter's `normalize.less` sets `[hidden] { display: none; }` but bootstrap.min.css set `[hidden] { display: none !important; }` so we also need the `!important` here to be able to override the default hidden behavior on the sphinx rendered scikit-learn.org. See: https://github.com/scikit-learn/scikit-learn/issues/21755 */display: inline-block !important;position: relative;}#sk-container-id-3 div.sk-text-repr-fallback {display: none;}</style><div id=\"sk-container-id-3\" class=\"sk-top-container\"><div class=\"sk-text-repr-fallback\"><pre>KNeighborsClassifier(n_neighbors=3)</pre><b>In a Jupyter environment, please rerun this cell to show the HTML representation or trust the notebook. <br />On GitHub, the HTML representation is unable to render, please try loading this page with nbviewer.org.</b></div><div class=\"sk-container\" hidden><div class=\"sk-item\"><div class=\"sk-estimator sk-toggleable\"><input class=\"sk-toggleable__control sk-hidden--visually\" id=\"sk-estimator-id-3\" type=\"checkbox\" checked><label for=\"sk-estimator-id-3\" class=\"sk-toggleable__label sk-toggleable__label-arrow\">KNeighborsClassifier</label><div class=\"sk-toggleable__content\"><pre>KNeighborsClassifier(n_neighbors=3)</pre></div></div></div></div></div>"
      ],
      "text/plain": [
       "KNeighborsClassifier(n_neighbors=3)"
      ]
     },
     "execution_count": 55,
     "metadata": {},
     "output_type": "execute_result"
    }
   ],
   "source": [
    "KNN = KNeighborsClassifier(n_neighbors=3)\n",
    "model_KNN = KNN.fit(x_train,y_train)\n",
    "model_KNN"
   ]
  },
  {
   "cell_type": "code",
   "execution_count": 56,
   "id": "cd2432fc",
   "metadata": {},
   "outputs": [],
   "source": [
    "y_knn = model_KNN.predict(x_test)"
   ]
  },
  {
   "cell_type": "markdown",
   "id": "619f7d82",
   "metadata": {},
   "source": [
    "### Model Evaluation"
   ]
  },
  {
   "cell_type": "code",
   "execution_count": 57,
   "id": "87e5e827",
   "metadata": {},
   "outputs": [
    {
     "name": "stdout",
     "output_type": "stream",
     "text": [
      "Accuracy Score :  0.6927374301675978\n",
      "Recall Score :  0.5806451612903226\n",
      "Precision Score :  0.5538461538461539\n",
      "f1 Score :  0.5669291338582677\n"
     ]
    }
   ],
   "source": [
    "acc_knn = accuracy_score(y_test,y_knn)\n",
    "rec_knn = recall_score(y_test,y_knn)\n",
    "prec_knn = precision_score(y_test,y_knn)\n",
    "f1_knn = f1_score(y_test,y_knn)\n",
    "print(\"Accuracy Score : \",acc_knn)\n",
    "print(\"Recall Score : \",rec_knn)\n",
    "print(\"Precision Score : \",prec_knn)\n",
    "print(\"f1 Score : \",f1_knn)"
   ]
  },
  {
   "cell_type": "code",
   "execution_count": 58,
   "id": "5ead9660",
   "metadata": {},
   "outputs": [
    {
     "name": "stdout",
     "output_type": "stream",
     "text": [
      "              precision    recall  f1-score   support\n",
      "\n",
      "           0       0.77      0.75      0.76       117\n",
      "           1       0.55      0.58      0.57        62\n",
      "\n",
      "    accuracy                           0.69       179\n",
      "   macro avg       0.66      0.67      0.66       179\n",
      "weighted avg       0.70      0.69      0.69       179\n",
      "\n"
     ]
    }
   ],
   "source": [
    "print(classification_report(y_test,y_knn))"
   ]
  },
  {
   "cell_type": "markdown",
   "id": "fd8152cd",
   "metadata": {},
   "source": [
    "# Decision Tree"
   ]
  },
  {
   "cell_type": "markdown",
   "id": "0a4662ca",
   "metadata": {},
   "source": [
    "### Model Creation"
   ]
  },
  {
   "cell_type": "code",
   "execution_count": 59,
   "id": "bdb7d63e",
   "metadata": {},
   "outputs": [
    {
     "data": {
      "text/html": [
       "<style>#sk-container-id-4 {color: black;}#sk-container-id-4 pre{padding: 0;}#sk-container-id-4 div.sk-toggleable {background-color: white;}#sk-container-id-4 label.sk-toggleable__label {cursor: pointer;display: block;width: 100%;margin-bottom: 0;padding: 0.3em;box-sizing: border-box;text-align: center;}#sk-container-id-4 label.sk-toggleable__label-arrow:before {content: \"▸\";float: left;margin-right: 0.25em;color: #696969;}#sk-container-id-4 label.sk-toggleable__label-arrow:hover:before {color: black;}#sk-container-id-4 div.sk-estimator:hover label.sk-toggleable__label-arrow:before {color: black;}#sk-container-id-4 div.sk-toggleable__content {max-height: 0;max-width: 0;overflow: hidden;text-align: left;background-color: #f0f8ff;}#sk-container-id-4 div.sk-toggleable__content pre {margin: 0.2em;color: black;border-radius: 0.25em;background-color: #f0f8ff;}#sk-container-id-4 input.sk-toggleable__control:checked~div.sk-toggleable__content {max-height: 200px;max-width: 100%;overflow: auto;}#sk-container-id-4 input.sk-toggleable__control:checked~label.sk-toggleable__label-arrow:before {content: \"▾\";}#sk-container-id-4 div.sk-estimator input.sk-toggleable__control:checked~label.sk-toggleable__label {background-color: #d4ebff;}#sk-container-id-4 div.sk-label input.sk-toggleable__control:checked~label.sk-toggleable__label {background-color: #d4ebff;}#sk-container-id-4 input.sk-hidden--visually {border: 0;clip: rect(1px 1px 1px 1px);clip: rect(1px, 1px, 1px, 1px);height: 1px;margin: -1px;overflow: hidden;padding: 0;position: absolute;width: 1px;}#sk-container-id-4 div.sk-estimator {font-family: monospace;background-color: #f0f8ff;border: 1px dotted black;border-radius: 0.25em;box-sizing: border-box;margin-bottom: 0.5em;}#sk-container-id-4 div.sk-estimator:hover {background-color: #d4ebff;}#sk-container-id-4 div.sk-parallel-item::after {content: \"\";width: 100%;border-bottom: 1px solid gray;flex-grow: 1;}#sk-container-id-4 div.sk-label:hover label.sk-toggleable__label {background-color: #d4ebff;}#sk-container-id-4 div.sk-serial::before {content: \"\";position: absolute;border-left: 1px solid gray;box-sizing: border-box;top: 0;bottom: 0;left: 50%;z-index: 0;}#sk-container-id-4 div.sk-serial {display: flex;flex-direction: column;align-items: center;background-color: white;padding-right: 0.2em;padding-left: 0.2em;position: relative;}#sk-container-id-4 div.sk-item {position: relative;z-index: 1;}#sk-container-id-4 div.sk-parallel {display: flex;align-items: stretch;justify-content: center;background-color: white;position: relative;}#sk-container-id-4 div.sk-item::before, #sk-container-id-4 div.sk-parallel-item::before {content: \"\";position: absolute;border-left: 1px solid gray;box-sizing: border-box;top: 0;bottom: 0;left: 50%;z-index: -1;}#sk-container-id-4 div.sk-parallel-item {display: flex;flex-direction: column;z-index: 1;position: relative;background-color: white;}#sk-container-id-4 div.sk-parallel-item:first-child::after {align-self: flex-end;width: 50%;}#sk-container-id-4 div.sk-parallel-item:last-child::after {align-self: flex-start;width: 50%;}#sk-container-id-4 div.sk-parallel-item:only-child::after {width: 0;}#sk-container-id-4 div.sk-dashed-wrapped {border: 1px dashed gray;margin: 0 0.4em 0.5em 0.4em;box-sizing: border-box;padding-bottom: 0.4em;background-color: white;}#sk-container-id-4 div.sk-label label {font-family: monospace;font-weight: bold;display: inline-block;line-height: 1.2em;}#sk-container-id-4 div.sk-label-container {text-align: center;}#sk-container-id-4 div.sk-container {/* jupyter's `normalize.less` sets `[hidden] { display: none; }` but bootstrap.min.css set `[hidden] { display: none !important; }` so we also need the `!important` here to be able to override the default hidden behavior on the sphinx rendered scikit-learn.org. See: https://github.com/scikit-learn/scikit-learn/issues/21755 */display: inline-block !important;position: relative;}#sk-container-id-4 div.sk-text-repr-fallback {display: none;}</style><div id=\"sk-container-id-4\" class=\"sk-top-container\"><div class=\"sk-text-repr-fallback\"><pre>DecisionTreeClassifier()</pre><b>In a Jupyter environment, please rerun this cell to show the HTML representation or trust the notebook. <br />On GitHub, the HTML representation is unable to render, please try loading this page with nbviewer.org.</b></div><div class=\"sk-container\" hidden><div class=\"sk-item\"><div class=\"sk-estimator sk-toggleable\"><input class=\"sk-toggleable__control sk-hidden--visually\" id=\"sk-estimator-id-4\" type=\"checkbox\" checked><label for=\"sk-estimator-id-4\" class=\"sk-toggleable__label sk-toggleable__label-arrow\">DecisionTreeClassifier</label><div class=\"sk-toggleable__content\"><pre>DecisionTreeClassifier()</pre></div></div></div></div></div>"
      ],
      "text/plain": [
       "DecisionTreeClassifier()"
      ]
     },
     "execution_count": 59,
     "metadata": {},
     "output_type": "execute_result"
    }
   ],
   "source": [
    "from sklearn.tree import DecisionTreeClassifier\n",
    "dc = DecisionTreeClassifier()\n",
    "model = dc.fit(x_train,y_train)\n",
    "model"
   ]
  },
  {
   "cell_type": "code",
   "execution_count": 60,
   "id": "1970439c",
   "metadata": {},
   "outputs": [],
   "source": [
    "y_dc = dc.predict(x_test)"
   ]
  },
  {
   "cell_type": "markdown",
   "id": "f18eaeb8",
   "metadata": {},
   "source": [
    "### Model Evaluation "
   ]
  },
  {
   "cell_type": "code",
   "execution_count": 61,
   "id": "4325bebd",
   "metadata": {},
   "outputs": [
    {
     "name": "stdout",
     "output_type": "stream",
     "text": [
      "Accuracy Score :  0.7988826815642458\n",
      "Recall Score :  0.7903225806451613\n",
      "Precision Score :  0.6805555555555556\n",
      "f1 Score :  0.7313432835820894\n"
     ]
    }
   ],
   "source": [
    "acc_dc = accuracy_score(y_test,y_dc)\n",
    "rec_dc = recall_score(y_test,y_dc)\n",
    "prec_dc = precision_score(y_test,y_dc)\n",
    "f1_dc = f1_score(y_test,y_dc)\n",
    "print(\"Accuracy Score : \",acc_dc)\n",
    "print(\"Recall Score : \",rec_dc)\n",
    "print(\"Precision Score : \",prec_dc)\n",
    "print(\"f1 Score : \",f1_dc)"
   ]
  },
  {
   "cell_type": "code",
   "execution_count": 62,
   "id": "66d3c4d2",
   "metadata": {},
   "outputs": [
    {
     "name": "stdout",
     "output_type": "stream",
     "text": [
      "              precision    recall  f1-score   support\n",
      "\n",
      "           0       0.80      0.88      0.84       107\n",
      "           1       0.79      0.68      0.73        72\n",
      "\n",
      "    accuracy                           0.80       179\n",
      "   macro avg       0.80      0.78      0.79       179\n",
      "weighted avg       0.80      0.80      0.80       179\n",
      "\n"
     ]
    }
   ],
   "source": [
    "print(classification_report(y_dc,y_test))"
   ]
  },
  {
   "cell_type": "markdown",
   "id": "7d42c610",
   "metadata": {},
   "source": [
    "## Hyperparameter Tuning"
   ]
  },
  {
   "cell_type": "code",
   "execution_count": 63,
   "id": "90c488b5",
   "metadata": {},
   "outputs": [],
   "source": [
    "from sklearn.model_selection import GridSearchCV"
   ]
  },
  {
   "cell_type": "code",
   "execution_count": 64,
   "id": "58c33b79",
   "metadata": {},
   "outputs": [],
   "source": [
    "param_grid = {'criterion':['gini','entropy'],\n",
    "             'splitter' : ['best','random'],\n",
    "             'min_samples_leaf' : [2,5,8,10,15],\n",
    "             'min_samples_split' : [3,7,9,13],\n",
    "             'max_depth' : [2,4,7,6]}"
   ]
  },
  {
   "cell_type": "code",
   "execution_count": 65,
   "id": "c9081ffa",
   "metadata": {},
   "outputs": [
    {
     "name": "stdout",
     "output_type": "stream",
     "text": [
      "Fitting 4 folds for each of 320 candidates, totalling 1280 fits\n",
      "Best Parameters\n",
      "{'criterion': 'entropy', 'max_depth': 6, 'min_samples_leaf': 8, 'min_samples_split': 3, 'splitter': 'best'}\n"
     ]
    }
   ],
   "source": [
    "dtr = DecisionTreeClassifier(random_state=34)\n",
    "grid_cv = GridSearchCV(dtr,param_grid,scoring='f1',verbose=3,cv=4,n_jobs=-1)\n",
    "grid_cv.fit(x_train,y_train)\n",
    "best_params = grid_cv.best_params_\n",
    "print('Best Parameters')\n",
    "print(best_params)"
   ]
  },
  {
   "cell_type": "code",
   "execution_count": 98,
   "id": "fefedaf7",
   "metadata": {},
   "outputs": [
    {
     "data": {
      "text/html": [
       "<style>#sk-container-id-11 {color: black;}#sk-container-id-11 pre{padding: 0;}#sk-container-id-11 div.sk-toggleable {background-color: white;}#sk-container-id-11 label.sk-toggleable__label {cursor: pointer;display: block;width: 100%;margin-bottom: 0;padding: 0.3em;box-sizing: border-box;text-align: center;}#sk-container-id-11 label.sk-toggleable__label-arrow:before {content: \"▸\";float: left;margin-right: 0.25em;color: #696969;}#sk-container-id-11 label.sk-toggleable__label-arrow:hover:before {color: black;}#sk-container-id-11 div.sk-estimator:hover label.sk-toggleable__label-arrow:before {color: black;}#sk-container-id-11 div.sk-toggleable__content {max-height: 0;max-width: 0;overflow: hidden;text-align: left;background-color: #f0f8ff;}#sk-container-id-11 div.sk-toggleable__content pre {margin: 0.2em;color: black;border-radius: 0.25em;background-color: #f0f8ff;}#sk-container-id-11 input.sk-toggleable__control:checked~div.sk-toggleable__content {max-height: 200px;max-width: 100%;overflow: auto;}#sk-container-id-11 input.sk-toggleable__control:checked~label.sk-toggleable__label-arrow:before {content: \"▾\";}#sk-container-id-11 div.sk-estimator input.sk-toggleable__control:checked~label.sk-toggleable__label {background-color: #d4ebff;}#sk-container-id-11 div.sk-label input.sk-toggleable__control:checked~label.sk-toggleable__label {background-color: #d4ebff;}#sk-container-id-11 input.sk-hidden--visually {border: 0;clip: rect(1px 1px 1px 1px);clip: rect(1px, 1px, 1px, 1px);height: 1px;margin: -1px;overflow: hidden;padding: 0;position: absolute;width: 1px;}#sk-container-id-11 div.sk-estimator {font-family: monospace;background-color: #f0f8ff;border: 1px dotted black;border-radius: 0.25em;box-sizing: border-box;margin-bottom: 0.5em;}#sk-container-id-11 div.sk-estimator:hover {background-color: #d4ebff;}#sk-container-id-11 div.sk-parallel-item::after {content: \"\";width: 100%;border-bottom: 1px solid gray;flex-grow: 1;}#sk-container-id-11 div.sk-label:hover label.sk-toggleable__label {background-color: #d4ebff;}#sk-container-id-11 div.sk-serial::before {content: \"\";position: absolute;border-left: 1px solid gray;box-sizing: border-box;top: 0;bottom: 0;left: 50%;z-index: 0;}#sk-container-id-11 div.sk-serial {display: flex;flex-direction: column;align-items: center;background-color: white;padding-right: 0.2em;padding-left: 0.2em;position: relative;}#sk-container-id-11 div.sk-item {position: relative;z-index: 1;}#sk-container-id-11 div.sk-parallel {display: flex;align-items: stretch;justify-content: center;background-color: white;position: relative;}#sk-container-id-11 div.sk-item::before, #sk-container-id-11 div.sk-parallel-item::before {content: \"\";position: absolute;border-left: 1px solid gray;box-sizing: border-box;top: 0;bottom: 0;left: 50%;z-index: -1;}#sk-container-id-11 div.sk-parallel-item {display: flex;flex-direction: column;z-index: 1;position: relative;background-color: white;}#sk-container-id-11 div.sk-parallel-item:first-child::after {align-self: flex-end;width: 50%;}#sk-container-id-11 div.sk-parallel-item:last-child::after {align-self: flex-start;width: 50%;}#sk-container-id-11 div.sk-parallel-item:only-child::after {width: 0;}#sk-container-id-11 div.sk-dashed-wrapped {border: 1px dashed gray;margin: 0 0.4em 0.5em 0.4em;box-sizing: border-box;padding-bottom: 0.4em;background-color: white;}#sk-container-id-11 div.sk-label label {font-family: monospace;font-weight: bold;display: inline-block;line-height: 1.2em;}#sk-container-id-11 div.sk-label-container {text-align: center;}#sk-container-id-11 div.sk-container {/* jupyter's `normalize.less` sets `[hidden] { display: none; }` but bootstrap.min.css set `[hidden] { display: none !important; }` so we also need the `!important` here to be able to override the default hidden behavior on the sphinx rendered scikit-learn.org. See: https://github.com/scikit-learn/scikit-learn/issues/21755 */display: inline-block !important;position: relative;}#sk-container-id-11 div.sk-text-repr-fallback {display: none;}</style><div id=\"sk-container-id-11\" class=\"sk-top-container\"><div class=\"sk-text-repr-fallback\"><pre>DecisionTreeClassifier(criterion=&#x27;entropy&#x27;, max_depth=6, min_samples_leaf=8,\n",
       "                       min_samples_split=3)</pre><b>In a Jupyter environment, please rerun this cell to show the HTML representation or trust the notebook. <br />On GitHub, the HTML representation is unable to render, please try loading this page with nbviewer.org.</b></div><div class=\"sk-container\" hidden><div class=\"sk-item\"><div class=\"sk-estimator sk-toggleable\"><input class=\"sk-toggleable__control sk-hidden--visually\" id=\"sk-estimator-id-11\" type=\"checkbox\" checked><label for=\"sk-estimator-id-11\" class=\"sk-toggleable__label sk-toggleable__label-arrow\">DecisionTreeClassifier</label><div class=\"sk-toggleable__content\"><pre>DecisionTreeClassifier(criterion=&#x27;entropy&#x27;, max_depth=6, min_samples_leaf=8,\n",
       "                       min_samples_split=3)</pre></div></div></div></div></div>"
      ],
      "text/plain": [
       "DecisionTreeClassifier(criterion='entropy', max_depth=6, min_samples_leaf=8,\n",
       "                       min_samples_split=3)"
      ]
     },
     "execution_count": 98,
     "metadata": {},
     "output_type": "execute_result"
    }
   ],
   "source": [
    "model_dtr_ht = DecisionTreeClassifier(criterion= 'entropy', max_depth= 6, min_samples_leaf= 8, min_samples_split= 3, splitter='best')\n",
    "model_dtr_ht.fit(x_train,y_train)"
   ]
  },
  {
   "cell_type": "code",
   "execution_count": 99,
   "id": "00bdb29e",
   "metadata": {},
   "outputs": [],
   "source": [
    "y_pred_dtr_ht = model_dtr_ht.predict(x_test)"
   ]
  },
  {
   "cell_type": "markdown",
   "id": "b2bb611b",
   "metadata": {},
   "source": [
    "## Evaluation"
   ]
  },
  {
   "cell_type": "code",
   "execution_count": 100,
   "id": "f7712666",
   "metadata": {},
   "outputs": [
    {
     "name": "stdout",
     "output_type": "stream",
     "text": [
      "Accuracy Score :  0.770949720670391\n",
      "Recall Score :  0.6612903225806451\n",
      "Precision Score :  0.6721311475409836\n",
      "f1 Score :  0.6666666666666666\n"
     ]
    }
   ],
   "source": [
    "acc_dct = accuracy_score(y_test,y_pred_dtr_ht)\n",
    "rec_dct = recall_score(y_test,y_pred_dtr_ht)\n",
    "prec_dct = precision_score(y_test,y_pred_dtr_ht)\n",
    "f1_dct = f1_score(y_test,y_pred_dtr_ht)\n",
    "print(\"Accuracy Score : \",acc_dct)\n",
    "print(\"Recall Score : \",rec_dct)\n",
    "print(\"Precision Score : \",prec_dct)\n",
    "print(\"f1 Score : \",f1_dct)"
   ]
  },
  {
   "cell_type": "code",
   "execution_count": 101,
   "id": "5f292440",
   "metadata": {},
   "outputs": [
    {
     "name": "stdout",
     "output_type": "stream",
     "text": [
      "              precision    recall  f1-score   support\n",
      "\n",
      "           0       0.82      0.83      0.83       117\n",
      "           1       0.67      0.66      0.67        62\n",
      "\n",
      "    accuracy                           0.77       179\n",
      "   macro avg       0.75      0.75      0.75       179\n",
      "weighted avg       0.77      0.77      0.77       179\n",
      "\n"
     ]
    }
   ],
   "source": [
    "print(classification_report(y_test,y_pred_dtr_ht))"
   ]
  },
  {
   "cell_type": "markdown",
   "id": "7311da40",
   "metadata": {},
   "source": [
    "# Random Forest "
   ]
  },
  {
   "cell_type": "markdown",
   "id": "24f57978",
   "metadata": {},
   "source": [
    "### Model Creation"
   ]
  },
  {
   "cell_type": "code",
   "execution_count": 70,
   "id": "e9392d46",
   "metadata": {},
   "outputs": [
    {
     "data": {
      "text/html": [
       "<style>#sk-container-id-6 {color: black;}#sk-container-id-6 pre{padding: 0;}#sk-container-id-6 div.sk-toggleable {background-color: white;}#sk-container-id-6 label.sk-toggleable__label {cursor: pointer;display: block;width: 100%;margin-bottom: 0;padding: 0.3em;box-sizing: border-box;text-align: center;}#sk-container-id-6 label.sk-toggleable__label-arrow:before {content: \"▸\";float: left;margin-right: 0.25em;color: #696969;}#sk-container-id-6 label.sk-toggleable__label-arrow:hover:before {color: black;}#sk-container-id-6 div.sk-estimator:hover label.sk-toggleable__label-arrow:before {color: black;}#sk-container-id-6 div.sk-toggleable__content {max-height: 0;max-width: 0;overflow: hidden;text-align: left;background-color: #f0f8ff;}#sk-container-id-6 div.sk-toggleable__content pre {margin: 0.2em;color: black;border-radius: 0.25em;background-color: #f0f8ff;}#sk-container-id-6 input.sk-toggleable__control:checked~div.sk-toggleable__content {max-height: 200px;max-width: 100%;overflow: auto;}#sk-container-id-6 input.sk-toggleable__control:checked~label.sk-toggleable__label-arrow:before {content: \"▾\";}#sk-container-id-6 div.sk-estimator input.sk-toggleable__control:checked~label.sk-toggleable__label {background-color: #d4ebff;}#sk-container-id-6 div.sk-label input.sk-toggleable__control:checked~label.sk-toggleable__label {background-color: #d4ebff;}#sk-container-id-6 input.sk-hidden--visually {border: 0;clip: rect(1px 1px 1px 1px);clip: rect(1px, 1px, 1px, 1px);height: 1px;margin: -1px;overflow: hidden;padding: 0;position: absolute;width: 1px;}#sk-container-id-6 div.sk-estimator {font-family: monospace;background-color: #f0f8ff;border: 1px dotted black;border-radius: 0.25em;box-sizing: border-box;margin-bottom: 0.5em;}#sk-container-id-6 div.sk-estimator:hover {background-color: #d4ebff;}#sk-container-id-6 div.sk-parallel-item::after {content: \"\";width: 100%;border-bottom: 1px solid gray;flex-grow: 1;}#sk-container-id-6 div.sk-label:hover label.sk-toggleable__label {background-color: #d4ebff;}#sk-container-id-6 div.sk-serial::before {content: \"\";position: absolute;border-left: 1px solid gray;box-sizing: border-box;top: 0;bottom: 0;left: 50%;z-index: 0;}#sk-container-id-6 div.sk-serial {display: flex;flex-direction: column;align-items: center;background-color: white;padding-right: 0.2em;padding-left: 0.2em;position: relative;}#sk-container-id-6 div.sk-item {position: relative;z-index: 1;}#sk-container-id-6 div.sk-parallel {display: flex;align-items: stretch;justify-content: center;background-color: white;position: relative;}#sk-container-id-6 div.sk-item::before, #sk-container-id-6 div.sk-parallel-item::before {content: \"\";position: absolute;border-left: 1px solid gray;box-sizing: border-box;top: 0;bottom: 0;left: 50%;z-index: -1;}#sk-container-id-6 div.sk-parallel-item {display: flex;flex-direction: column;z-index: 1;position: relative;background-color: white;}#sk-container-id-6 div.sk-parallel-item:first-child::after {align-self: flex-end;width: 50%;}#sk-container-id-6 div.sk-parallel-item:last-child::after {align-self: flex-start;width: 50%;}#sk-container-id-6 div.sk-parallel-item:only-child::after {width: 0;}#sk-container-id-6 div.sk-dashed-wrapped {border: 1px dashed gray;margin: 0 0.4em 0.5em 0.4em;box-sizing: border-box;padding-bottom: 0.4em;background-color: white;}#sk-container-id-6 div.sk-label label {font-family: monospace;font-weight: bold;display: inline-block;line-height: 1.2em;}#sk-container-id-6 div.sk-label-container {text-align: center;}#sk-container-id-6 div.sk-container {/* jupyter's `normalize.less` sets `[hidden] { display: none; }` but bootstrap.min.css set `[hidden] { display: none !important; }` so we also need the `!important` here to be able to override the default hidden behavior on the sphinx rendered scikit-learn.org. See: https://github.com/scikit-learn/scikit-learn/issues/21755 */display: inline-block !important;position: relative;}#sk-container-id-6 div.sk-text-repr-fallback {display: none;}</style><div id=\"sk-container-id-6\" class=\"sk-top-container\"><div class=\"sk-text-repr-fallback\"><pre>RandomForestClassifier()</pre><b>In a Jupyter environment, please rerun this cell to show the HTML representation or trust the notebook. <br />On GitHub, the HTML representation is unable to render, please try loading this page with nbviewer.org.</b></div><div class=\"sk-container\" hidden><div class=\"sk-item\"><div class=\"sk-estimator sk-toggleable\"><input class=\"sk-toggleable__control sk-hidden--visually\" id=\"sk-estimator-id-6\" type=\"checkbox\" checked><label for=\"sk-estimator-id-6\" class=\"sk-toggleable__label sk-toggleable__label-arrow\">RandomForestClassifier</label><div class=\"sk-toggleable__content\"><pre>RandomForestClassifier()</pre></div></div></div></div></div>"
      ],
      "text/plain": [
       "RandomForestClassifier()"
      ]
     },
     "execution_count": 70,
     "metadata": {},
     "output_type": "execute_result"
    }
   ],
   "source": [
    "from sklearn.ensemble import RandomForestClassifier\n",
    "Rc = RandomForestClassifier()\n",
    "model_rc = Rc.fit(x_train,y_train)\n",
    "model_rc"
   ]
  },
  {
   "cell_type": "code",
   "execution_count": 71,
   "id": "cd5049bc",
   "metadata": {},
   "outputs": [],
   "source": [
    "y_rc = Rc.predict(x_test)"
   ]
  },
  {
   "cell_type": "markdown",
   "id": "d1878cf8",
   "metadata": {},
   "source": [
    "### Model Evaluation"
   ]
  },
  {
   "cell_type": "code",
   "execution_count": 72,
   "id": "cccf4ebc",
   "metadata": {},
   "outputs": [
    {
     "name": "stdout",
     "output_type": "stream",
     "text": [
      "Accuracy Score :  0.7988826815642458\n",
      "Recall Score :  0.7419354838709677\n",
      "Precision Score :  0.696969696969697\n",
      "f1 Score :  0.71875\n"
     ]
    }
   ],
   "source": [
    "acc_rc = accuracy_score(y_test,y_rc)\n",
    "rec_rc = recall_score(y_test,y_rc)\n",
    "prec_rc = precision_score(y_test,y_rc)\n",
    "f1_rc = f1_score(y_test,y_rc)\n",
    "print(\"Accuracy Score : \",acc_rc)\n",
    "print(\"Recall Score : \",rec_rc)\n",
    "print(\"Precision Score : \",prec_rc)\n",
    "print(\"f1 Score : \",f1_rc)"
   ]
  },
  {
   "cell_type": "code",
   "execution_count": 73,
   "id": "aac0a11e",
   "metadata": {},
   "outputs": [
    {
     "name": "stdout",
     "output_type": "stream",
     "text": [
      "              precision    recall  f1-score   support\n",
      "\n",
      "           0       0.86      0.83      0.84       117\n",
      "           1       0.70      0.74      0.72        62\n",
      "\n",
      "    accuracy                           0.80       179\n",
      "   macro avg       0.78      0.79      0.78       179\n",
      "weighted avg       0.80      0.80      0.80       179\n",
      "\n"
     ]
    }
   ],
   "source": [
    "print(classification_report(y_test,y_rc))"
   ]
  },
  {
   "cell_type": "markdown",
   "id": "ae6c3f50",
   "metadata": {},
   "source": [
    "## HyperParameter Tuning"
   ]
  },
  {
   "cell_type": "code",
   "execution_count": 74,
   "id": "99d526b5",
   "metadata": {},
   "outputs": [],
   "source": [
    "from sklearn.model_selection import RandomizedSearchCV"
   ]
  },
  {
   "cell_type": "code",
   "execution_count": 75,
   "id": "975292d9",
   "metadata": {},
   "outputs": [],
   "source": [
    "n_estimators = [200,250,270,310,350,390]\n",
    "max_features = ['log2','sqrt']\n",
    "max_depth = [10,20,30,40,50]\n",
    "min_samples_split = [2,5,7,9,14]\n",
    "min_samples_leaf = [2,5,6,8,10]\n",
    "bootstrap = [True,False]"
   ]
  },
  {
   "cell_type": "code",
   "execution_count": 76,
   "id": "3b4d8be0",
   "metadata": {},
   "outputs": [],
   "source": [
    "random_grid = {'n_estimators':n_estimators,'max_features':max_features,'max_depth':max_depth,'min_samples_split':min_samples_split,'min_samples_leaf':min_samples_leaf,'bootstrap':bootstrap}"
   ]
  },
  {
   "cell_type": "code",
   "execution_count": 77,
   "id": "99c57930",
   "metadata": {},
   "outputs": [
    {
     "name": "stdout",
     "output_type": "stream",
     "text": [
      "Fitting 3 folds for each of 100 candidates, totalling 300 fits\n",
      "[CV 1/3] END bootstrap=True, max_depth=40, max_features=sqrt, min_samples_leaf=10, min_samples_split=5, n_estimators=270;, score=0.737 total time=   0.8s\n",
      "[CV 2/3] END bootstrap=True, max_depth=40, max_features=sqrt, min_samples_leaf=10, min_samples_split=5, n_estimators=270;, score=0.674 total time=   0.8s\n",
      "[CV 3/3] END bootstrap=True, max_depth=40, max_features=sqrt, min_samples_leaf=10, min_samples_split=5, n_estimators=270;, score=0.739 total time=   0.8s\n",
      "[CV 1/3] END bootstrap=True, max_depth=10, max_features=log2, min_samples_leaf=10, min_samples_split=5, n_estimators=250;, score=0.714 total time=   0.8s\n",
      "[CV 2/3] END bootstrap=True, max_depth=10, max_features=log2, min_samples_leaf=10, min_samples_split=5, n_estimators=250;, score=0.694 total time=   0.8s\n",
      "[CV 3/3] END bootstrap=True, max_depth=10, max_features=log2, min_samples_leaf=10, min_samples_split=5, n_estimators=250;, score=0.765 total time=   0.9s\n",
      "[CV 1/3] END bootstrap=True, max_depth=40, max_features=sqrt, min_samples_leaf=10, min_samples_split=9, n_estimators=350;, score=0.742 total time=   1.1s\n",
      "[CV 2/3] END bootstrap=True, max_depth=40, max_features=sqrt, min_samples_leaf=10, min_samples_split=9, n_estimators=350;, score=0.674 total time=   1.1s\n",
      "[CV 3/3] END bootstrap=True, max_depth=40, max_features=sqrt, min_samples_leaf=10, min_samples_split=9, n_estimators=350;, score=0.739 total time=   1.1s\n",
      "[CV 1/3] END bootstrap=False, max_depth=20, max_features=sqrt, min_samples_leaf=10, min_samples_split=5, n_estimators=390;, score=0.726 total time=   1.0s\n",
      "[CV 2/3] END bootstrap=False, max_depth=20, max_features=sqrt, min_samples_leaf=10, min_samples_split=5, n_estimators=390;, score=0.678 total time=   1.0s\n",
      "[CV 3/3] END bootstrap=False, max_depth=20, max_features=sqrt, min_samples_leaf=10, min_samples_split=5, n_estimators=390;, score=0.766 total time=   1.0s\n",
      "[CV 1/3] END bootstrap=False, max_depth=30, max_features=log2, min_samples_leaf=8, min_samples_split=2, n_estimators=310;, score=0.731 total time=   0.9s\n",
      "[CV 2/3] END bootstrap=False, max_depth=30, max_features=log2, min_samples_leaf=8, min_samples_split=2, n_estimators=310;, score=0.678 total time=   0.9s\n",
      "[CV 3/3] END bootstrap=False, max_depth=30, max_features=log2, min_samples_leaf=8, min_samples_split=2, n_estimators=310;, score=0.769 total time=   0.9s\n",
      "[CV 1/3] END bootstrap=True, max_depth=30, max_features=sqrt, min_samples_leaf=5, min_samples_split=9, n_estimators=390;, score=0.730 total time=   1.3s\n",
      "[CV 2/3] END bootstrap=True, max_depth=30, max_features=sqrt, min_samples_leaf=5, min_samples_split=9, n_estimators=390;, score=0.682 total time=   1.3s\n",
      "[CV 3/3] END bootstrap=True, max_depth=30, max_features=sqrt, min_samples_leaf=5, min_samples_split=9, n_estimators=390;, score=0.762 total time=   1.3s\n",
      "[CV 1/3] END bootstrap=True, max_depth=40, max_features=sqrt, min_samples_leaf=5, min_samples_split=14, n_estimators=250;, score=0.746 total time=   0.8s\n",
      "[CV 2/3] END bootstrap=True, max_depth=40, max_features=sqrt, min_samples_leaf=5, min_samples_split=14, n_estimators=250;, score=0.694 total time=   0.9s\n",
      "[CV 3/3] END bootstrap=True, max_depth=40, max_features=sqrt, min_samples_leaf=5, min_samples_split=14, n_estimators=250;, score=0.765 total time=   0.8s\n",
      "[CV 1/3] END bootstrap=True, max_depth=50, max_features=sqrt, min_samples_leaf=10, min_samples_split=9, n_estimators=390;, score=0.742 total time=   1.3s\n",
      "[CV 2/3] END bootstrap=True, max_depth=50, max_features=sqrt, min_samples_leaf=10, min_samples_split=9, n_estimators=390;, score=0.682 total time=   1.3s\n",
      "[CV 3/3] END bootstrap=True, max_depth=50, max_features=sqrt, min_samples_leaf=10, min_samples_split=9, n_estimators=390;, score=0.739 total time=   1.2s\n",
      "[CV 1/3] END bootstrap=True, max_depth=40, max_features=sqrt, min_samples_leaf=2, min_samples_split=9, n_estimators=200;, score=0.717 total time=   0.7s\n",
      "[CV 2/3] END bootstrap=True, max_depth=40, max_features=sqrt, min_samples_leaf=2, min_samples_split=9, n_estimators=200;, score=0.667 total time=   0.7s\n",
      "[CV 3/3] END bootstrap=True, max_depth=40, max_features=sqrt, min_samples_leaf=2, min_samples_split=9, n_estimators=200;, score=0.779 total time=   0.7s\n",
      "[CV 1/3] END bootstrap=True, max_depth=40, max_features=sqrt, min_samples_leaf=8, min_samples_split=2, n_estimators=310;, score=0.739 total time=   1.0s\n",
      "[CV 2/3] END bootstrap=True, max_depth=40, max_features=sqrt, min_samples_leaf=8, min_samples_split=2, n_estimators=310;, score=0.674 total time=   1.0s\n",
      "[CV 3/3] END bootstrap=True, max_depth=40, max_features=sqrt, min_samples_leaf=8, min_samples_split=2, n_estimators=310;, score=0.762 total time=   1.0s\n",
      "[CV 1/3] END bootstrap=True, max_depth=20, max_features=sqrt, min_samples_leaf=6, min_samples_split=9, n_estimators=200;, score=0.737 total time=   0.7s\n",
      "[CV 2/3] END bootstrap=True, max_depth=20, max_features=sqrt, min_samples_leaf=6, min_samples_split=9, n_estimators=200;, score=0.682 total time=   0.7s\n",
      "[CV 3/3] END bootstrap=True, max_depth=20, max_features=sqrt, min_samples_leaf=6, min_samples_split=9, n_estimators=200;, score=0.762 total time=   0.6s\n",
      "[CV 1/3] END bootstrap=True, max_depth=10, max_features=log2, min_samples_leaf=6, min_samples_split=7, n_estimators=250;, score=0.723 total time=   0.9s\n",
      "[CV 2/3] END bootstrap=True, max_depth=10, max_features=log2, min_samples_leaf=6, min_samples_split=7, n_estimators=250;, score=0.682 total time=   0.9s\n",
      "[CV 3/3] END bootstrap=True, max_depth=10, max_features=log2, min_samples_leaf=6, min_samples_split=7, n_estimators=250;, score=0.765 total time=   0.9s\n",
      "[CV 1/3] END bootstrap=False, max_depth=40, max_features=log2, min_samples_leaf=2, min_samples_split=9, n_estimators=390;, score=0.727 total time=   1.4s\n",
      "[CV 2/3] END bootstrap=False, max_depth=40, max_features=log2, min_samples_leaf=2, min_samples_split=9, n_estimators=390;, score=0.663 total time=   1.4s\n",
      "[CV 3/3] END bootstrap=False, max_depth=40, max_features=log2, min_samples_leaf=2, min_samples_split=9, n_estimators=390;, score=0.791 total time=   1.5s\n",
      "[CV 1/3] END bootstrap=True, max_depth=10, max_features=log2, min_samples_leaf=6, min_samples_split=2, n_estimators=350;, score=0.723 total time=   1.3s\n",
      "[CV 2/3] END bootstrap=True, max_depth=10, max_features=log2, min_samples_leaf=6, min_samples_split=2, n_estimators=350;, score=0.682 total time=   1.3s\n",
      "[CV 3/3] END bootstrap=True, max_depth=10, max_features=log2, min_samples_leaf=6, min_samples_split=2, n_estimators=350;, score=0.765 total time=   1.2s\n",
      "[CV 1/3] END bootstrap=True, max_depth=20, max_features=sqrt, min_samples_leaf=10, min_samples_split=2, n_estimators=270;, score=0.737 total time=   0.8s\n",
      "[CV 2/3] END bootstrap=True, max_depth=20, max_features=sqrt, min_samples_leaf=10, min_samples_split=2, n_estimators=270;, score=0.674 total time=   0.8s\n",
      "[CV 3/3] END bootstrap=True, max_depth=20, max_features=sqrt, min_samples_leaf=10, min_samples_split=2, n_estimators=270;, score=0.739 total time=   0.8s\n",
      "[CV 1/3] END bootstrap=False, max_depth=30, max_features=sqrt, min_samples_leaf=10, min_samples_split=9, n_estimators=310;, score=0.712 total time=   0.8s\n",
      "[CV 2/3] END bootstrap=False, max_depth=30, max_features=sqrt, min_samples_leaf=10, min_samples_split=9, n_estimators=310;, score=0.682 total time=   1.2s\n",
      "[CV 3/3] END bootstrap=False, max_depth=30, max_features=sqrt, min_samples_leaf=10, min_samples_split=9, n_estimators=310;, score=0.766 total time=   0.8s\n",
      "[CV 1/3] END bootstrap=True, max_depth=50, max_features=sqrt, min_samples_leaf=5, min_samples_split=2, n_estimators=250;, score=0.726 total time=   0.8s\n",
      "[CV 2/3] END bootstrap=True, max_depth=50, max_features=sqrt, min_samples_leaf=5, min_samples_split=2, n_estimators=250;, score=0.686 total time=   0.8s\n",
      "[CV 3/3] END bootstrap=True, max_depth=50, max_features=sqrt, min_samples_leaf=5, min_samples_split=2, n_estimators=250;, score=0.757 total time=   0.8s\n",
      "[CV 1/3] END bootstrap=False, max_depth=50, max_features=sqrt, min_samples_leaf=5, min_samples_split=14, n_estimators=270;, score=0.721 total time=   0.7s\n",
      "[CV 2/3] END bootstrap=False, max_depth=50, max_features=sqrt, min_samples_leaf=5, min_samples_split=14, n_estimators=270;, score=0.667 total time=   0.7s\n"
     ]
    },
    {
     "name": "stdout",
     "output_type": "stream",
     "text": [
      "[CV 3/3] END bootstrap=False, max_depth=50, max_features=sqrt, min_samples_leaf=5, min_samples_split=14, n_estimators=270;, score=0.769 total time=   0.8s\n",
      "[CV 1/3] END bootstrap=True, max_depth=30, max_features=log2, min_samples_leaf=10, min_samples_split=14, n_estimators=270;, score=0.714 total time=   0.9s\n",
      "[CV 2/3] END bootstrap=True, max_depth=30, max_features=log2, min_samples_leaf=10, min_samples_split=14, n_estimators=270;, score=0.694 total time=   0.9s\n",
      "[CV 3/3] END bootstrap=True, max_depth=30, max_features=log2, min_samples_leaf=10, min_samples_split=14, n_estimators=270;, score=0.750 total time=   0.9s\n",
      "[CV 1/3] END bootstrap=True, max_depth=50, max_features=sqrt, min_samples_leaf=2, min_samples_split=9, n_estimators=250;, score=0.721 total time=   0.9s\n",
      "[CV 2/3] END bootstrap=True, max_depth=50, max_features=sqrt, min_samples_leaf=2, min_samples_split=9, n_estimators=250;, score=0.667 total time=   0.9s\n",
      "[CV 3/3] END bootstrap=True, max_depth=50, max_features=sqrt, min_samples_leaf=2, min_samples_split=9, n_estimators=250;, score=0.775 total time=   1.0s\n",
      "[CV 1/3] END bootstrap=False, max_depth=30, max_features=sqrt, min_samples_leaf=10, min_samples_split=5, n_estimators=200;, score=0.716 total time=   0.5s\n",
      "[CV 2/3] END bootstrap=False, max_depth=30, max_features=sqrt, min_samples_leaf=10, min_samples_split=5, n_estimators=200;, score=0.686 total time=   0.5s\n",
      "[CV 3/3] END bootstrap=False, max_depth=30, max_features=sqrt, min_samples_leaf=10, min_samples_split=5, n_estimators=200;, score=0.766 total time=   0.5s\n",
      "[CV 1/3] END bootstrap=False, max_depth=20, max_features=log2, min_samples_leaf=2, min_samples_split=7, n_estimators=310;, score=0.731 total time=   1.2s\n",
      "[CV 2/3] END bootstrap=False, max_depth=20, max_features=log2, min_samples_leaf=2, min_samples_split=7, n_estimators=310;, score=0.663 total time=   1.1s\n",
      "[CV 3/3] END bootstrap=False, max_depth=20, max_features=log2, min_samples_leaf=2, min_samples_split=7, n_estimators=310;, score=0.787 total time=   1.2s\n",
      "[CV 1/3] END bootstrap=True, max_depth=10, max_features=log2, min_samples_leaf=5, min_samples_split=9, n_estimators=310;, score=0.731 total time=   1.1s\n",
      "[CV 2/3] END bootstrap=True, max_depth=10, max_features=log2, min_samples_leaf=5, min_samples_split=9, n_estimators=310;, score=0.686 total time=   1.1s\n",
      "[CV 3/3] END bootstrap=True, max_depth=10, max_features=log2, min_samples_leaf=5, min_samples_split=9, n_estimators=310;, score=0.760 total time=   1.0s\n",
      "[CV 1/3] END bootstrap=True, max_depth=50, max_features=log2, min_samples_leaf=10, min_samples_split=14, n_estimators=250;, score=0.714 total time=   0.7s\n",
      "[CV 2/3] END bootstrap=True, max_depth=50, max_features=log2, min_samples_leaf=10, min_samples_split=14, n_estimators=250;, score=0.694 total time=   0.8s\n",
      "[CV 3/3] END bootstrap=True, max_depth=50, max_features=log2, min_samples_leaf=10, min_samples_split=14, n_estimators=250;, score=0.757 total time=   0.9s\n",
      "[CV 1/3] END bootstrap=True, max_depth=20, max_features=sqrt, min_samples_leaf=5, min_samples_split=7, n_estimators=270;, score=0.716 total time=   0.9s\n",
      "[CV 2/3] END bootstrap=True, max_depth=20, max_features=sqrt, min_samples_leaf=5, min_samples_split=7, n_estimators=270;, score=0.682 total time=   0.9s\n",
      "[CV 3/3] END bootstrap=True, max_depth=20, max_features=sqrt, min_samples_leaf=5, min_samples_split=7, n_estimators=270;, score=0.757 total time=   0.9s\n",
      "[CV 1/3] END bootstrap=True, max_depth=20, max_features=log2, min_samples_leaf=5, min_samples_split=7, n_estimators=200;, score=0.723 total time=   0.7s\n",
      "[CV 2/3] END bootstrap=True, max_depth=20, max_features=log2, min_samples_leaf=5, min_samples_split=7, n_estimators=200;, score=0.686 total time=   0.7s\n",
      "[CV 3/3] END bootstrap=True, max_depth=20, max_features=log2, min_samples_leaf=5, min_samples_split=7, n_estimators=200;, score=0.769 total time=   0.7s\n",
      "[CV 1/3] END bootstrap=False, max_depth=40, max_features=log2, min_samples_leaf=8, min_samples_split=5, n_estimators=200;, score=0.724 total time=   0.6s\n",
      "[CV 2/3] END bootstrap=False, max_depth=40, max_features=log2, min_samples_leaf=8, min_samples_split=5, n_estimators=200;, score=0.678 total time=   0.6s\n",
      "[CV 3/3] END bootstrap=False, max_depth=40, max_features=log2, min_samples_leaf=8, min_samples_split=5, n_estimators=200;, score=0.769 total time=   0.5s\n",
      "[CV 1/3] END bootstrap=False, max_depth=10, max_features=sqrt, min_samples_leaf=10, min_samples_split=2, n_estimators=200;, score=0.720 total time=   0.5s\n",
      "[CV 2/3] END bootstrap=False, max_depth=10, max_features=sqrt, min_samples_leaf=10, min_samples_split=2, n_estimators=200;, score=0.686 total time=   0.5s\n",
      "[CV 3/3] END bootstrap=False, max_depth=10, max_features=sqrt, min_samples_leaf=10, min_samples_split=2, n_estimators=200;, score=0.766 total time=   0.5s\n",
      "[CV 1/3] END bootstrap=False, max_depth=30, max_features=sqrt, min_samples_leaf=5, min_samples_split=2, n_estimators=390;, score=0.729 total time=   1.1s\n",
      "[CV 2/3] END bootstrap=False, max_depth=30, max_features=sqrt, min_samples_leaf=5, min_samples_split=2, n_estimators=390;, score=0.670 total time=   1.1s\n",
      "[CV 3/3] END bootstrap=False, max_depth=30, max_features=sqrt, min_samples_leaf=5, min_samples_split=2, n_estimators=390;, score=0.776 total time=   1.1s\n",
      "[CV 1/3] END bootstrap=True, max_depth=30, max_features=log2, min_samples_leaf=5, min_samples_split=7, n_estimators=310;, score=0.727 total time=   1.1s\n",
      "[CV 2/3] END bootstrap=True, max_depth=30, max_features=log2, min_samples_leaf=5, min_samples_split=7, n_estimators=310;, score=0.686 total time=   1.1s\n",
      "[CV 3/3] END bootstrap=True, max_depth=30, max_features=log2, min_samples_leaf=5, min_samples_split=7, n_estimators=310;, score=0.765 total time=   1.1s\n",
      "[CV 1/3] END bootstrap=False, max_depth=40, max_features=log2, min_samples_leaf=6, min_samples_split=2, n_estimators=350;, score=0.717 total time=   1.1s\n",
      "[CV 2/3] END bootstrap=False, max_depth=40, max_features=log2, min_samples_leaf=6, min_samples_split=2, n_estimators=350;, score=0.674 total time=   1.1s\n",
      "[CV 3/3] END bootstrap=False, max_depth=40, max_features=log2, min_samples_leaf=6, min_samples_split=2, n_estimators=350;, score=0.793 total time=   1.1s\n",
      "[CV 1/3] END bootstrap=True, max_depth=10, max_features=log2, min_samples_leaf=8, min_samples_split=9, n_estimators=250;, score=0.712 total time=   0.9s\n",
      "[CV 2/3] END bootstrap=True, max_depth=10, max_features=log2, min_samples_leaf=8, min_samples_split=9, n_estimators=250;, score=0.694 total time=   0.8s\n",
      "[CV 3/3] END bootstrap=True, max_depth=10, max_features=log2, min_samples_leaf=8, min_samples_split=9, n_estimators=250;, score=0.757 total time=   0.8s\n",
      "[CV 1/3] END bootstrap=False, max_depth=30, max_features=sqrt, min_samples_leaf=8, min_samples_split=5, n_estimators=310;, score=0.724 total time=   0.8s\n",
      "[CV 2/3] END bootstrap=False, max_depth=30, max_features=sqrt, min_samples_leaf=8, min_samples_split=5, n_estimators=310;, score=0.667 total time=   0.8s\n",
      "[CV 3/3] END bootstrap=False, max_depth=30, max_features=sqrt, min_samples_leaf=8, min_samples_split=5, n_estimators=310;, score=0.762 total time=   0.8s\n",
      "[CV 1/3] END bootstrap=True, max_depth=20, max_features=log2, min_samples_leaf=2, min_samples_split=5, n_estimators=390;, score=0.733 total time=   1.6s\n",
      "[CV 2/3] END bootstrap=True, max_depth=20, max_features=log2, min_samples_leaf=2, min_samples_split=5, n_estimators=390;, score=0.674 total time=   1.5s\n",
      "[CV 3/3] END bootstrap=True, max_depth=20, max_features=log2, min_samples_leaf=2, min_samples_split=5, n_estimators=390;, score=0.791 total time=   1.6s\n",
      "[CV 1/3] END bootstrap=False, max_depth=10, max_features=sqrt, min_samples_leaf=10, min_samples_split=7, n_estimators=390;, score=0.730 total time=   1.0s\n",
      "[CV 2/3] END bootstrap=False, max_depth=10, max_features=sqrt, min_samples_leaf=10, min_samples_split=7, n_estimators=390;, score=0.682 total time=   1.0s\n",
      "[CV 3/3] END bootstrap=False, max_depth=10, max_features=sqrt, min_samples_leaf=10, min_samples_split=7, n_estimators=390;, score=0.766 total time=   1.0s\n",
      "[CV 1/3] END bootstrap=False, max_depth=30, max_features=sqrt, min_samples_leaf=2, min_samples_split=2, n_estimators=390;, score=0.740 total time=   1.3s\n",
      "[CV 2/3] END bootstrap=False, max_depth=30, max_features=sqrt, min_samples_leaf=2, min_samples_split=2, n_estimators=390;, score=0.689 total time=   1.3s\n"
     ]
    },
    {
     "name": "stdout",
     "output_type": "stream",
     "text": [
      "[CV 3/3] END bootstrap=False, max_depth=30, max_features=sqrt, min_samples_leaf=2, min_samples_split=2, n_estimators=390;, score=0.789 total time=   1.3s\n",
      "[CV 1/3] END bootstrap=False, max_depth=30, max_features=sqrt, min_samples_leaf=2, min_samples_split=9, n_estimators=250;, score=0.728 total time=   0.8s\n",
      "[CV 2/3] END bootstrap=False, max_depth=30, max_features=sqrt, min_samples_leaf=2, min_samples_split=9, n_estimators=250;, score=0.663 total time=   0.7s\n",
      "[CV 3/3] END bootstrap=False, max_depth=30, max_features=sqrt, min_samples_leaf=2, min_samples_split=9, n_estimators=250;, score=0.795 total time=   0.8s\n",
      "[CV 1/3] END bootstrap=True, max_depth=10, max_features=log2, min_samples_leaf=5, min_samples_split=2, n_estimators=270;, score=0.724 total time=   0.8s\n",
      "[CV 2/3] END bootstrap=True, max_depth=10, max_features=log2, min_samples_leaf=5, min_samples_split=2, n_estimators=270;, score=0.686 total time=   0.9s\n",
      "[CV 3/3] END bootstrap=True, max_depth=10, max_features=log2, min_samples_leaf=5, min_samples_split=2, n_estimators=270;, score=0.767 total time=   0.9s\n",
      "[CV 1/3] END bootstrap=False, max_depth=40, max_features=log2, min_samples_leaf=6, min_samples_split=9, n_estimators=250;, score=0.717 total time=   0.7s\n",
      "[CV 2/3] END bootstrap=False, max_depth=40, max_features=log2, min_samples_leaf=6, min_samples_split=9, n_estimators=250;, score=0.678 total time=   0.7s\n",
      "[CV 3/3] END bootstrap=False, max_depth=40, max_features=log2, min_samples_leaf=6, min_samples_split=9, n_estimators=250;, score=0.793 total time=   0.8s\n",
      "[CV 1/3] END bootstrap=True, max_depth=50, max_features=sqrt, min_samples_leaf=6, min_samples_split=5, n_estimators=350;, score=0.731 total time=   1.1s\n",
      "[CV 2/3] END bootstrap=True, max_depth=50, max_features=sqrt, min_samples_leaf=6, min_samples_split=5, n_estimators=350;, score=0.682 total time=   1.1s\n",
      "[CV 3/3] END bootstrap=True, max_depth=50, max_features=sqrt, min_samples_leaf=6, min_samples_split=5, n_estimators=350;, score=0.764 total time=   1.3s\n",
      "[CV 1/3] END bootstrap=False, max_depth=30, max_features=sqrt, min_samples_leaf=10, min_samples_split=7, n_estimators=250;, score=0.708 total time=   0.2s\n",
      "[CV 2/3] END bootstrap=False, max_depth=30, max_features=sqrt, min_samples_leaf=10, min_samples_split=7, n_estimators=250;, score=0.682 total time=   0.2s\n",
      "[CV 3/3] END bootstrap=False, max_depth=30, max_features=sqrt, min_samples_leaf=10, min_samples_split=7, n_estimators=250;, score=0.766 total time=   0.6s\n",
      "[CV 1/3] END bootstrap=False, max_depth=50, max_features=sqrt, min_samples_leaf=10, min_samples_split=7, n_estimators=250;, score=0.708 total time=   0.5s\n",
      "[CV 2/3] END bootstrap=False, max_depth=50, max_features=sqrt, min_samples_leaf=10, min_samples_split=7, n_estimators=250;, score=0.682 total time=   0.6s\n",
      "[CV 3/3] END bootstrap=False, max_depth=50, max_features=sqrt, min_samples_leaf=10, min_samples_split=7, n_estimators=250;, score=0.766 total time=   0.7s\n",
      "[CV 1/3] END bootstrap=True, max_depth=10, max_features=sqrt, min_samples_leaf=10, min_samples_split=7, n_estimators=200;, score=0.733 total time=   0.6s\n",
      "[CV 2/3] END bootstrap=True, max_depth=10, max_features=sqrt, min_samples_leaf=10, min_samples_split=7, n_estimators=200;, score=0.674 total time=   0.6s\n",
      "[CV 3/3] END bootstrap=True, max_depth=10, max_features=sqrt, min_samples_leaf=10, min_samples_split=7, n_estimators=200;, score=0.754 total time=   0.6s\n",
      "[CV 1/3] END bootstrap=True, max_depth=20, max_features=log2, min_samples_leaf=6, min_samples_split=5, n_estimators=310;, score=0.734 total time=   1.1s\n",
      "[CV 2/3] END bootstrap=True, max_depth=20, max_features=log2, min_samples_leaf=6, min_samples_split=5, n_estimators=310;, score=0.682 total time=   1.1s\n",
      "[CV 3/3] END bootstrap=True, max_depth=20, max_features=log2, min_samples_leaf=6, min_samples_split=5, n_estimators=310;, score=0.757 total time=   1.1s\n",
      "[CV 1/3] END bootstrap=True, max_depth=20, max_features=sqrt, min_samples_leaf=8, min_samples_split=7, n_estimators=310;, score=0.739 total time=   1.1s\n",
      "[CV 2/3] END bootstrap=True, max_depth=20, max_features=sqrt, min_samples_leaf=8, min_samples_split=7, n_estimators=310;, score=0.674 total time=   1.0s\n",
      "[CV 3/3] END bootstrap=True, max_depth=20, max_features=sqrt, min_samples_leaf=8, min_samples_split=7, n_estimators=310;, score=0.762 total time=   1.0s\n",
      "[CV 1/3] END bootstrap=False, max_depth=30, max_features=log2, min_samples_leaf=8, min_samples_split=7, n_estimators=390;, score=0.724 total time=   1.2s\n",
      "[CV 2/3] END bootstrap=False, max_depth=30, max_features=log2, min_samples_leaf=8, min_samples_split=7, n_estimators=390;, score=0.674 total time=   1.2s\n",
      "[CV 3/3] END bootstrap=False, max_depth=30, max_features=log2, min_samples_leaf=8, min_samples_split=7, n_estimators=390;, score=0.769 total time=   1.5s\n",
      "[CV 1/3] END bootstrap=False, max_depth=50, max_features=log2, min_samples_leaf=2, min_samples_split=14, n_estimators=250;, score=0.747 total time=   1.1s\n",
      "[CV 2/3] END bootstrap=False, max_depth=50, max_features=log2, min_samples_leaf=2, min_samples_split=14, n_estimators=250;, score=0.667 total time=   1.1s\n",
      "[CV 3/3] END bootstrap=False, max_depth=50, max_features=log2, min_samples_leaf=2, min_samples_split=14, n_estimators=250;, score=0.814 total time=   1.1s\n",
      "[CV 1/3] END bootstrap=False, max_depth=40, max_features=log2, min_samples_leaf=5, min_samples_split=9, n_estimators=390;, score=0.737 total time=   1.6s\n",
      "[CV 2/3] END bootstrap=False, max_depth=40, max_features=log2, min_samples_leaf=5, min_samples_split=9, n_estimators=390;, score=0.659 total time=   1.3s\n",
      "[CV 3/3] END bootstrap=False, max_depth=40, max_features=log2, min_samples_leaf=5, min_samples_split=9, n_estimators=390;, score=0.786 total time=   1.3s\n",
      "[CV 1/3] END bootstrap=True, max_depth=50, max_features=log2, min_samples_leaf=2, min_samples_split=2, n_estimators=270;, score=0.724 total time=   1.1s\n",
      "[CV 2/3] END bootstrap=True, max_depth=50, max_features=log2, min_samples_leaf=2, min_samples_split=2, n_estimators=270;, score=0.670 total time=   1.1s\n",
      "[CV 3/3] END bootstrap=True, max_depth=50, max_features=log2, min_samples_leaf=2, min_samples_split=2, n_estimators=270;, score=0.789 total time=   1.1s\n",
      "[CV 1/3] END bootstrap=False, max_depth=40, max_features=log2, min_samples_leaf=8, min_samples_split=9, n_estimators=350;, score=0.724 total time=   1.1s\n",
      "[CV 2/3] END bootstrap=False, max_depth=40, max_features=log2, min_samples_leaf=8, min_samples_split=9, n_estimators=350;, score=0.678 total time=   1.1s\n",
      "[CV 3/3] END bootstrap=False, max_depth=40, max_features=log2, min_samples_leaf=8, min_samples_split=9, n_estimators=350;, score=0.762 total time=   1.1s\n",
      "[CV 1/3] END bootstrap=True, max_depth=40, max_features=sqrt, min_samples_leaf=10, min_samples_split=5, n_estimators=310;, score=0.742 total time=   1.0s\n",
      "[CV 2/3] END bootstrap=True, max_depth=40, max_features=sqrt, min_samples_leaf=10, min_samples_split=5, n_estimators=310;, score=0.674 total time=   1.0s\n",
      "[CV 3/3] END bootstrap=True, max_depth=40, max_features=sqrt, min_samples_leaf=10, min_samples_split=5, n_estimators=310;, score=0.732 total time=   0.9s\n",
      "[CV 1/3] END bootstrap=True, max_depth=40, max_features=sqrt, min_samples_leaf=8, min_samples_split=7, n_estimators=390;, score=0.734 total time=   1.2s\n",
      "[CV 2/3] END bootstrap=True, max_depth=40, max_features=sqrt, min_samples_leaf=8, min_samples_split=7, n_estimators=390;, score=0.674 total time=   1.3s\n",
      "[CV 3/3] END bootstrap=True, max_depth=40, max_features=sqrt, min_samples_leaf=8, min_samples_split=7, n_estimators=390;, score=0.754 total time=   1.3s\n",
      "[CV 1/3] END bootstrap=False, max_depth=30, max_features=log2, min_samples_leaf=8, min_samples_split=7, n_estimators=310;, score=0.731 total time=   0.9s\n",
      "[CV 2/3] END bootstrap=False, max_depth=30, max_features=log2, min_samples_leaf=8, min_samples_split=7, n_estimators=310;, score=0.678 total time=   0.9s\n",
      "[CV 3/3] END bootstrap=False, max_depth=30, max_features=log2, min_samples_leaf=8, min_samples_split=7, n_estimators=310;, score=0.769 total time=   0.9s\n",
      "[CV 1/3] END bootstrap=True, max_depth=10, max_features=log2, min_samples_leaf=2, min_samples_split=9, n_estimators=310;, score=0.733 total time=   1.2s\n",
      "[CV 2/3] END bootstrap=True, max_depth=10, max_features=log2, min_samples_leaf=2, min_samples_split=9, n_estimators=310;, score=0.682 total time=   1.2s\n"
     ]
    },
    {
     "name": "stdout",
     "output_type": "stream",
     "text": [
      "[CV 3/3] END bootstrap=True, max_depth=10, max_features=log2, min_samples_leaf=2, min_samples_split=9, n_estimators=310;, score=0.789 total time=   1.4s\n",
      "[CV 1/3] END bootstrap=True, max_depth=20, max_features=sqrt, min_samples_leaf=2, min_samples_split=7, n_estimators=390;, score=0.728 total time=   1.5s\n",
      "[CV 2/3] END bootstrap=True, max_depth=20, max_features=sqrt, min_samples_leaf=2, min_samples_split=7, n_estimators=390;, score=0.670 total time=   1.5s\n",
      "[CV 3/3] END bootstrap=True, max_depth=20, max_features=sqrt, min_samples_leaf=2, min_samples_split=7, n_estimators=390;, score=0.786 total time=   1.6s\n",
      "[CV 1/3] END bootstrap=False, max_depth=50, max_features=sqrt, min_samples_leaf=6, min_samples_split=9, n_estimators=200;, score=0.717 total time=   0.6s\n",
      "[CV 2/3] END bootstrap=False, max_depth=50, max_features=sqrt, min_samples_leaf=6, min_samples_split=9, n_estimators=200;, score=0.670 total time=   0.5s\n",
      "[CV 3/3] END bootstrap=False, max_depth=50, max_features=sqrt, min_samples_leaf=6, min_samples_split=9, n_estimators=200;, score=0.772 total time=   0.5s\n",
      "[CV 1/3] END bootstrap=True, max_depth=50, max_features=sqrt, min_samples_leaf=2, min_samples_split=14, n_estimators=310;, score=0.720 total time=   1.0s\n",
      "[CV 2/3] END bootstrap=True, max_depth=50, max_features=sqrt, min_samples_leaf=2, min_samples_split=14, n_estimators=310;, score=0.674 total time=   1.0s\n",
      "[CV 3/3] END bootstrap=True, max_depth=50, max_features=sqrt, min_samples_leaf=2, min_samples_split=14, n_estimators=310;, score=0.763 total time=   1.1s\n",
      "[CV 1/3] END bootstrap=True, max_depth=50, max_features=log2, min_samples_leaf=5, min_samples_split=9, n_estimators=310;, score=0.727 total time=   1.2s\n",
      "[CV 2/3] END bootstrap=True, max_depth=50, max_features=log2, min_samples_leaf=5, min_samples_split=9, n_estimators=310;, score=0.686 total time=   1.1s\n",
      "[CV 3/3] END bootstrap=True, max_depth=50, max_features=log2, min_samples_leaf=5, min_samples_split=9, n_estimators=310;, score=0.765 total time=   1.2s\n",
      "[CV 1/3] END bootstrap=False, max_depth=40, max_features=sqrt, min_samples_leaf=8, min_samples_split=14, n_estimators=350;, score=0.720 total time=   0.9s\n",
      "[CV 2/3] END bootstrap=False, max_depth=40, max_features=sqrt, min_samples_leaf=8, min_samples_split=14, n_estimators=350;, score=0.670 total time=   0.9s\n",
      "[CV 3/3] END bootstrap=False, max_depth=40, max_features=sqrt, min_samples_leaf=8, min_samples_split=14, n_estimators=350;, score=0.762 total time=   0.9s\n",
      "[CV 1/3] END bootstrap=False, max_depth=30, max_features=sqrt, min_samples_leaf=10, min_samples_split=2, n_estimators=250;, score=0.708 total time=   0.6s\n",
      "[CV 2/3] END bootstrap=False, max_depth=30, max_features=sqrt, min_samples_leaf=10, min_samples_split=2, n_estimators=250;, score=0.682 total time=   0.6s\n",
      "[CV 3/3] END bootstrap=False, max_depth=30, max_features=sqrt, min_samples_leaf=10, min_samples_split=2, n_estimators=250;, score=0.766 total time=   0.6s\n",
      "[CV 1/3] END bootstrap=False, max_depth=20, max_features=sqrt, min_samples_leaf=5, min_samples_split=9, n_estimators=350;, score=0.729 total time=   1.0s\n",
      "[CV 2/3] END bootstrap=False, max_depth=20, max_features=sqrt, min_samples_leaf=5, min_samples_split=9, n_estimators=350;, score=0.670 total time=   1.0s\n",
      "[CV 3/3] END bootstrap=False, max_depth=20, max_features=sqrt, min_samples_leaf=5, min_samples_split=9, n_estimators=350;, score=0.772 total time=   1.1s\n",
      "[CV 1/3] END bootstrap=False, max_depth=30, max_features=sqrt, min_samples_leaf=2, min_samples_split=14, n_estimators=250;, score=0.736 total time=   0.8s\n",
      "[CV 2/3] END bootstrap=False, max_depth=30, max_features=sqrt, min_samples_leaf=2, min_samples_split=14, n_estimators=250;, score=0.663 total time=   0.8s\n",
      "[CV 3/3] END bootstrap=False, max_depth=30, max_features=sqrt, min_samples_leaf=2, min_samples_split=14, n_estimators=250;, score=0.791 total time=   0.5s\n",
      "[CV 1/3] END bootstrap=False, max_depth=30, max_features=sqrt, min_samples_leaf=5, min_samples_split=2, n_estimators=310;, score=0.722 total time=   0.3s\n",
      "[CV 2/3] END bootstrap=False, max_depth=30, max_features=sqrt, min_samples_leaf=5, min_samples_split=2, n_estimators=310;, score=0.667 total time=   0.9s\n",
      "[CV 3/3] END bootstrap=False, max_depth=30, max_features=sqrt, min_samples_leaf=5, min_samples_split=2, n_estimators=310;, score=0.772 total time=   0.9s\n",
      "[CV 1/3] END bootstrap=True, max_depth=30, max_features=sqrt, min_samples_leaf=8, min_samples_split=2, n_estimators=350;, score=0.734 total time=   1.1s\n",
      "[CV 2/3] END bootstrap=True, max_depth=30, max_features=sqrt, min_samples_leaf=8, min_samples_split=2, n_estimators=350;, score=0.674 total time=   1.1s\n",
      "[CV 3/3] END bootstrap=True, max_depth=30, max_features=sqrt, min_samples_leaf=8, min_samples_split=2, n_estimators=350;, score=0.754 total time=   1.2s\n",
      "[CV 1/3] END bootstrap=False, max_depth=40, max_features=sqrt, min_samples_leaf=5, min_samples_split=9, n_estimators=250;, score=0.722 total time=   0.7s\n",
      "[CV 2/3] END bootstrap=False, max_depth=40, max_features=sqrt, min_samples_leaf=5, min_samples_split=9, n_estimators=250;, score=0.663 total time=   0.7s\n",
      "[CV 3/3] END bootstrap=False, max_depth=40, max_features=sqrt, min_samples_leaf=5, min_samples_split=9, n_estimators=250;, score=0.779 total time=   0.7s\n",
      "[CV 1/3] END bootstrap=False, max_depth=20, max_features=sqrt, min_samples_leaf=5, min_samples_split=2, n_estimators=390;, score=0.729 total time=   1.2s\n",
      "[CV 2/3] END bootstrap=False, max_depth=20, max_features=sqrt, min_samples_leaf=5, min_samples_split=2, n_estimators=390;, score=0.670 total time=   1.1s\n",
      "[CV 3/3] END bootstrap=False, max_depth=20, max_features=sqrt, min_samples_leaf=5, min_samples_split=2, n_estimators=390;, score=0.776 total time=   1.2s\n",
      "[CV 1/3] END bootstrap=False, max_depth=40, max_features=log2, min_samples_leaf=5, min_samples_split=2, n_estimators=250;, score=0.733 total time=   0.8s\n",
      "[CV 2/3] END bootstrap=False, max_depth=40, max_features=log2, min_samples_leaf=5, min_samples_split=2, n_estimators=250;, score=0.667 total time=   0.8s\n",
      "[CV 3/3] END bootstrap=False, max_depth=40, max_features=log2, min_samples_leaf=5, min_samples_split=2, n_estimators=250;, score=0.791 total time=   0.8s\n",
      "[CV 1/3] END bootstrap=False, max_depth=40, max_features=log2, min_samples_leaf=10, min_samples_split=5, n_estimators=350;, score=0.720 total time=   1.0s\n",
      "[CV 2/3] END bootstrap=False, max_depth=40, max_features=log2, min_samples_leaf=10, min_samples_split=5, n_estimators=350;, score=0.678 total time=   1.0s\n",
      "[CV 3/3] END bootstrap=False, max_depth=40, max_features=log2, min_samples_leaf=10, min_samples_split=5, n_estimators=350;, score=0.764 total time=   1.0s\n",
      "[CV 1/3] END bootstrap=False, max_depth=50, max_features=log2, min_samples_leaf=10, min_samples_split=2, n_estimators=390;, score=0.720 total time=   1.2s\n",
      "[CV 2/3] END bootstrap=False, max_depth=50, max_features=log2, min_samples_leaf=10, min_samples_split=2, n_estimators=390;, score=0.678 total time=   1.2s\n",
      "[CV 3/3] END bootstrap=False, max_depth=50, max_features=log2, min_samples_leaf=10, min_samples_split=2, n_estimators=390;, score=0.764 total time=   1.2s\n",
      "[CV 1/3] END bootstrap=True, max_depth=10, max_features=log2, min_samples_leaf=5, min_samples_split=14, n_estimators=200;, score=0.723 total time=   0.7s\n",
      "[CV 2/3] END bootstrap=True, max_depth=10, max_features=log2, min_samples_leaf=5, min_samples_split=14, n_estimators=200;, score=0.682 total time=   0.7s\n",
      "[CV 3/3] END bootstrap=True, max_depth=10, max_features=log2, min_samples_leaf=5, min_samples_split=14, n_estimators=200;, score=0.782 total time=   0.7s\n",
      "[CV 1/3] END bootstrap=True, max_depth=30, max_features=sqrt, min_samples_leaf=8, min_samples_split=2, n_estimators=200;, score=0.737 total time=   0.6s\n",
      "[CV 2/3] END bootstrap=True, max_depth=30, max_features=sqrt, min_samples_leaf=8, min_samples_split=2, n_estimators=200;, score=0.678 total time=   0.6s\n",
      "[CV 3/3] END bootstrap=True, max_depth=30, max_features=sqrt, min_samples_leaf=8, min_samples_split=2, n_estimators=200;, score=0.759 total time=   0.6s\n",
      "[CV 1/3] END bootstrap=True, max_depth=30, max_features=sqrt, min_samples_leaf=5, min_samples_split=2, n_estimators=250;, score=0.726 total time=   0.8s\n",
      "[CV 2/3] END bootstrap=True, max_depth=30, max_features=sqrt, min_samples_leaf=5, min_samples_split=2, n_estimators=250;, score=0.686 total time=   0.8s\n"
     ]
    },
    {
     "name": "stdout",
     "output_type": "stream",
     "text": [
      "[CV 3/3] END bootstrap=True, max_depth=30, max_features=sqrt, min_samples_leaf=5, min_samples_split=2, n_estimators=250;, score=0.757 total time=   0.8s\n",
      "[CV 1/3] END bootstrap=False, max_depth=20, max_features=log2, min_samples_leaf=10, min_samples_split=9, n_estimators=250;, score=0.727 total time=   0.7s\n",
      "[CV 2/3] END bootstrap=False, max_depth=20, max_features=log2, min_samples_leaf=10, min_samples_split=9, n_estimators=250;, score=0.678 total time=   0.7s\n",
      "[CV 3/3] END bootstrap=False, max_depth=20, max_features=log2, min_samples_leaf=10, min_samples_split=9, n_estimators=250;, score=0.764 total time=   0.7s\n",
      "[CV 1/3] END bootstrap=False, max_depth=10, max_features=sqrt, min_samples_leaf=10, min_samples_split=14, n_estimators=310;, score=0.730 total time=   0.8s\n",
      "[CV 2/3] END bootstrap=False, max_depth=10, max_features=sqrt, min_samples_leaf=10, min_samples_split=14, n_estimators=310;, score=0.682 total time=   0.8s\n",
      "[CV 3/3] END bootstrap=False, max_depth=10, max_features=sqrt, min_samples_leaf=10, min_samples_split=14, n_estimators=310;, score=0.766 total time=   0.8s\n",
      "[CV 1/3] END bootstrap=True, max_depth=20, max_features=sqrt, min_samples_leaf=8, min_samples_split=14, n_estimators=270;, score=0.742 total time=   0.8s\n",
      "[CV 2/3] END bootstrap=True, max_depth=20, max_features=sqrt, min_samples_leaf=8, min_samples_split=14, n_estimators=270;, score=0.674 total time=   0.9s\n",
      "[CV 3/3] END bootstrap=True, max_depth=20, max_features=sqrt, min_samples_leaf=8, min_samples_split=14, n_estimators=270;, score=0.762 total time=   0.8s\n",
      "[CV 1/3] END bootstrap=True, max_depth=40, max_features=log2, min_samples_leaf=6, min_samples_split=14, n_estimators=200;, score=0.716 total time=   0.7s\n",
      "[CV 2/3] END bootstrap=True, max_depth=40, max_features=log2, min_samples_leaf=6, min_samples_split=14, n_estimators=200;, score=0.694 total time=   0.7s\n",
      "[CV 3/3] END bootstrap=True, max_depth=40, max_features=log2, min_samples_leaf=6, min_samples_split=14, n_estimators=200;, score=0.765 total time=   0.7s\n",
      "[CV 1/3] END bootstrap=False, max_depth=40, max_features=sqrt, min_samples_leaf=10, min_samples_split=9, n_estimators=350;, score=0.726 total time=   1.0s\n",
      "[CV 2/3] END bootstrap=False, max_depth=40, max_features=sqrt, min_samples_leaf=10, min_samples_split=9, n_estimators=350;, score=0.678 total time=   1.0s\n",
      "[CV 3/3] END bootstrap=False, max_depth=40, max_features=sqrt, min_samples_leaf=10, min_samples_split=9, n_estimators=350;, score=0.766 total time=   0.8s\n",
      "[CV 1/3] END bootstrap=False, max_depth=10, max_features=log2, min_samples_leaf=10, min_samples_split=7, n_estimators=250;, score=0.727 total time=   0.7s\n",
      "[CV 2/3] END bootstrap=False, max_depth=10, max_features=log2, min_samples_leaf=10, min_samples_split=7, n_estimators=250;, score=0.678 total time=   0.7s\n",
      "[CV 3/3] END bootstrap=False, max_depth=10, max_features=log2, min_samples_leaf=10, min_samples_split=7, n_estimators=250;, score=0.764 total time=   0.7s\n",
      "[CV 1/3] END bootstrap=False, max_depth=30, max_features=sqrt, min_samples_leaf=5, min_samples_split=5, n_estimators=200;, score=0.722 total time=   0.5s\n",
      "[CV 2/3] END bootstrap=False, max_depth=30, max_features=sqrt, min_samples_leaf=5, min_samples_split=5, n_estimators=200;, score=0.667 total time=   0.5s\n",
      "[CV 3/3] END bootstrap=False, max_depth=30, max_features=sqrt, min_samples_leaf=5, min_samples_split=5, n_estimators=200;, score=0.779 total time=   0.6s\n",
      "[CV 1/3] END bootstrap=True, max_depth=50, max_features=log2, min_samples_leaf=6, min_samples_split=14, n_estimators=390;, score=0.723 total time=   1.4s\n",
      "[CV 2/3] END bootstrap=True, max_depth=50, max_features=log2, min_samples_leaf=6, min_samples_split=14, n_estimators=390;, score=0.694 total time=   1.4s\n",
      "[CV 3/3] END bootstrap=True, max_depth=50, max_features=log2, min_samples_leaf=6, min_samples_split=14, n_estimators=390;, score=0.757 total time=   1.4s\n",
      "[CV 1/3] END bootstrap=False, max_depth=50, max_features=sqrt, min_samples_leaf=2, min_samples_split=14, n_estimators=310;, score=0.743 total time=   1.0s\n",
      "[CV 2/3] END bootstrap=False, max_depth=50, max_features=sqrt, min_samples_leaf=2, min_samples_split=14, n_estimators=310;, score=0.659 total time=   0.9s\n",
      "[CV 3/3] END bootstrap=False, max_depth=50, max_features=sqrt, min_samples_leaf=2, min_samples_split=14, n_estimators=310;, score=0.791 total time=   0.9s\n",
      "[CV 1/3] END bootstrap=True, max_depth=10, max_features=log2, min_samples_leaf=6, min_samples_split=14, n_estimators=310;, score=0.723 total time=   1.1s\n",
      "[CV 2/3] END bootstrap=True, max_depth=10, max_features=log2, min_samples_leaf=6, min_samples_split=14, n_estimators=310;, score=0.686 total time=   1.1s\n",
      "[CV 3/3] END bootstrap=True, max_depth=10, max_features=log2, min_samples_leaf=6, min_samples_split=14, n_estimators=310;, score=0.753 total time=   1.1s\n",
      "[CV 1/3] END bootstrap=False, max_depth=40, max_features=log2, min_samples_leaf=10, min_samples_split=7, n_estimators=270;, score=0.720 total time=   0.8s\n",
      "[CV 2/3] END bootstrap=False, max_depth=40, max_features=log2, min_samples_leaf=10, min_samples_split=7, n_estimators=270;, score=0.678 total time=   0.8s\n",
      "[CV 3/3] END bootstrap=False, max_depth=40, max_features=log2, min_samples_leaf=10, min_samples_split=7, n_estimators=270;, score=0.764 total time=   0.8s\n",
      "[CV 1/3] END bootstrap=True, max_depth=20, max_features=sqrt, min_samples_leaf=2, min_samples_split=7, n_estimators=200;, score=0.717 total time=   0.7s\n",
      "[CV 2/3] END bootstrap=True, max_depth=20, max_features=sqrt, min_samples_leaf=2, min_samples_split=7, n_estimators=200;, score=0.682 total time=   0.7s\n",
      "[CV 3/3] END bootstrap=True, max_depth=20, max_features=sqrt, min_samples_leaf=2, min_samples_split=7, n_estimators=200;, score=0.809 total time=   0.7s\n",
      "[CV 1/3] END bootstrap=True, max_depth=20, max_features=log2, min_samples_leaf=2, min_samples_split=9, n_estimators=310;, score=0.724 total time=   1.2s\n",
      "[CV 2/3] END bootstrap=True, max_depth=20, max_features=log2, min_samples_leaf=2, min_samples_split=9, n_estimators=310;, score=0.686 total time=   1.2s\n",
      "[CV 3/3] END bootstrap=True, max_depth=20, max_features=log2, min_samples_leaf=2, min_samples_split=9, n_estimators=310;, score=0.811 total time=   1.2s\n",
      "[CV 1/3] END bootstrap=False, max_depth=20, max_features=sqrt, min_samples_leaf=5, min_samples_split=14, n_estimators=350;, score=0.725 total time=   0.7s\n",
      "[CV 2/3] END bootstrap=False, max_depth=20, max_features=sqrt, min_samples_leaf=5, min_samples_split=14, n_estimators=350;, score=0.667 total time=   0.4s\n",
      "[CV 3/3] END bootstrap=False, max_depth=20, max_features=sqrt, min_samples_leaf=5, min_samples_split=14, n_estimators=350;, score=0.779 total time=   1.0s\n",
      "[CV 1/3] END bootstrap=False, max_depth=10, max_features=log2, min_samples_leaf=10, min_samples_split=2, n_estimators=250;, score=0.727 total time=   0.7s\n",
      "[CV 2/3] END bootstrap=False, max_depth=10, max_features=log2, min_samples_leaf=10, min_samples_split=2, n_estimators=250;, score=0.678 total time=   0.7s\n",
      "[CV 3/3] END bootstrap=False, max_depth=10, max_features=log2, min_samples_leaf=10, min_samples_split=2, n_estimators=250;, score=0.764 total time=   0.7s\n",
      "[CV 1/3] END bootstrap=True, max_depth=50, max_features=log2, min_samples_leaf=5, min_samples_split=14, n_estimators=270;, score=0.730 total time=   1.0s\n",
      "[CV 2/3] END bootstrap=True, max_depth=50, max_features=log2, min_samples_leaf=5, min_samples_split=14, n_estimators=270;, score=0.686 total time=   0.9s\n",
      "[CV 3/3] END bootstrap=True, max_depth=50, max_features=log2, min_samples_leaf=5, min_samples_split=14, n_estimators=270;, score=0.775 total time=   0.9s\n",
      "[CV 1/3] END bootstrap=False, max_depth=10, max_features=sqrt, min_samples_leaf=6, min_samples_split=2, n_estimators=200;, score=0.705 total time=   0.5s\n",
      "[CV 2/3] END bootstrap=False, max_depth=10, max_features=sqrt, min_samples_leaf=6, min_samples_split=2, n_estimators=200;, score=0.670 total time=   0.6s\n",
      "[CV 3/3] END bootstrap=False, max_depth=10, max_features=sqrt, min_samples_leaf=6, min_samples_split=2, n_estimators=200;, score=0.772 total time=   0.5s\n",
      "[CV 1/3] END bootstrap=True, max_depth=10, max_features=sqrt, min_samples_leaf=8, min_samples_split=7, n_estimators=200;, score=0.733 total time=   0.6s\n",
      "[CV 2/3] END bootstrap=True, max_depth=10, max_features=sqrt, min_samples_leaf=8, min_samples_split=7, n_estimators=200;, score=0.674 total time=   0.6s\n"
     ]
    },
    {
     "name": "stdout",
     "output_type": "stream",
     "text": [
      "[CV 3/3] END bootstrap=True, max_depth=10, max_features=sqrt, min_samples_leaf=8, min_samples_split=7, n_estimators=200;, score=0.754 total time=   0.6s\n",
      "[CV 1/3] END bootstrap=False, max_depth=30, max_features=log2, min_samples_leaf=2, min_samples_split=5, n_estimators=390;, score=0.734 total time=   1.5s\n",
      "[CV 2/3] END bootstrap=False, max_depth=30, max_features=log2, min_samples_leaf=2, min_samples_split=5, n_estimators=390;, score=0.678 total time=   1.5s\n",
      "[CV 3/3] END bootstrap=False, max_depth=30, max_features=log2, min_samples_leaf=2, min_samples_split=5, n_estimators=390;, score=0.781 total time=   1.6s\n",
      "[CV 1/3] END bootstrap=False, max_depth=40, max_features=sqrt, min_samples_leaf=2, min_samples_split=9, n_estimators=250;, score=0.728 total time=   0.8s\n",
      "[CV 2/3] END bootstrap=False, max_depth=40, max_features=sqrt, min_samples_leaf=2, min_samples_split=9, n_estimators=250;, score=0.663 total time=   0.8s\n",
      "[CV 3/3] END bootstrap=False, max_depth=40, max_features=sqrt, min_samples_leaf=2, min_samples_split=9, n_estimators=250;, score=0.795 total time=   0.8s\n",
      "[CV 1/3] END bootstrap=True, max_depth=20, max_features=log2, min_samples_leaf=8, min_samples_split=14, n_estimators=200;, score=0.712 total time=   0.7s\n",
      "[CV 2/3] END bootstrap=True, max_depth=20, max_features=log2, min_samples_leaf=8, min_samples_split=14, n_estimators=200;, score=0.694 total time=   0.6s\n",
      "[CV 3/3] END bootstrap=True, max_depth=20, max_features=log2, min_samples_leaf=8, min_samples_split=14, n_estimators=200;, score=0.765 total time=   0.7s\n",
      "[CV 1/3] END bootstrap=True, max_depth=50, max_features=sqrt, min_samples_leaf=2, min_samples_split=5, n_estimators=270;, score=0.716 total time=   1.0s\n",
      "[CV 2/3] END bootstrap=True, max_depth=50, max_features=sqrt, min_samples_leaf=2, min_samples_split=5, n_estimators=270;, score=0.682 total time=   0.9s\n",
      "[CV 3/3] END bootstrap=True, max_depth=50, max_features=sqrt, min_samples_leaf=2, min_samples_split=5, n_estimators=270;, score=0.791 total time=   0.8s\n",
      "[CV 1/3] END bootstrap=False, max_depth=20, max_features=sqrt, min_samples_leaf=10, min_samples_split=7, n_estimators=270;, score=0.708 total time=   0.6s\n",
      "[CV 2/3] END bootstrap=False, max_depth=20, max_features=sqrt, min_samples_leaf=10, min_samples_split=7, n_estimators=270;, score=0.686 total time=   0.8s\n",
      "[CV 3/3] END bootstrap=False, max_depth=20, max_features=sqrt, min_samples_leaf=10, min_samples_split=7, n_estimators=270;, score=0.766 total time=   0.7s\n",
      "[CV 1/3] END bootstrap=False, max_depth=30, max_features=log2, min_samples_leaf=6, min_samples_split=7, n_estimators=310;, score=0.721 total time=   0.8s\n",
      "[CV 2/3] END bootstrap=False, max_depth=30, max_features=log2, min_samples_leaf=6, min_samples_split=7, n_estimators=310;, score=0.674 total time=   0.9s\n",
      "[CV 3/3] END bootstrap=False, max_depth=30, max_features=log2, min_samples_leaf=6, min_samples_split=7, n_estimators=310;, score=0.788 total time=   0.9s\n",
      "[CV 1/3] END bootstrap=False, max_depth=30, max_features=log2, min_samples_leaf=2, min_samples_split=14, n_estimators=250;, score=0.747 total time=   0.8s\n",
      "[CV 2/3] END bootstrap=False, max_depth=30, max_features=log2, min_samples_leaf=2, min_samples_split=14, n_estimators=250;, score=0.667 total time=   0.9s\n",
      "[CV 3/3] END bootstrap=False, max_depth=30, max_features=log2, min_samples_leaf=2, min_samples_split=14, n_estimators=250;, score=0.814 total time=   0.9s\n",
      "[CV 1/3] END bootstrap=False, max_depth=30, max_features=sqrt, min_samples_leaf=8, min_samples_split=9, n_estimators=250;, score=0.724 total time=   0.7s\n",
      "[CV 2/3] END bootstrap=False, max_depth=30, max_features=sqrt, min_samples_leaf=8, min_samples_split=9, n_estimators=250;, score=0.674 total time=   0.8s\n",
      "[CV 3/3] END bootstrap=False, max_depth=30, max_features=sqrt, min_samples_leaf=8, min_samples_split=9, n_estimators=250;, score=0.754 total time=   0.9s\n",
      "[CV 1/3] END bootstrap=True, max_depth=10, max_features=sqrt, min_samples_leaf=6, min_samples_split=14, n_estimators=310;, score=0.739 total time=   1.0s\n",
      "[CV 2/3] END bootstrap=True, max_depth=10, max_features=sqrt, min_samples_leaf=6, min_samples_split=14, n_estimators=310;, score=0.678 total time=   1.0s\n",
      "[CV 3/3] END bootstrap=True, max_depth=10, max_features=sqrt, min_samples_leaf=6, min_samples_split=14, n_estimators=310;, score=0.765 total time=   1.0s\n",
      "[CV 1/3] END bootstrap=False, max_depth=50, max_features=sqrt, min_samples_leaf=5, min_samples_split=2, n_estimators=200;, score=0.722 total time=   0.5s\n",
      "[CV 2/3] END bootstrap=False, max_depth=50, max_features=sqrt, min_samples_leaf=5, min_samples_split=2, n_estimators=200;, score=0.667 total time=   0.5s\n",
      "[CV 3/3] END bootstrap=False, max_depth=50, max_features=sqrt, min_samples_leaf=5, min_samples_split=2, n_estimators=200;, score=0.779 total time=   0.6s\n",
      "Best Parameters\n",
      "{'n_estimators': 250, 'min_samples_split': 14, 'min_samples_leaf': 2, 'max_features': 'log2', 'max_depth': 50, 'bootstrap': False}\n"
     ]
    }
   ],
   "source": [
    "model_rf_ht = RandomForestClassifier(random_state=34)\n",
    "rfr_cv = RandomizedSearchCV(estimator=model_rf_ht,scoring='f1',param_distributions = random_grid,n_iter=100,cv=3,verbose=3)\n",
    "rfr_cv.fit(x_train,y_train)\n",
    "best_param = rfr_cv.best_params_\n",
    "print('Best Parameters')\n",
    "print(best_param)"
   ]
  },
  {
   "cell_type": "code",
   "execution_count": 94,
   "id": "5efdc2c1",
   "metadata": {},
   "outputs": [
    {
     "data": {
      "text/html": [
       "<style>#sk-container-id-10 {color: black;}#sk-container-id-10 pre{padding: 0;}#sk-container-id-10 div.sk-toggleable {background-color: white;}#sk-container-id-10 label.sk-toggleable__label {cursor: pointer;display: block;width: 100%;margin-bottom: 0;padding: 0.3em;box-sizing: border-box;text-align: center;}#sk-container-id-10 label.sk-toggleable__label-arrow:before {content: \"▸\";float: left;margin-right: 0.25em;color: #696969;}#sk-container-id-10 label.sk-toggleable__label-arrow:hover:before {color: black;}#sk-container-id-10 div.sk-estimator:hover label.sk-toggleable__label-arrow:before {color: black;}#sk-container-id-10 div.sk-toggleable__content {max-height: 0;max-width: 0;overflow: hidden;text-align: left;background-color: #f0f8ff;}#sk-container-id-10 div.sk-toggleable__content pre {margin: 0.2em;color: black;border-radius: 0.25em;background-color: #f0f8ff;}#sk-container-id-10 input.sk-toggleable__control:checked~div.sk-toggleable__content {max-height: 200px;max-width: 100%;overflow: auto;}#sk-container-id-10 input.sk-toggleable__control:checked~label.sk-toggleable__label-arrow:before {content: \"▾\";}#sk-container-id-10 div.sk-estimator input.sk-toggleable__control:checked~label.sk-toggleable__label {background-color: #d4ebff;}#sk-container-id-10 div.sk-label input.sk-toggleable__control:checked~label.sk-toggleable__label {background-color: #d4ebff;}#sk-container-id-10 input.sk-hidden--visually {border: 0;clip: rect(1px 1px 1px 1px);clip: rect(1px, 1px, 1px, 1px);height: 1px;margin: -1px;overflow: hidden;padding: 0;position: absolute;width: 1px;}#sk-container-id-10 div.sk-estimator {font-family: monospace;background-color: #f0f8ff;border: 1px dotted black;border-radius: 0.25em;box-sizing: border-box;margin-bottom: 0.5em;}#sk-container-id-10 div.sk-estimator:hover {background-color: #d4ebff;}#sk-container-id-10 div.sk-parallel-item::after {content: \"\";width: 100%;border-bottom: 1px solid gray;flex-grow: 1;}#sk-container-id-10 div.sk-label:hover label.sk-toggleable__label {background-color: #d4ebff;}#sk-container-id-10 div.sk-serial::before {content: \"\";position: absolute;border-left: 1px solid gray;box-sizing: border-box;top: 0;bottom: 0;left: 50%;z-index: 0;}#sk-container-id-10 div.sk-serial {display: flex;flex-direction: column;align-items: center;background-color: white;padding-right: 0.2em;padding-left: 0.2em;position: relative;}#sk-container-id-10 div.sk-item {position: relative;z-index: 1;}#sk-container-id-10 div.sk-parallel {display: flex;align-items: stretch;justify-content: center;background-color: white;position: relative;}#sk-container-id-10 div.sk-item::before, #sk-container-id-10 div.sk-parallel-item::before {content: \"\";position: absolute;border-left: 1px solid gray;box-sizing: border-box;top: 0;bottom: 0;left: 50%;z-index: -1;}#sk-container-id-10 div.sk-parallel-item {display: flex;flex-direction: column;z-index: 1;position: relative;background-color: white;}#sk-container-id-10 div.sk-parallel-item:first-child::after {align-self: flex-end;width: 50%;}#sk-container-id-10 div.sk-parallel-item:last-child::after {align-self: flex-start;width: 50%;}#sk-container-id-10 div.sk-parallel-item:only-child::after {width: 0;}#sk-container-id-10 div.sk-dashed-wrapped {border: 1px dashed gray;margin: 0 0.4em 0.5em 0.4em;box-sizing: border-box;padding-bottom: 0.4em;background-color: white;}#sk-container-id-10 div.sk-label label {font-family: monospace;font-weight: bold;display: inline-block;line-height: 1.2em;}#sk-container-id-10 div.sk-label-container {text-align: center;}#sk-container-id-10 div.sk-container {/* jupyter's `normalize.less` sets `[hidden] { display: none; }` but bootstrap.min.css set `[hidden] { display: none !important; }` so we also need the `!important` here to be able to override the default hidden behavior on the sphinx rendered scikit-learn.org. See: https://github.com/scikit-learn/scikit-learn/issues/21755 */display: inline-block !important;position: relative;}#sk-container-id-10 div.sk-text-repr-fallback {display: none;}</style><div id=\"sk-container-id-10\" class=\"sk-top-container\"><div class=\"sk-text-repr-fallback\"><pre>RandomForestClassifier(bootstrap=False, max_depth=50, max_features=&#x27;log2&#x27;,\n",
       "                       min_samples_leaf=2, min_samples_split=14,\n",
       "                       n_estimators=250)</pre><b>In a Jupyter environment, please rerun this cell to show the HTML representation or trust the notebook. <br />On GitHub, the HTML representation is unable to render, please try loading this page with nbviewer.org.</b></div><div class=\"sk-container\" hidden><div class=\"sk-item\"><div class=\"sk-estimator sk-toggleable\"><input class=\"sk-toggleable__control sk-hidden--visually\" id=\"sk-estimator-id-10\" type=\"checkbox\" checked><label for=\"sk-estimator-id-10\" class=\"sk-toggleable__label sk-toggleable__label-arrow\">RandomForestClassifier</label><div class=\"sk-toggleable__content\"><pre>RandomForestClassifier(bootstrap=False, max_depth=50, max_features=&#x27;log2&#x27;,\n",
       "                       min_samples_leaf=2, min_samples_split=14,\n",
       "                       n_estimators=250)</pre></div></div></div></div></div>"
      ],
      "text/plain": [
       "RandomForestClassifier(bootstrap=False, max_depth=50, max_features='log2',\n",
       "                       min_samples_leaf=2, min_samples_split=14,\n",
       "                       n_estimators=250)"
      ]
     },
     "execution_count": 94,
     "metadata": {},
     "output_type": "execute_result"
    }
   ],
   "source": [
    "model_rfr_ht = RandomForestClassifier(n_estimators= 250, min_samples_split= 14, min_samples_leaf= 2, max_features= 'log2', max_depth= 50, bootstrap= False)\n",
    "model_rfr_ht.fit(x_train,y_train)"
   ]
  },
  {
   "cell_type": "code",
   "execution_count": 95,
   "id": "ccfe6a40",
   "metadata": {},
   "outputs": [],
   "source": [
    "y_pred_rfr_ht = model_rfr_ht.predict(x_test)"
   ]
  },
  {
   "cell_type": "markdown",
   "id": "719da879",
   "metadata": {},
   "source": [
    "### Evaluation"
   ]
  },
  {
   "cell_type": "code",
   "execution_count": 96,
   "id": "846e900c",
   "metadata": {},
   "outputs": [
    {
     "name": "stdout",
     "output_type": "stream",
     "text": [
      "Accuracy Score :  0.8212290502793296\n",
      "Recall Score :  0.7580645161290323\n",
      "Precision Score :  0.734375\n",
      "f1 Score :  0.7460317460317459\n"
     ]
    }
   ],
   "source": [
    "acc_rfr = accuracy_score(y_test,y_pred_rfr_ht)\n",
    "rec_rfr = recall_score(y_test,y_pred_rfr_ht)\n",
    "prec_rfr = precision_score(y_test,y_pred_rfr_ht)\n",
    "f1_rfr = f1_score(y_test,y_pred_rfr_ht)\n",
    "print(\"Accuracy Score : \",acc_rfr)\n",
    "print(\"Recall Score : \",rec_rfr)\n",
    "print(\"Precision Score : \",prec_rfr)\n",
    "print(\"f1 Score : \",f1_rfr)"
   ]
  },
  {
   "cell_type": "code",
   "execution_count": 97,
   "id": "834f5c56",
   "metadata": {},
   "outputs": [
    {
     "name": "stdout",
     "output_type": "stream",
     "text": [
      "              precision    recall  f1-score   support\n",
      "\n",
      "           0       0.87      0.85      0.86       117\n",
      "           1       0.73      0.76      0.75        62\n",
      "\n",
      "    accuracy                           0.82       179\n",
      "   macro avg       0.80      0.81      0.80       179\n",
      "weighted avg       0.82      0.82      0.82       179\n",
      "\n"
     ]
    }
   ],
   "source": [
    "print(classification_report(y_test,y_pred_rfr_ht))"
   ]
  },
  {
   "cell_type": "markdown",
   "id": "e008a6aa",
   "metadata": {},
   "source": [
    "## XGBoost"
   ]
  },
  {
   "cell_type": "markdown",
   "id": "cbbe2e68",
   "metadata": {},
   "source": [
    "### Model Creation"
   ]
  },
  {
   "cell_type": "code",
   "execution_count": 82,
   "id": "6bf26d94",
   "metadata": {},
   "outputs": [],
   "source": [
    "import xgboost"
   ]
  },
  {
   "cell_type": "code",
   "execution_count": 83,
   "id": "ed615610",
   "metadata": {},
   "outputs": [
    {
     "data": {
      "text/html": [
       "<style>#sk-container-id-8 {color: black;}#sk-container-id-8 pre{padding: 0;}#sk-container-id-8 div.sk-toggleable {background-color: white;}#sk-container-id-8 label.sk-toggleable__label {cursor: pointer;display: block;width: 100%;margin-bottom: 0;padding: 0.3em;box-sizing: border-box;text-align: center;}#sk-container-id-8 label.sk-toggleable__label-arrow:before {content: \"▸\";float: left;margin-right: 0.25em;color: #696969;}#sk-container-id-8 label.sk-toggleable__label-arrow:hover:before {color: black;}#sk-container-id-8 div.sk-estimator:hover label.sk-toggleable__label-arrow:before {color: black;}#sk-container-id-8 div.sk-toggleable__content {max-height: 0;max-width: 0;overflow: hidden;text-align: left;background-color: #f0f8ff;}#sk-container-id-8 div.sk-toggleable__content pre {margin: 0.2em;color: black;border-radius: 0.25em;background-color: #f0f8ff;}#sk-container-id-8 input.sk-toggleable__control:checked~div.sk-toggleable__content {max-height: 200px;max-width: 100%;overflow: auto;}#sk-container-id-8 input.sk-toggleable__control:checked~label.sk-toggleable__label-arrow:before {content: \"▾\";}#sk-container-id-8 div.sk-estimator input.sk-toggleable__control:checked~label.sk-toggleable__label {background-color: #d4ebff;}#sk-container-id-8 div.sk-label input.sk-toggleable__control:checked~label.sk-toggleable__label {background-color: #d4ebff;}#sk-container-id-8 input.sk-hidden--visually {border: 0;clip: rect(1px 1px 1px 1px);clip: rect(1px, 1px, 1px, 1px);height: 1px;margin: -1px;overflow: hidden;padding: 0;position: absolute;width: 1px;}#sk-container-id-8 div.sk-estimator {font-family: monospace;background-color: #f0f8ff;border: 1px dotted black;border-radius: 0.25em;box-sizing: border-box;margin-bottom: 0.5em;}#sk-container-id-8 div.sk-estimator:hover {background-color: #d4ebff;}#sk-container-id-8 div.sk-parallel-item::after {content: \"\";width: 100%;border-bottom: 1px solid gray;flex-grow: 1;}#sk-container-id-8 div.sk-label:hover label.sk-toggleable__label {background-color: #d4ebff;}#sk-container-id-8 div.sk-serial::before {content: \"\";position: absolute;border-left: 1px solid gray;box-sizing: border-box;top: 0;bottom: 0;left: 50%;z-index: 0;}#sk-container-id-8 div.sk-serial {display: flex;flex-direction: column;align-items: center;background-color: white;padding-right: 0.2em;padding-left: 0.2em;position: relative;}#sk-container-id-8 div.sk-item {position: relative;z-index: 1;}#sk-container-id-8 div.sk-parallel {display: flex;align-items: stretch;justify-content: center;background-color: white;position: relative;}#sk-container-id-8 div.sk-item::before, #sk-container-id-8 div.sk-parallel-item::before {content: \"\";position: absolute;border-left: 1px solid gray;box-sizing: border-box;top: 0;bottom: 0;left: 50%;z-index: -1;}#sk-container-id-8 div.sk-parallel-item {display: flex;flex-direction: column;z-index: 1;position: relative;background-color: white;}#sk-container-id-8 div.sk-parallel-item:first-child::after {align-self: flex-end;width: 50%;}#sk-container-id-8 div.sk-parallel-item:last-child::after {align-self: flex-start;width: 50%;}#sk-container-id-8 div.sk-parallel-item:only-child::after {width: 0;}#sk-container-id-8 div.sk-dashed-wrapped {border: 1px dashed gray;margin: 0 0.4em 0.5em 0.4em;box-sizing: border-box;padding-bottom: 0.4em;background-color: white;}#sk-container-id-8 div.sk-label label {font-family: monospace;font-weight: bold;display: inline-block;line-height: 1.2em;}#sk-container-id-8 div.sk-label-container {text-align: center;}#sk-container-id-8 div.sk-container {/* jupyter's `normalize.less` sets `[hidden] { display: none; }` but bootstrap.min.css set `[hidden] { display: none !important; }` so we also need the `!important` here to be able to override the default hidden behavior on the sphinx rendered scikit-learn.org. See: https://github.com/scikit-learn/scikit-learn/issues/21755 */display: inline-block !important;position: relative;}#sk-container-id-8 div.sk-text-repr-fallback {display: none;}</style><div id=\"sk-container-id-8\" class=\"sk-top-container\"><div class=\"sk-text-repr-fallback\"><pre>XGBClassifier(base_score=None, booster=None, callbacks=None,\n",
       "              colsample_bylevel=None, colsample_bynode=None,\n",
       "              colsample_bytree=None, device=None, early_stopping_rounds=None,\n",
       "              enable_categorical=False, eval_metric=None, feature_types=None,\n",
       "              gamma=None, grow_policy=None, importance_type=None,\n",
       "              interaction_constraints=None, learning_rate=None, max_bin=None,\n",
       "              max_cat_threshold=None, max_cat_to_onehot=None,\n",
       "              max_delta_step=None, max_depth=None, max_leaves=None,\n",
       "              min_child_weight=None, missing=nan, monotone_constraints=None,\n",
       "              multi_strategy=None, n_estimators=None, n_jobs=None,\n",
       "              num_parallel_tree=None, random_state=None, ...)</pre><b>In a Jupyter environment, please rerun this cell to show the HTML representation or trust the notebook. <br />On GitHub, the HTML representation is unable to render, please try loading this page with nbviewer.org.</b></div><div class=\"sk-container\" hidden><div class=\"sk-item\"><div class=\"sk-estimator sk-toggleable\"><input class=\"sk-toggleable__control sk-hidden--visually\" id=\"sk-estimator-id-8\" type=\"checkbox\" checked><label for=\"sk-estimator-id-8\" class=\"sk-toggleable__label sk-toggleable__label-arrow\">XGBClassifier</label><div class=\"sk-toggleable__content\"><pre>XGBClassifier(base_score=None, booster=None, callbacks=None,\n",
       "              colsample_bylevel=None, colsample_bynode=None,\n",
       "              colsample_bytree=None, device=None, early_stopping_rounds=None,\n",
       "              enable_categorical=False, eval_metric=None, feature_types=None,\n",
       "              gamma=None, grow_policy=None, importance_type=None,\n",
       "              interaction_constraints=None, learning_rate=None, max_bin=None,\n",
       "              max_cat_threshold=None, max_cat_to_onehot=None,\n",
       "              max_delta_step=None, max_depth=None, max_leaves=None,\n",
       "              min_child_weight=None, missing=nan, monotone_constraints=None,\n",
       "              multi_strategy=None, n_estimators=None, n_jobs=None,\n",
       "              num_parallel_tree=None, random_state=None, ...)</pre></div></div></div></div></div>"
      ],
      "text/plain": [
       "XGBClassifier(base_score=None, booster=None, callbacks=None,\n",
       "              colsample_bylevel=None, colsample_bynode=None,\n",
       "              colsample_bytree=None, device=None, early_stopping_rounds=None,\n",
       "              enable_categorical=False, eval_metric=None, feature_types=None,\n",
       "              gamma=None, grow_policy=None, importance_type=None,\n",
       "              interaction_constraints=None, learning_rate=None, max_bin=None,\n",
       "              max_cat_threshold=None, max_cat_to_onehot=None,\n",
       "              max_delta_step=None, max_depth=None, max_leaves=None,\n",
       "              min_child_weight=None, missing=nan, monotone_constraints=None,\n",
       "              multi_strategy=None, n_estimators=None, n_jobs=None,\n",
       "              num_parallel_tree=None, random_state=None, ...)"
      ]
     },
     "execution_count": 83,
     "metadata": {},
     "output_type": "execute_result"
    }
   ],
   "source": [
    "from xgboost import XGBClassifier\n",
    "xgb = XGBClassifier()\n",
    "model_xgb = xgb.fit(x_train,y_train)\n",
    "model_xgb"
   ]
  },
  {
   "cell_type": "code",
   "execution_count": 84,
   "id": "c5f841c8",
   "metadata": {},
   "outputs": [],
   "source": [
    "y_xgb = xgb.predict(x_test)"
   ]
  },
  {
   "cell_type": "markdown",
   "id": "65575604",
   "metadata": {},
   "source": [
    "### Model Evaluation"
   ]
  },
  {
   "cell_type": "code",
   "execution_count": 85,
   "id": "8904f596",
   "metadata": {},
   "outputs": [
    {
     "name": "stdout",
     "output_type": "stream",
     "text": [
      "Accuracy Score :  0.8324022346368715\n",
      "Recall Score :  0.7580645161290323\n",
      "Precision Score :  0.7580645161290323\n",
      "f1 Score :  0.7580645161290323\n"
     ]
    }
   ],
   "source": [
    "acc_xgb = accuracy_score(y_test,y_xgb)\n",
    "rec_xgb = recall_score(y_test,y_xgb)\n",
    "prec_xgb = precision_score(y_test,y_xgb)\n",
    "f1_xgb = f1_score(y_test,y_xgb)\n",
    "print(\"Accuracy Score : \",acc_xgb)\n",
    "print(\"Recall Score : \",rec_xgb)\n",
    "print(\"Precision Score : \",prec_xgb)\n",
    "print(\"f1 Score : \",f1_xgb)"
   ]
  },
  {
   "cell_type": "code",
   "execution_count": 86,
   "id": "9977d44a",
   "metadata": {},
   "outputs": [
    {
     "name": "stdout",
     "output_type": "stream",
     "text": [
      "              precision    recall  f1-score   support\n",
      "\n",
      "           0       0.87      0.87      0.87       117\n",
      "           1       0.76      0.76      0.76        62\n",
      "\n",
      "    accuracy                           0.83       179\n",
      "   macro avg       0.81      0.81      0.81       179\n",
      "weighted avg       0.83      0.83      0.83       179\n",
      "\n"
     ]
    }
   ],
   "source": [
    "print(classification_report(y_test,y_xgb))"
   ]
  },
  {
   "cell_type": "markdown",
   "id": "210e5f76",
   "metadata": {},
   "source": [
    "## Hyperparameter Tuning"
   ]
  },
  {
   "cell_type": "code",
   "execution_count": 87,
   "id": "1c3e57ae",
   "metadata": {},
   "outputs": [
    {
     "name": "stdout",
     "output_type": "stream",
     "text": [
      "Fitting 3 folds for each of 100 candidates, totalling 300 fits\n",
      "Best Parameters\n",
      "{'reg_lambda': 0.4, 'reg_alpha': 0.3, 'n_estimators': 130, 'max_depth': 8, 'learning_rate': 0.2, 'gamma': 1.6}\n"
     ]
    }
   ],
   "source": [
    "from sklearn.model_selection import RandomizedSearchCV\n",
    "\n",
    "param_grid = {'gamma' : [0,0.1,0.2,0.4,0.8,1.6,3.2,6.4,12.8,25.6,51.2,102.4,200],\n",
    "             'learning_rate' : [0.01,0.03,0.06,0.1,0.15,0.2,0.25,0.31,0.4,0.5,0.6,0.7],\n",
    "             'max_depth' : [5,6,7,8,9,10,11,12,13,14],\n",
    "             'n_estimators' : [50,65,80,100,115,130,150],\n",
    "             'reg_alpha' : [0,0.1,0.2,0.3,0.4,0.8,1.6,3.2,6.4,12.8,25.6,51.2,102.4,200],\n",
    "             'reg_lambda' : [0,0.1,0.2,0.3,0.4,0.8,1.6,3.2,6.4,12.8,25.6,51.2,102.4,200]}\n",
    "\n",
    "XGB = XGBClassifier(random_state=42,verbosity = 0,silent=0)\n",
    "rcv = RandomizedSearchCV(estimator=XGB, scoring='f1',param_distributions = param_grid,n_iter=100,cv=3,verbose=2,random_state=42,n_jobs=-1)\n",
    "\n",
    "\n",
    "rcv.fit(x_train,y_train)\n",
    "cv_best_params = rcv.best_params_\n",
    "print('Best Parameters')\n",
    "print(cv_best_params)"
   ]
  },
  {
   "cell_type": "code",
   "execution_count": 102,
   "id": "38524da2",
   "metadata": {},
   "outputs": [
    {
     "data": {
      "text/html": [
       "<style>#sk-container-id-12 {color: black;}#sk-container-id-12 pre{padding: 0;}#sk-container-id-12 div.sk-toggleable {background-color: white;}#sk-container-id-12 label.sk-toggleable__label {cursor: pointer;display: block;width: 100%;margin-bottom: 0;padding: 0.3em;box-sizing: border-box;text-align: center;}#sk-container-id-12 label.sk-toggleable__label-arrow:before {content: \"▸\";float: left;margin-right: 0.25em;color: #696969;}#sk-container-id-12 label.sk-toggleable__label-arrow:hover:before {color: black;}#sk-container-id-12 div.sk-estimator:hover label.sk-toggleable__label-arrow:before {color: black;}#sk-container-id-12 div.sk-toggleable__content {max-height: 0;max-width: 0;overflow: hidden;text-align: left;background-color: #f0f8ff;}#sk-container-id-12 div.sk-toggleable__content pre {margin: 0.2em;color: black;border-radius: 0.25em;background-color: #f0f8ff;}#sk-container-id-12 input.sk-toggleable__control:checked~div.sk-toggleable__content {max-height: 200px;max-width: 100%;overflow: auto;}#sk-container-id-12 input.sk-toggleable__control:checked~label.sk-toggleable__label-arrow:before {content: \"▾\";}#sk-container-id-12 div.sk-estimator input.sk-toggleable__control:checked~label.sk-toggleable__label {background-color: #d4ebff;}#sk-container-id-12 div.sk-label input.sk-toggleable__control:checked~label.sk-toggleable__label {background-color: #d4ebff;}#sk-container-id-12 input.sk-hidden--visually {border: 0;clip: rect(1px 1px 1px 1px);clip: rect(1px, 1px, 1px, 1px);height: 1px;margin: -1px;overflow: hidden;padding: 0;position: absolute;width: 1px;}#sk-container-id-12 div.sk-estimator {font-family: monospace;background-color: #f0f8ff;border: 1px dotted black;border-radius: 0.25em;box-sizing: border-box;margin-bottom: 0.5em;}#sk-container-id-12 div.sk-estimator:hover {background-color: #d4ebff;}#sk-container-id-12 div.sk-parallel-item::after {content: \"\";width: 100%;border-bottom: 1px solid gray;flex-grow: 1;}#sk-container-id-12 div.sk-label:hover label.sk-toggleable__label {background-color: #d4ebff;}#sk-container-id-12 div.sk-serial::before {content: \"\";position: absolute;border-left: 1px solid gray;box-sizing: border-box;top: 0;bottom: 0;left: 50%;z-index: 0;}#sk-container-id-12 div.sk-serial {display: flex;flex-direction: column;align-items: center;background-color: white;padding-right: 0.2em;padding-left: 0.2em;position: relative;}#sk-container-id-12 div.sk-item {position: relative;z-index: 1;}#sk-container-id-12 div.sk-parallel {display: flex;align-items: stretch;justify-content: center;background-color: white;position: relative;}#sk-container-id-12 div.sk-item::before, #sk-container-id-12 div.sk-parallel-item::before {content: \"\";position: absolute;border-left: 1px solid gray;box-sizing: border-box;top: 0;bottom: 0;left: 50%;z-index: -1;}#sk-container-id-12 div.sk-parallel-item {display: flex;flex-direction: column;z-index: 1;position: relative;background-color: white;}#sk-container-id-12 div.sk-parallel-item:first-child::after {align-self: flex-end;width: 50%;}#sk-container-id-12 div.sk-parallel-item:last-child::after {align-self: flex-start;width: 50%;}#sk-container-id-12 div.sk-parallel-item:only-child::after {width: 0;}#sk-container-id-12 div.sk-dashed-wrapped {border: 1px dashed gray;margin: 0 0.4em 0.5em 0.4em;box-sizing: border-box;padding-bottom: 0.4em;background-color: white;}#sk-container-id-12 div.sk-label label {font-family: monospace;font-weight: bold;display: inline-block;line-height: 1.2em;}#sk-container-id-12 div.sk-label-container {text-align: center;}#sk-container-id-12 div.sk-container {/* jupyter's `normalize.less` sets `[hidden] { display: none; }` but bootstrap.min.css set `[hidden] { display: none !important; }` so we also need the `!important` here to be able to override the default hidden behavior on the sphinx rendered scikit-learn.org. See: https://github.com/scikit-learn/scikit-learn/issues/21755 */display: inline-block !important;position: relative;}#sk-container-id-12 div.sk-text-repr-fallback {display: none;}</style><div id=\"sk-container-id-12\" class=\"sk-top-container\"><div class=\"sk-text-repr-fallback\"><pre>XGBClassifier(base_score=None, booster=None, callbacks=None,\n",
       "              colsample_bylevel=None, colsample_bynode=None,\n",
       "              colsample_bytree=None, device=None, early_stopping_rounds=None,\n",
       "              enable_categorical=False, eval_metric=None, feature_types=None,\n",
       "              gamma=1.6, grow_policy=None, importance_type=None,\n",
       "              interaction_constraints=None, learning_rate=0.2, max_bin=None,\n",
       "              max_cat_threshold=None, max_cat_to_onehot=None,\n",
       "              max_delta_step=None, max_depth=8, max_leaves=None,\n",
       "              min_child_weight=None, missing=nan, monotone_constraints=None,\n",
       "              multi_strategy=None, n_estimators=130, n_jobs=None,\n",
       "              num_parallel_tree=None, random_state=None, ...)</pre><b>In a Jupyter environment, please rerun this cell to show the HTML representation or trust the notebook. <br />On GitHub, the HTML representation is unable to render, please try loading this page with nbviewer.org.</b></div><div class=\"sk-container\" hidden><div class=\"sk-item\"><div class=\"sk-estimator sk-toggleable\"><input class=\"sk-toggleable__control sk-hidden--visually\" id=\"sk-estimator-id-12\" type=\"checkbox\" checked><label for=\"sk-estimator-id-12\" class=\"sk-toggleable__label sk-toggleable__label-arrow\">XGBClassifier</label><div class=\"sk-toggleable__content\"><pre>XGBClassifier(base_score=None, booster=None, callbacks=None,\n",
       "              colsample_bylevel=None, colsample_bynode=None,\n",
       "              colsample_bytree=None, device=None, early_stopping_rounds=None,\n",
       "              enable_categorical=False, eval_metric=None, feature_types=None,\n",
       "              gamma=1.6, grow_policy=None, importance_type=None,\n",
       "              interaction_constraints=None, learning_rate=0.2, max_bin=None,\n",
       "              max_cat_threshold=None, max_cat_to_onehot=None,\n",
       "              max_delta_step=None, max_depth=8, max_leaves=None,\n",
       "              min_child_weight=None, missing=nan, monotone_constraints=None,\n",
       "              multi_strategy=None, n_estimators=130, n_jobs=None,\n",
       "              num_parallel_tree=None, random_state=None, ...)</pre></div></div></div></div></div>"
      ],
      "text/plain": [
       "XGBClassifier(base_score=None, booster=None, callbacks=None,\n",
       "              colsample_bylevel=None, colsample_bynode=None,\n",
       "              colsample_bytree=None, device=None, early_stopping_rounds=None,\n",
       "              enable_categorical=False, eval_metric=None, feature_types=None,\n",
       "              gamma=1.6, grow_policy=None, importance_type=None,\n",
       "              interaction_constraints=None, learning_rate=0.2, max_bin=None,\n",
       "              max_cat_threshold=None, max_cat_to_onehot=None,\n",
       "              max_delta_step=None, max_depth=8, max_leaves=None,\n",
       "              min_child_weight=None, missing=nan, monotone_constraints=None,\n",
       "              multi_strategy=None, n_estimators=130, n_jobs=None,\n",
       "              num_parallel_tree=None, random_state=None, ...)"
      ]
     },
     "execution_count": 102,
     "metadata": {},
     "output_type": "execute_result"
    }
   ],
   "source": [
    "XGB_ht = XGBClassifier(reg_lambda= 0.4, reg_alpha= 0.3, n_estimators= 130, max_depth= 8, learning_rate= 0.2, gamma= 1.6)\n",
    "XGB_ht.fit(x_train,y_train)"
   ]
  },
  {
   "cell_type": "code",
   "execution_count": 103,
   "id": "dc456ade",
   "metadata": {},
   "outputs": [],
   "source": [
    "y_pred_xgb_ht = XGB_ht.predict(x_test)"
   ]
  },
  {
   "cell_type": "markdown",
   "id": "8f1c5e06",
   "metadata": {},
   "source": [
    "## Evaluation"
   ]
  },
  {
   "cell_type": "code",
   "execution_count": 104,
   "id": "ea574e4e",
   "metadata": {},
   "outputs": [
    {
     "name": "stdout",
     "output_type": "stream",
     "text": [
      "Accuracy Score :  0.7988826815642458\n",
      "Recall Score :  0.7096774193548387\n",
      "Precision Score :  0.7096774193548387\n",
      "f1 Score :  0.7096774193548389\n"
     ]
    }
   ],
   "source": [
    "acc_xgb_ht = accuracy_score(y_test,y_pred_xgb_ht)\n",
    "rec_xgb_ht = recall_score(y_test,y_pred_xgb_ht)\n",
    "prec_xgb_ht = precision_score(y_test,y_pred_xgb_ht)\n",
    "f1_xgb_ht = f1_score(y_test,y_pred_xgb_ht)\n",
    "print(\"Accuracy Score : \",acc_xgb_ht)\n",
    "print(\"Recall Score : \",rec_xgb_ht)\n",
    "print(\"Precision Score : \",prec_xgb_ht)\n",
    "print(\"f1 Score : \",f1_xgb_ht)"
   ]
  },
  {
   "cell_type": "code",
   "execution_count": 105,
   "id": "a3501d9b",
   "metadata": {},
   "outputs": [
    {
     "name": "stdout",
     "output_type": "stream",
     "text": [
      "              precision    recall  f1-score   support\n",
      "\n",
      "           0       0.85      0.85      0.85       117\n",
      "           1       0.71      0.71      0.71        62\n",
      "\n",
      "    accuracy                           0.80       179\n",
      "   macro avg       0.78      0.78      0.78       179\n",
      "weighted avg       0.80      0.80      0.80       179\n",
      "\n"
     ]
    }
   ],
   "source": [
    "print(classification_report(y_test,y_pred_xgb_ht))"
   ]
  },
  {
   "cell_type": "markdown",
   "id": "c47c6b4d",
   "metadata": {},
   "source": [
    "## Final Report"
   ]
  },
  {
   "cell_type": "code",
   "execution_count": 106,
   "id": "a6d4bd94",
   "metadata": {},
   "outputs": [
    {
     "name": "stdout",
     "output_type": "stream",
     "text": [
      "Accuracy score in Logistic Regression is 78.2122905027933%\n",
      "Accuracy score in KNN is 69.27374301675978%\n",
      "Accuracy score in Decision Tree is 79.88826815642457%\n",
      "Accuracy score in Random Forest is 82.12290502793296%\n",
      "Accuracy score in XGBoost is 83.24022346368714%\n"
     ]
    }
   ],
   "source": [
    "scores = [acc_lr,acc_knn,acc_dc,acc_rfr,acc_xgb]\n",
    "algorithms = ['Logistic Regression','KNN','Decision Tree','Random Forest','XGBoost']\n",
    "\n",
    "for i in range(len(scores)):\n",
    "    print('Accuracy score in' + ' ' + algorithms[i] + ' ' + 'is' + ' ' + f'{scores[i]*100}' + '%')"
   ]
  },
  {
   "cell_type": "code",
   "execution_count": 93,
   "id": "31c78138",
   "metadata": {},
   "outputs": [
    {
     "data": {
      "image/png": "[encoded data removed]",
      "text/plain": [
       "<Figure size 1000x600 with 1 Axes>"
      ]
     },
     "metadata": {},
     "output_type": "display_data"
    }
   ],
   "source": [
    "plt.figure(figsize=(10,6))\n",
    "plt.xlabel(\"Algorithms\")\n",
    "plt.ylabel('Accuracy Scores')\n",
    "ax = sns.barplot(x=algorithms,y=scores)\n",
    "for label in ax.containers:\n",
    "    ax.bar_label(label)\n",
    "    plt.xticks(rotation=90)\n",
    "plt.tight_layout()\n",
    "plt.show()"
   ]
  },
  {
   "cell_type": "markdown",
   "id": "fd2cc414",
   "metadata": {},
   "source": [
    "## Summary"
   ]
  },
  {
   "cell_type": "markdown",
   "id": "7d306ddc",
   "metadata": {},
   "source": [
    "- After trying various model, XGBoost came out to be the best model with 83% accuracy."
   ]
  },
  {
   "cell_type": "markdown",
   "id": "08e84e8d",
   "metadata": {},
   "source": [
    "## Conclusion\n",
    "\n",
    "    \n",
    "    In conclusion, our machine learning model utilizing XGBoost has yielded best performance in predicting the survival of passengers, achieving an accuracy score of 83%. This score indicates that approximately 83% of the variability in the target variable, is explained by the features included in the model."
   ]
  },
  {
   "cell_type": "markdown",
   "id": "660fcb76",
   "metadata": {},
   "source": [
    "## Challenges Faced in Data and Techniques\n",
    "\n",
    "**Data Quality and Preprocessing**\n",
    "\n",
    "\n",
    "    The data was incomplete and hadling them is the initial challenge faced. Cleaning and preprocessing the data involves    handling null values, outliers and ensuring consistency in data formats.\n",
    "    \n",
    "\n",
    "**Feature Engineering**\n",
    "\n",
    "\n",
    "    Deriving meaningful features from raw data presents a significant challenge. Techniques for feature selection and extraction play a crucial role in enhancing model performance by refining the input data, ensuring its relevance,and improving the model's ability to find out essential patterns and relationships.\n",
    "    \n",
    "\n",
    "**Categorical Variables**\n",
    "\n",
    "\n",
    "    Encoding the categorical type columns like engine-type, fuel-type, etc to make them suitable for machine Learning model is what the challenge we faced. "
   ]
  },
  {
   "cell_type": "markdown",
   "id": "81f32376",
   "metadata": {},
   "source": [
    "## Techniques Used in Automobile import price Prediction:\n",
    "\n",
    "   **Model Selection:**\n",
    "\n",
    "     Choosing the right machine learning algorithm or ensemble of algorithms can be challenging. Common choices\n",
    "     for regression tasks like flight fare prediction include XGBoost, Random Forest, and Linear Regression.\n",
    "    \n",
    "   **Cross-Validation:**\n",
    "\n",
    "      Cross-validation is used to assess the model's performance and ensure it generalizes well to unseen data. \n",
    "      Common techniques include k-fold cross-validation.\n",
    "           \n",
    "   **Hyperparameter Tuning:**\n",
    "\n",
    "     Hyperparameter tuning using techniques like grid search or random search helps optimize model parameters \n",
    "     to achieve the best performance.\n",
    "          \n",
    "   **Ensemble Techniques:**\n",
    "\n",
    "     Ensemble methods such as stacking or blending multiple models (e.g., XGBoost, Random Forest) can improve predictive accuracy.\n",
    "     \n",
    "   **Feature Engineering for Categorical Data:**\n",
    "\n",
    "     Techniques such as one-hot encoding, label encoding, or target encoding are used to convert \n",
    "     categorical variables into a suitable format for modeling."
   ]
  },
  {
   "cell_type": "code",
   "execution_count": null,
   "id": "53ee894f",
   "metadata": {},
   "outputs": [],
   "source": []
  }
 ],
 "metadata": {
  "kernelspec": {
   "display_name": "Python 3 (ipykernel)",
   "language": "python",
   "name": "python3"
  },
  "language_info": {
   "codemirror_mode": {
    "name": "ipython",
    "version": 3
   },
   "file_extension": ".py",
   "mimetype": "text/x-python",
   "name": "python",
   "nbconvert_exporter": "python",
   "pygments_lexer": "ipython3",
   "version": "3.11.4"
  }
 },
 "nbformat": 4,
 "nbformat_minor": 5
}
